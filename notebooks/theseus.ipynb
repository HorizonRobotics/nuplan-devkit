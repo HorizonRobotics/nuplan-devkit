{
 "cells": [
  {
   "cell_type": "code",
   "execution_count": 2,
   "id": "c868b073-1372-4a19-9d77-c5c7bd46edfa",
   "metadata": {
    "tags": []
   },
   "outputs": [],
   "source": [
    "%load_ext autoreload\n",
    "%autoreload 2\n",
    "%matplotlib inline"
   ]
  },
  {
   "cell_type": "code",
   "execution_count": 3,
   "id": "2cb1b102-9fa6-4af0-9d91-2fd47c2bc4ac",
   "metadata": {
    "tags": []
   },
   "outputs": [],
   "source": [
    "from matplotlib import pyplot as plt\n",
    "from typing import List\n",
    "import numpy as np\n",
    "import torch\n",
    "import theseus as th\n",
    "from nuplan_extent.planning.training.closed_loop.batched_nonlinear_smoother import BatchedNonLinearSmoother\n",
    "from nuplan.planning.training.data_augmentation.data_augmentation_util import ConstrainedNonlinearSmoother\n",
    "import gzip\n",
    "import pickle\n",
    "import time\n",
    "import glob\n",
    "import os\n",
    "from pathlib import Path\n",
    "import pandas"
   ]
  },
  {
   "cell_type": "code",
   "execution_count": 4,
   "id": "d8e60841-91f9-47a8-befb-a0533ab4b40a",
   "metadata": {},
   "outputs": [],
   "source": [
    "def get_random_perturb() -> List[float]:\n",
    "    return [np.random.uniform(-1.5, 1.5), np.random.uniform(-1.5, 1.5), np.random.uniform(-np.pi/6, np.pi/6), np.random.uniform(0.0, 3.0)]\n",
    "\n",
    "def get_th_input(x_curr, ref_traj: List[np.ndarray], device='cuda:0'):\n",
    "    x_curr = torch.tensor(x_curr).to(torch.float).to(device)\n",
    "    ref_traj = torch.stack([torch.from_numpy(i) for i in ref_traj], dim=0)\n",
    "    bsize, _, dim = ref_traj.shape\n",
    "    zeros = torch.zeros(bsize, 1, dim, dtype=ref_traj.dtype)\n",
    "    ref_traj = torch.concat([zeros, ref_traj], dim=1).to(torch.float32).to(device)\n",
    "    return x_curr, ref_traj\n",
    "\n",
    "def get_cas_input(x_curr, ref_traj: List[np.ndarray]):\n",
    "    ref_traj = [i.tolist() for i in ref_traj]\n",
    "    ref_traj = [[[0., 0., 0.]] + i for i in ref_traj]\n",
    "    return x_curr, ref_traj\n",
    "\n",
    "def compute_ade(output_th, output_cas, gt):\n",
    "    xy_th = output_th[:, :, :2].cpu().numpy()\n",
    "    xy_cas = output_cas[:, :, :2]\n",
    "    xy_gt = gt[:, :, :2]\n",
    "    \n",
    "    xy_diff_cas = xy_th - xy_cas\n",
    "    xy_diff_gt = xy_th - xy_gt\n",
    "    xy_diff_cas2gt = xy_cas - xy_gt\n",
    "    \n",
    "    result_cas = np.hypot(xy_diff_cas[..., 0], xy_diff_cas[..., 1]).mean() # reduced across batch and time dimension\n",
    "    result_gt = np.hypot(xy_diff_gt[..., 0], xy_diff_gt[..., 1]).mean()\n",
    "    result_cas2gt = np.hypot(xy_diff_cas2gt[..., 0], xy_diff_cas2gt[..., 1]).mean()\n",
    "    return result_cas, result_gt, result_cas2gt\n",
    "\n",
    "def compute_l1_fde(output_th, output_cas, gt):\n",
    "    xy_th = output_th[:, -1, :2].cpu().numpy()\n",
    "    xy_cas = output_cas[:, -1, :2] # [N, 2]\n",
    "    xy_gt = gt[:, -1, :2]\n",
    "    \n",
    "    xy_diff_cas = xy_th - xy_cas\n",
    "    xy_diff_gt = xy_th - xy_gt\n",
    "    \n",
    "    result_cas = np.hypot(xy_diff_cas[..., 0], xy_diff_cas[..., 1]).mean() # reduced across batch\n",
    "    result_gt = np.hypot(xy_diff_gt[..., 0], xy_diff_gt[..., 1]).mean()\n",
    "    \n",
    "    return result_cas, result_gt\n",
    "    \n",
    "# For smoothness check, use square of jerk\n",
    "# https://www.johndcook.com/blog/2018/03/30/curvature-and-automatic-differentiation/\n",
    "def compute_smoothness(output_th, output_cas):\n",
    "    def curvature(x, y):\n",
    "        # Calculate the first and second derivatives\n",
    "        dx = np.gradient(x)\n",
    "        dy = np.gradient(y)\n",
    "        d2x = np.gradient(dx)\n",
    "        d2y = np.gradient(dy)\n",
    "\n",
    "        # Calculate the curvature\n",
    "        num = np.abs(d2x * dy - dx * d2y)\n",
    "        den = (dx**2 + dy**2)**(3/2)\n",
    "        k = num / den\n",
    "\n",
    "        return k\n",
    "\n",
    "    xy_th = output_th[:, :, :2].cpu().numpy()\n",
    "    xy_cas = output_cas[:, :, :2]\n",
    "    \n",
    "    curv_th = np.zeros(xy_th.shape[0])\n",
    "    for i in range(xy_th.shape[0]):\n",
    "        c = curvature(xy_th[i, :, 0], xy_th[i, :, 1])\n",
    "        curv_th[i] = np.mean(c)\n",
    "    \n",
    "    curv_cas = np.zeros(xy_cas.shape[0])\n",
    "    for i in range(xy_cas.shape[0]):\n",
    "        c = curvature(xy_cas[i, :, 0],xy_cas[i, :, 1])\n",
    "        curv_cas[i] = np.mean(c)\n",
    "        \n",
    "    return curv_th, curv_cas"
   ]
  },
  {
   "cell_type": "markdown",
   "id": "614901c5-3bf6-4798-9017-92039c108a99",
   "metadata": {
    "tags": []
   },
   "source": [
    "# Prepare data"
   ]
  },
  {
   "cell_type": "code",
   "execution_count": 5,
   "id": "603a1314-27d9-404e-82db-e3399fb4ea55",
   "metadata": {},
   "outputs": [],
   "source": [
    "data_root = Path(\"/mnt/nas20/nuplan_cached/trainval_closed_loop_raster6_no_overlap_1500_5Hz/\")\n",
    "meta_file = Path(\"/mnt/nas20/nuplan_cached/trainval_closed_loop_raster6_no_overlap_1500_5Hz_metadata/trainval_closed_loop_raster6_no_overlap_1500_5Hz_metadata_node_0.csv\")"
   ]
  },
  {
   "cell_type": "code",
   "execution_count": 6,
   "id": "7408bdf9-8d2d-4ea2-aad9-2deaa19e4dec",
   "metadata": {},
   "outputs": [],
   "source": [
    "csv = pandas.read_csv(meta_file)\n",
    "\n",
    "traj_files = [Path(i) for i in csv['file_name'].tolist() if 'trajectory' in i]"
   ]
  },
  {
   "cell_type": "code",
   "execution_count": 15,
   "id": "105528ec-3960-457a-a5f4-93de0bad8034",
   "metadata": {},
   "outputs": [],
   "source": [
    "traj_med_v = [i.with_suffix('.gz') for i in traj_files if i.parents[2].stem == 'medium_magnitude_speed'][:80]\n",
    "traj_high_v = [i.with_suffix('.gz') for i in traj_files if i.parents[2].stem == 'high_magnitude_speed'][:80]\n",
    "traj_stationary = [i.with_suffix('.gz') for i in traj_files if i.parents[2].stem == 'stationary'][:80]\n",
    "traj_chg_right = [i.with_suffix('.gz') for i in traj_files if i.parents[2].stem == 'changing_lane_to_right'][:80]\n",
    "traj_right_turn = [i.with_suffix('.gz') for i in traj_files if i.parents[2].stem == 'starting_right_turn'][:80]"
   ]
  },
  {
   "cell_type": "code",
   "execution_count": 16,
   "id": "080ef8ea-eea3-44f3-9e49-7ddf01be29e5",
   "metadata": {},
   "outputs": [
    {
     "name": "stdout",
     "output_type": "stream",
     "text": [
      "Length of traj_med_v: 80\n",
      "Length of traj_high_v: 80\n",
      "Length of traj_stationary: 80\n",
      "Length of traj_chg_right: 80\n",
      "Length of traj_right_turn: 80\n"
     ]
    }
   ],
   "source": [
    "print(f\"Length of traj_med_v: {len(traj_med_v)}\")\n",
    "print(f\"Length of traj_high_v: {len(traj_high_v)}\")\n",
    "print(f\"Length of traj_stationary: {len(traj_stationary)}\")\n",
    "print(f\"Length of traj_chg_right: {len(traj_chg_right)}\")\n",
    "print(f\"Length of traj_right_turn: {len(traj_right_turn)}\")"
   ]
  },
  {
   "cell_type": "markdown",
   "id": "ae7d6e1f-c91e-4ef6-ba02-bf89d4949fec",
   "metadata": {
    "tags": []
   },
   "source": [
    "## Select the scenario type here."
   ]
  },
  {
   "cell_type": "code",
   "execution_count": 18,
   "id": "a64f813d-16cc-4856-9821-45f1e812d6f8",
   "metadata": {},
   "outputs": [],
   "source": [
    "def load_data(path):\n",
    "    with gzip.open(path) as f:\n",
    "        data = pickle.load(f)['data']\n",
    "    return data\n",
    "\n",
    "data = [load_data(i) for i in traj_right_turn]"
   ]
  },
  {
   "cell_type": "code",
   "execution_count": 19,
   "id": "4da9b427-3f51-4ad6-b165-532918f08999",
   "metadata": {},
   "outputs": [
    {
     "name": "stdout",
     "output_type": "stream",
     "text": [
      "x_curr_th shape torch.Size([80, 4]), ref_traj_th shape torch.Size([80, 17, 3])\n",
      "x_curr_cas shape 80\n",
      "batch_size 80\n"
     ]
    }
   ],
   "source": [
    "perturb = [get_random_perturb() for _ in range(len(data))]\n",
    "x_curr_th, ref_traj_th = get_th_input(perturb, data)\n",
    "x_curr_cas, ref_traj_cas = get_cas_input(perturb, data)\n",
    "\n",
    "batch_size = x_curr_th.shape[0]\n",
    "\n",
    "print(f\"x_curr_th shape {x_curr_th.shape}, ref_traj_th shape {ref_traj_th.shape}\")\n",
    "print(f\"x_curr_cas shape {len(x_curr_cas)}\")\n",
    "print(f\"batch_size {batch_size}\")"
   ]
  },
  {
   "cell_type": "markdown",
   "id": "b41a8998-4baf-4a2c-a85c-5906c54b7858",
   "metadata": {},
   "source": [
    "## Also prepare a version for drawing."
   ]
  },
  {
   "cell_type": "code",
   "execution_count": 32,
   "id": "cca740e9-b715-4d60-b2dc-74753f0df237",
   "metadata": {},
   "outputs": [],
   "source": [
    "x_curr_draw = np.array(perturb)\n",
    "ref_traj_draw = np.array(ref_traj_cas)"
   ]
  },
  {
   "cell_type": "markdown",
   "id": "85901af2-c639-4ea0-94e0-d6b9bb291ffb",
   "metadata": {},
   "source": [
    "# Create smoothers"
   ]
  },
  {
   "cell_type": "code",
   "execution_count": 73,
   "id": "ba03a2ce-13bf-4950-bf22-c84096fec28d",
   "metadata": {},
   "outputs": [],
   "source": [
    "device = torch.device('cuda:0')\n",
    "\n",
    "smoother = BatchedNonLinearSmoother(trajectory_len=16, dt=0.5, batch_size=80, device=device)\n",
    "\n",
    "smoother2 = ConstrainedNonlinearSmoother(trajectory_len=16, dt=0.5)"
   ]
  },
  {
   "cell_type": "markdown",
   "id": "9554f832-e915-44b9-b438-27584dbc77fe",
   "metadata": {},
   "source": [
    "## TH smoother experiment"
   ]
  },
  {
   "cell_type": "code",
   "execution_count": 74,
   "id": "7afc274e-3e68-4ee7-bd4c-2f460691acfe",
   "metadata": {},
   "outputs": [
    {
     "name": "stdout",
     "output_type": "stream",
     "text": [
      "Nonlinear optimizer. Iteration: 0. Error: 1670.9130859375\n",
      "Nonlinear optimizer. Iteration: 1. Error: 1356.08154296875\n",
      "Nonlinear optimizer. Iteration: 2. Error: 1100.7777099609375\n",
      "Nonlinear optimizer. Iteration: 3. Error: 893.7428588867188\n",
      "Nonlinear optimizer. Iteration: 4. Error: 725.8604125976562\n",
      "Nonlinear optimizer. Iteration: 5. Error: 589.7240600585938\n",
      "Nonlinear optimizer. Iteration: 6. Error: 479.3312683105469\n",
      "Nonlinear optimizer. Iteration: 7. Error: 389.8128356933594\n",
      "Nonlinear optimizer. Iteration: 8. Error: 317.2215270996094\n",
      "Nonlinear optimizer. Iteration: 9. Error: 258.35748291015625\n",
      "Nonlinear optimizer. Iteration: 10. Error: 210.62442016601562\n",
      "Nonlinear optimizer. Iteration: 11. Error: 171.91653442382812\n",
      "Nonlinear optimizer. Iteration: 12. Error: 140.5272674560547\n",
      "Nonlinear optimizer. Iteration: 13. Error: 115.07280731201172\n",
      "Nonlinear optimizer. Iteration: 14. Error: 94.4308090209961\n",
      "Nonlinear optimizer. Iteration: 15. Error: 77.69172668457031\n",
      "Nonlinear optimizer. Iteration: 16. Error: 64.1172103881836\n",
      "Nonlinear optimizer. Iteration: 17. Error: 53.10906982421875\n",
      "Nonlinear optimizer. Iteration: 18. Error: 44.1820182800293\n",
      "Nonlinear optimizer. Iteration: 19. Error: 36.94248580932617\n",
      "Nonlinear optimizer. Iteration: 20. Error: 31.07146644592285\n",
      "Nonlinear optimizer. Iteration: 21. Error: 26.310260772705078\n",
      "Nonlinear optimizer. Iteration: 22. Error: 22.448999404907227\n",
      "Nonlinear optimizer. Iteration: 23. Error: 19.317594528198242\n",
      "Nonlinear optimizer. Iteration: 24. Error: 16.778034210205078\n",
      "Nonlinear optimizer. Iteration: 25. Error: 14.718429565429688\n",
      "Nonlinear optimizer. Iteration: 26. Error: 13.048067092895508\n",
      "Nonlinear optimizer. Iteration: 27. Error: 11.69335651397705\n",
      "Nonlinear optimizer. Iteration: 28. Error: 10.594629287719727\n",
      "Nonlinear optimizer. Iteration: 29. Error: 9.703520774841309\n",
      "Nonlinear optimizer. Iteration: 30. Error: 8.98078727722168\n",
      "dynamic_constraint_0 tensor([ 0.6070, -0.0295, -0.0377,  0.0661], device='cuda:0')\n",
      "dynamic_constraint_1 tensor([ 0.5459, -0.0366, -0.0207, -0.0021], device='cuda:0')\n",
      "dynamic_constraint_2 tensor([ 0.4783, -0.0450, -0.0196, -0.0307], device='cuda:0')\n",
      "dynamic_constraint_3 tensor([ 0.4305, -0.0593, -0.0223, -0.0329], device='cuda:0')\n",
      "dynamic_constraint_4 tensor([ 0.4039, -0.0788, -0.0230, -0.0231], device='cuda:0')\n",
      "dynamic_constraint_5 tensor([ 0.3881, -0.1021, -0.0222, -0.0115], device='cuda:0')\n",
      "dynamic_constraint_6 tensor([ 0.3765, -0.1279, -0.0212, -0.0033], device='cuda:0')\n",
      "dynamic_constraint_7 tensor([ 0.3641, -0.1552, -0.0205,  0.0006], device='cuda:0')\n",
      "dynamic_constraint_8 tensor([ 0.3491, -0.1835, -0.0198,  0.0012], device='cuda:0')\n",
      "dynamic_constraint_9 tensor([ 3.2935e-01, -2.1159e-01, -1.8784e-02,  3.1970e-04], device='cuda:0')\n",
      "dynamic_constraint_10 tensor([ 0.3062, -0.2383, -0.0166, -0.0009], device='cuda:0')\n",
      "dynamic_constraint_11 tensor([ 0.2827, -0.2623, -0.0140, -0.0017], device='cuda:0')\n",
      "dynamic_constraint_12 tensor([ 0.2624, -0.2815, -0.0118, -0.0022], device='cuda:0')\n",
      "dynamic_constraint_13 tensor([ 0.2442, -0.2944, -0.0100, -0.0025], device='cuda:0')\n",
      "dynamic_constraint_14 tensor([ 0.2298, -0.3014, -0.0078, -0.0027], device='cuda:0')\n",
      "dynamic_constraint_15 tensor([ 0.2185, -0.3027, -0.0053, -0.0029], device='cuda:0')\n",
      "initial_pos_constraint tensor([ 0.2388, -0.0376, -0.0663,  0.1734], device='cuda:0')\n",
      "speed_constraint_0 tensor([0.], device='cuda:0')\n",
      "speed_constraint_1 tensor([0.], device='cuda:0')\n",
      "speed_constraint_2 tensor([0.], device='cuda:0')\n",
      "speed_constraint_3 tensor([0.], device='cuda:0')\n",
      "speed_constraint_4 tensor([0.], device='cuda:0')\n",
      "speed_constraint_5 tensor([0.], device='cuda:0')\n",
      "speed_constraint_6 tensor([0.], device='cuda:0')\n",
      "speed_constraint_7 tensor([0.], device='cuda:0')\n",
      "speed_constraint_8 tensor([0.], device='cuda:0')\n",
      "speed_constraint_9 tensor([0.], device='cuda:0')\n",
      "speed_constraint_10 tensor([0.], device='cuda:0')\n",
      "speed_constraint_11 tensor([0.], device='cuda:0')\n",
      "speed_constraint_12 tensor([0.], device='cuda:0')\n",
      "speed_constraint_13 tensor([0.], device='cuda:0')\n",
      "speed_constraint_14 tensor([0.], device='cuda:0')\n",
      "speed_constraint_15 tensor([0.], device='cuda:0')\n",
      "yaw_rate_constraint_0 tensor([0.], device='cuda:0')\n",
      "yaw_rate_constraint_1 tensor([0.], device='cuda:0')\n",
      "yaw_rate_constraint_2 tensor([0.], device='cuda:0')\n",
      "yaw_rate_constraint_3 tensor([0.], device='cuda:0')\n",
      "yaw_rate_constraint_4 tensor([0.], device='cuda:0')\n",
      "yaw_rate_constraint_5 tensor([0.], device='cuda:0')\n",
      "yaw_rate_constraint_6 tensor([0.], device='cuda:0')\n",
      "yaw_rate_constraint_7 tensor([0.], device='cuda:0')\n",
      "yaw_rate_constraint_8 tensor([0.], device='cuda:0')\n",
      "yaw_rate_constraint_9 tensor([0.], device='cuda:0')\n",
      "yaw_rate_constraint_10 tensor([0.], device='cuda:0')\n",
      "yaw_rate_constraint_11 tensor([0.], device='cuda:0')\n",
      "yaw_rate_constraint_12 tensor([0.], device='cuda:0')\n",
      "yaw_rate_constraint_13 tensor([0.], device='cuda:0')\n",
      "yaw_rate_constraint_14 tensor([0.], device='cuda:0')\n",
      "yaw_rate_constraint_15 tensor([0.], device='cuda:0')\n",
      "lateral_accel_constraint_0 tensor([0.], device='cuda:0')\n",
      "lateral_accel_constraint_1 tensor([0.], device='cuda:0')\n",
      "lateral_accel_constraint_2 tensor([0.], device='cuda:0')\n",
      "lateral_accel_constraint_3 tensor([0.], device='cuda:0')\n",
      "lateral_accel_constraint_4 tensor([0.], device='cuda:0')\n",
      "lateral_accel_constraint_5 tensor([0.], device='cuda:0')\n",
      "lateral_accel_constraint_6 tensor([0.], device='cuda:0')\n",
      "lateral_accel_constraint_7 tensor([0.], device='cuda:0')\n",
      "lateral_accel_constraint_8 tensor([0.], device='cuda:0')\n",
      "lateral_accel_constraint_9 tensor([0.], device='cuda:0')\n",
      "lateral_accel_constraint_10 tensor([0.], device='cuda:0')\n",
      "lateral_accel_constraint_11 tensor([0.], device='cuda:0')\n",
      "lateral_accel_constraint_12 tensor([0.], device='cuda:0')\n",
      "lateral_accel_constraint_13 tensor([0.], device='cuda:0')\n",
      "lateral_accel_constraint_14 tensor([0.], device='cuda:0')\n",
      "lateral_accel_constraint_15 tensor([0.], device='cuda:0')\n",
      "curvature_constraint_0 tensor([0.1109], device='cuda:0')\n",
      "curvature_constraint_1 tensor([0.0322], device='cuda:0')\n",
      "curvature_constraint_2 tensor([0.0101], device='cuda:0')\n",
      "curvature_constraint_3 tensor([0.0045], device='cuda:0')\n",
      "curvature_constraint_4 tensor([0.0026], device='cuda:0')\n",
      "curvature_constraint_5 tensor([0.0011], device='cuda:0')\n",
      "curvature_constraint_6 tensor([0.0004], device='cuda:0')\n",
      "curvature_constraint_7 tensor([0.0001], device='cuda:0')\n",
      "curvature_constraint_8 tensor([0.], device='cuda:0')\n",
      "curvature_constraint_9 tensor([0.], device='cuda:0')\n",
      "curvature_constraint_10 tensor([0.], device='cuda:0')\n",
      "curvature_constraint_11 tensor([0.], device='cuda:0')\n",
      "curvature_constraint_12 tensor([0.], device='cuda:0')\n",
      "curvature_constraint_13 tensor([0.], device='cuda:0')\n",
      "curvature_constraint_14 tensor([0.], device='cuda:0')\n",
      "curvature_constraint_15 tensor([0.], device='cuda:0')\n",
      "accel_constraint_0 tensor([5.2270], device='cuda:0')\n",
      "accel_constraint_1 tensor([0.2254], device='cuda:0')\n",
      "accel_constraint_2 tensor([0.], device='cuda:0')\n",
      "accel_constraint_3 tensor([0.], device='cuda:0')\n",
      "accel_constraint_4 tensor([0.], device='cuda:0')\n",
      "accel_constraint_5 tensor([0.], device='cuda:0')\n",
      "accel_constraint_6 tensor([0.], device='cuda:0')\n",
      "accel_constraint_7 tensor([0.], device='cuda:0')\n",
      "accel_constraint_8 tensor([0.], device='cuda:0')\n",
      "accel_constraint_9 tensor([0.], device='cuda:0')\n",
      "accel_constraint_10 tensor([0.], device='cuda:0')\n",
      "accel_constraint_11 tensor([0.], device='cuda:0')\n",
      "accel_constraint_12 tensor([0.], device='cuda:0')\n",
      "accel_constraint_13 tensor([0.], device='cuda:0')\n",
      "accel_constraint_14 tensor([0.], device='cuda:0')\n",
      "accel_constraint_15 tensor([0.], device='cuda:0')\n",
      "cost_xy_0 tensor([-0.0641,  0.0332], device='cuda:0')\n",
      "cost_xy_1 tensor([-0.6498,  0.0673], device='cuda:0')\n",
      "cost_xy_2 tensor([-0.6945,  0.0749], device='cuda:0')\n",
      "cost_xy_3 tensor([-0.4771,  0.0459], device='cuda:0')\n",
      "cost_xy_4 tensor([-0.2200,  0.0147], device='cuda:0')\n",
      "cost_xy_5 tensor([-0.0361, -0.0038], device='cuda:0')\n",
      "cost_xy_6 tensor([ 0.0540, -0.0124], device='cuda:0')\n",
      "cost_xy_7 tensor([ 0.0729, -0.0148], device='cuda:0')\n",
      "cost_xy_8 tensor([ 0.0543, -0.0138], device='cuda:0')\n",
      "cost_xy_9 tensor([ 0.0240, -0.0122], device='cuda:0')\n",
      "cost_xy_10 tensor([-0.0002, -0.0105], device='cuda:0')\n",
      "cost_xy_11 tensor([-0.0114, -0.0088], device='cuda:0')\n",
      "cost_xy_12 tensor([-0.0117, -0.0060], device='cuda:0')\n",
      "cost_xy_13 tensor([-0.0084, -0.0020], device='cuda:0')\n",
      "cost_xy_14 tensor([-0.0039,  0.0028], device='cuda:0')\n",
      "cost_xy_15 tensor([-0.0014,  0.0082], device='cuda:0')\n",
      "cost_xy_16 tensor([-0.0034,  0.0106], device='cuda:0')\n",
      "cost_yaw_0 tensor([0.0077], device='cuda:0')\n",
      "cost_yaw_1 tensor([0.0050], device='cuda:0')\n",
      "cost_yaw_2 tensor([0.0032], device='cuda:0')\n",
      "cost_yaw_3 tensor([0.0031], device='cuda:0')\n",
      "cost_yaw_4 tensor([0.0048], device='cuda:0')\n",
      "cost_yaw_5 tensor([0.0040], device='cuda:0')\n",
      "cost_yaw_6 tensor([0.0027], device='cuda:0')\n",
      "cost_yaw_7 tensor([0.0013], device='cuda:0')\n",
      "cost_yaw_8 tensor([0.0001], device='cuda:0')\n",
      "cost_yaw_9 tensor([-0.0004], device='cuda:0')\n",
      "cost_yaw_10 tensor([-0.0003], device='cuda:0')\n",
      "cost_yaw_11 tensor([1.5964e-06], device='cuda:0')\n",
      "cost_yaw_12 tensor([-9.5122e-06], device='cuda:0')\n",
      "cost_yaw_13 tensor([-0.0001], device='cuda:0')\n",
      "cost_yaw_14 tensor([-1.5146e-06], device='cuda:0')\n",
      "cost_yaw_15 tensor([0.0003], device='cuda:0')\n",
      "cost_yaw_16 tensor([4.3317e-05], device='cuda:0')\n",
      "cost_terminal_xy tensor([ 0.0068, -0.0212, -0.0017], device='cuda:0')\n",
      "cost_rate_0 tensor([ 0.0069, -0.6033], device='cuda:0')\n",
      "cost_rate_1 tensor([-0.0022, -0.6199], device='cuda:0')\n",
      "cost_rate_2 tensor([-2.9187e-04, -3.9752e-01], device='cuda:0')\n",
      "cost_rate_3 tensor([-0.0038, -0.1579], device='cuda:0')\n",
      "cost_rate_4 tensor([-3.6256e-05,  1.8126e-03], device='cuda:0')\n",
      "cost_rate_5 tensor([0.0003, 0.0704], device='cuda:0')\n",
      "cost_rate_6 tensor([0.0021, 0.0754], device='cuda:0')\n",
      "cost_rate_7 tensor([0.0026, 0.0513], device='cuda:0')\n",
      "cost_rate_8 tensor([0.0029, 0.0231], device='cuda:0')\n",
      "cost_rate_9 tensor([0.0025, 0.0031], device='cuda:0')\n",
      "cost_rate_10 tensor([ 0.0018, -0.0069], device='cuda:0')\n",
      "cost_rate_11 tensor([ 0.0011, -0.0099], device='cuda:0')\n",
      "cost_rate_12 tensor([ 0.0009, -0.0095], device='cuda:0')\n",
      "cost_rate_13 tensor([ 0.0010, -0.0078], device='cuda:0')\n",
      "cost_rate_14 tensor([ 0.0008, -0.0046], device='cuda:0')\n",
      "cost_abs_0 tensor([-0.0094,  0.7800], device='cuda:0')\n",
      "cost_abs_1 tensor([-0.0060,  0.4784], device='cuda:0')\n",
      "cost_abs_2 tensor([-0.0071,  0.1684], device='cuda:0')\n",
      "cost_abs_3 tensor([-0.0073, -0.0303], device='cuda:0')\n",
      "cost_abs_4 tensor([-0.0092, -0.1093], device='cuda:0')\n",
      "cost_abs_5 tensor([-0.0092, -0.1084], device='cuda:0')\n",
      "cost_abs_6 tensor([-0.0091, -0.0732], device='cuda:0')\n",
      "cost_abs_7 tensor([-0.0080, -0.0354], device='cuda:0')\n",
      "cost_abs_8 tensor([-0.0067, -0.0098], device='cuda:0')\n",
      "cost_abs_9 tensor([-0.0053,  0.0018], device='cuda:0')\n",
      "cost_abs_10 tensor([-0.0040,  0.0033], device='cuda:0')\n",
      "cost_abs_11 tensor([-0.0031, -0.0001], device='cuda:0')\n",
      "cost_abs_12 tensor([-0.0026, -0.0051], device='cuda:0')\n",
      "cost_abs_13 tensor([-0.0021, -0.0098], device='cuda:0')\n",
      "cost_abs_14 tensor([-0.0016, -0.0137], device='cuda:0')\n",
      "cost_abs_15 tensor([-0.0012, -0.0160], device='cuda:0')\n",
      "cost_lat_accel_0 tensor([-0.0075], device='cuda:0')\n",
      "cost_lat_accel_1 tensor([-0.0497], device='cuda:0')\n",
      "cost_lat_accel_2 tensor([-0.0463], device='cuda:0')\n",
      "cost_lat_accel_3 tensor([-0.0384], device='cuda:0')\n",
      "cost_lat_accel_4 tensor([-0.0455], device='cuda:0')\n",
      "cost_lat_accel_5 tensor([-0.0494], device='cuda:0')\n",
      "cost_lat_accel_6 tensor([-0.0479], device='cuda:0')\n",
      "cost_lat_accel_7 tensor([-0.0471], device='cuda:0')\n",
      "cost_lat_accel_8 tensor([-0.0459], device='cuda:0')\n",
      "cost_lat_accel_9 tensor([-0.0431], device='cuda:0')\n",
      "cost_lat_accel_10 tensor([-0.0392], device='cuda:0')\n",
      "cost_lat_accel_11 tensor([-0.0347], device='cuda:0')\n",
      "cost_lat_accel_12 tensor([-0.0300], device='cuda:0')\n",
      "cost_lat_accel_13 tensor([-0.0249], device='cuda:0')\n",
      "cost_lat_accel_14 tensor([-0.0193], device='cuda:0')\n",
      "cost_lat_accel_15 tensor([-0.0148], device='cuda:0')\n"
     ]
    }
   ],
   "source": [
    "output_th = smoother.solve(x_curr_th, ref_traj_th)"
   ]
  },
  {
   "cell_type": "markdown",
   "id": "0b64d84a-bfd5-4066-b9d0-cd72f4e84304",
   "metadata": {
    "tags": []
   },
   "source": [
    "## CAS smoother experiment"
   ]
  },
  {
   "cell_type": "code",
   "execution_count": 35,
   "id": "a2ba4540-dfc8-4ff0-9ad9-7e80af605016",
   "metadata": {},
   "outputs": [],
   "source": [
    "output_cas = []\n",
    "for x_curr, ref_traj in zip(x_curr_cas, ref_traj_cas):\n",
    "    smoother2.set_reference_trajectory(x_curr, ref_traj)\n",
    "    sol = smoother2.solve()\n",
    "    output_temp = np.vstack(\n",
    "        [\n",
    "            sol.value(smoother2.position_x),\n",
    "            sol.value(smoother2.position_y),\n",
    "            sol.value(smoother2.yaw),\n",
    "        ]\n",
    "    ).T\n",
    "    output_cas.append(output_temp)\n",
    "output_cas = np.stack(output_cas, axis=0)"
   ]
  },
  {
   "cell_type": "code",
   "execution_count": 49,
   "id": "d1adaa25-035d-47bd-a877-ddb71329a70c",
   "metadata": {},
   "outputs": [
    {
     "data": {
      "text/plain": [
       "(80, 17, 3)"
      ]
     },
     "execution_count": 49,
     "metadata": {},
     "output_type": "execute_result"
    }
   ],
   "source": [
    "output_cas.shape"
   ]
  },
  {
   "cell_type": "markdown",
   "id": "1cd734de-8de2-4b32-a20c-925329e02bd2",
   "metadata": {
    "tags": []
   },
   "source": [
    "# Visualize"
   ]
  },
  {
   "cell_type": "code",
   "execution_count": 37,
   "id": "0d2f68ed-b166-49ae-b48c-615f678c2e49",
   "metadata": {},
   "outputs": [],
   "source": [
    "os.makedirs(\"pictures_right_turn\")"
   ]
  },
  {
   "cell_type": "code",
   "execution_count": 75,
   "id": "5bdb4f64-3b5a-42fe-a296-19993ce2ded2",
   "metadata": {},
   "outputs": [],
   "source": [
    "for i in range(batch_size):\n",
    "    plt.figure(figsize=(10,10))\n",
    "    \n",
    "    # GT\n",
    "    plt.plot(ref_traj_draw[i, :, 0], ref_traj_draw[i, :, 1], 'o-', alpha=0.5)\n",
    "\n",
    "    # theseus\n",
    "    plt.plot(output_th[i, :, 0].cpu().numpy(), output_th[i, :, 1].cpu().numpy(), 'd-')\n",
    "    # casadi\n",
    "    plt.plot(output_cas[i, :, 0], output_cas[i, :, 1], 'x-')\n",
    "    \n",
    "    plt.axis('equal')\n",
    "    plt.legend(['ref', 'theseus', 'casadi'])\n",
    "    \n",
    "    plt.plot(ref_traj_draw[i, 0, 0]+x_curr_draw[i, 0], ref_traj_draw[i, 0, 1]+x_curr_draw[i, 1], '1', color=\"cyan\")\n",
    "    plt.arrow(ref_traj_draw[i, 0, 0]+x_curr_draw[i, 0], ref_traj_draw[i, 0, 1]+x_curr_draw[i, 1], np.cos(x_curr_draw[i, 2]), np.sin(x_curr_draw[i, 2]))\n",
    "    \n",
    "    plt.savefig(f\"pictures_right_turn/{i}.jpg\")\n",
    "    plt.close()"
   ]
  },
  {
   "cell_type": "markdown",
   "id": "a4a35961-67b1-4c52-8485-4bd585a673a0",
   "metadata": {
    "tags": []
   },
   "source": [
    "# Compute errors"
   ]
  },
  {
   "cell_type": "markdown",
   "id": "6d4f88b9-6715-47bb-9ebc-2da694eba631",
   "metadata": {},
   "source": [
    "## ADE"
   ]
  },
  {
   "cell_type": "code",
   "execution_count": null,
   "id": "a5352dd2-2251-4711-be77-a63d8feda5a6",
   "metadata": {},
   "outputs": [],
   "source": [
    "# compute_ade(output_th, output_cas, ref_traj_draw)"
   ]
  },
  {
   "cell_type": "markdown",
   "id": "9f8c7f48-740e-4b4a-81ae-d3eb5e4fbb07",
   "metadata": {},
   "source": [
    "## FDE"
   ]
  },
  {
   "cell_type": "code",
   "execution_count": null,
   "id": "81816d23-1ec1-4616-be9e-6b813347189c",
   "metadata": {},
   "outputs": [],
   "source": [
    "# compute_l1_fde(output_th, output_cas, ref_traj_draw)"
   ]
  },
  {
   "cell_type": "markdown",
   "id": "ce411430-6d8b-4c97-b3cd-4b7fe26e3887",
   "metadata": {},
   "source": [
    "## Curvature"
   ]
  },
  {
   "cell_type": "code",
   "execution_count": null,
   "id": "c88c7776-6997-4d07-9cb7-1a9beb5d3b08",
   "metadata": {},
   "outputs": [],
   "source": [
    "# smoothness_th, smoothness_cas = compute_smoothness(output_th, output_cas)\n",
    "\n",
    "# plt.plot(smoothness_th, '.-')\n",
    "# plt.plot(smoothness_cas, '.-')\n",
    "# plt.legend(['TH', 'CAS'])\n",
    "\n",
    "# print(np.mean(smoothness_th))\n",
    "# print(np.mean(smoothness_cas))"
   ]
  },
  {
   "cell_type": "markdown",
   "id": "cafd664a-0557-454e-9c1c-79f705e670ef",
   "metadata": {},
   "source": [
    "# Grid search of hard constraint weight"
   ]
  },
  {
   "cell_type": "code",
   "execution_count": null,
   "id": "b4596400-5dd2-4590-b2b9-18608aa19865",
   "metadata": {},
   "outputs": [],
   "source": [
    "# damping = [0.1, 0.5, 0.9]\n",
    "# step_size = [0.1, 0.4, 0.5]\n",
    "# boundaries = [10.0, 50.0, 100.0]\n",
    "\n",
    "# from itertools import product\n",
    "\n",
    "# min_ade = float('inf')\n",
    "# min_set = None\n",
    "# for d, ss, b in product(damping, step_size, boundaries):\n",
    "#     smoother = BatchedNonLinearSmoother(trajectory_len=16, dt=0.5, batch_size=80, device=torch.device('cpu'), damping=d, step_size=ss, boundary_cost_weight=b)\n",
    "    \n",
    "#     output_th, _, _ = smoother.solve(x_curr_th.cpu(), ref_traj_th.cpu())\n",
    "    \n",
    "#     output_th = output_th[:, 8:, :]\n",
    "    \n",
    "#     ade = compute_ade(output_th, np.zeros_like(output_th), ref_traj_draw[:, 8:, :])\n",
    "    \n",
    "#     if ade[1] < min_ade:\n",
    "#         min_ade = ade[1]\n",
    "#         min_set = (d, ss, b)\n",
    "    \n",
    "#     print(f\"damping: {d}, step: {ss}, boundary: {b}, ade: {ade}\")"
   ]
  }
 ],
 "metadata": {
  "kernelspec": {
   "display_name": "Python 3 (ipykernel)",
   "language": "python",
   "name": "python3"
  },
  "language_info": {
   "codemirror_mode": {
    "name": "ipython",
    "version": 3
   },
   "file_extension": ".py",
   "mimetype": "text/x-python",
   "name": "python",
   "nbconvert_exporter": "python",
   "pygments_lexer": "ipython3",
   "version": "3.9.12"
  }
 },
 "nbformat": 4,
 "nbformat_minor": 5
}
