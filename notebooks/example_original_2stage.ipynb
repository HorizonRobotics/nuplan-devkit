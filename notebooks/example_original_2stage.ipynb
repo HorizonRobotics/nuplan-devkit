{
 "cells": [
  {
   "cell_type": "code",
   "execution_count": 1,
   "metadata": {},
   "outputs": [
    {
     "name": "stderr",
     "output_type": "stream",
     "text": [
      "/home/users/jingyu.qian/horizon-nuplan/nuplan/common/maps/maps_datatypes.py:7: UserWarning: Shapely 2.0 is installed, but because PyGEOS is also installed, GeoPandas will still use PyGEOS by default for now. To force to use and test Shapely 2.0, you have to set the environment variable USE_PYGEOS=0. You can do this before starting the Python process, or in your code before importing geopandas:\n",
      "\n",
      "import os\n",
      "os.environ['USE_PYGEOS'] = '0'\n",
      "import geopandas\n",
      "\n",
      "In a future release, GeoPandas will switch to using Shapely by default. If you are using PyGEOS directly (calling PyGEOS functions on geometries from GeoPandas), this will then stop working and you are encouraged to migrate from PyGEOS to Shapely 2.0 (https://shapely.readthedocs.io/en/latest/migration_pygeos.html).\n",
      "  import geopandas as gpd\n"
     ]
    }
   ],
   "source": [
    "%load_ext autoreload\n",
    "%autoreload 2\n",
    "from nuplan.common.actor_state.ego_state import EgoState\n",
    "from nuplan.common.actor_state.state_representation import StateSE2, StateVector2D, TimePoint\n",
    "from nuplan.common.actor_state.vehicle_parameters import VehicleParameters\n",
    "from nuplan.planning.simulation.simulation_time_controller.simulation_iteration import SimulationIteration\n",
    "from nuplan.planning.simulation.trajectory.interpolated_trajectory import InterpolatedTrajectory\n",
    "from nuplan.planning.simulation.controller.tracker.ilqr_tracker import ILQRTracker\n",
    "from nuplan.planning.simulation.controller.tracker.ilqr.ilqr_solver import ILQRSolver, ILQRSolverParameters, ILQRWarmStartParameters\n",
    "from nuplan.planning.simulation.controller.motion_model.kinematic_bicycle import KinematicBicycleModel\n",
    "from nuplan.planning.simulation.planner.ml_planner.transform_utils import transform_predictions_to_states\n",
    "from nuplan_extent.planning.training.closed_loop.controllers.two_stage_controller import TwoStageEgoController\n",
    "from nuplan.planning.scenario_builder.test.mock_abstract_scenario import MockAbstractScenario\n",
    "\n",
    "import numpy as np\n",
    "import torch\n",
    "import time"
   ]
  },
  {
   "cell_type": "code",
   "execution_count": 2,
   "metadata": {},
   "outputs": [],
   "source": [
    "np.set_printoptions(precision=3, linewidth=140)"
   ]
  },
  {
   "cell_type": "code",
   "execution_count": 3,
   "metadata": {},
   "outputs": [],
   "source": [
    "solver_param = ILQRSolverParameters(\n",
    "    discretization_time=0.5,\n",
    "    state_cost_diagonal_entries=[1.0, 1.0, 10.0, 0.0, 0.0],\n",
    "    input_cost_diagonal_entries=[1.0, 10.0],\n",
    "    state_trust_region_entries=[1.0, 1.0, 1.0, 1.0, 1.0],\n",
    "    input_trust_region_entries=[1.0, 1.0],\n",
    "    max_ilqr_iterations=10,\n",
    "    convergence_threshold=1e-6,\n",
    "    max_solve_time=5,\n",
    "    max_acceleration=3.0,\n",
    "    max_steering_angle=1.047197,\n",
    "    max_steering_angle_rate=0.5,\n",
    "    min_velocity_linearization=0.01\n",
    ")\n",
    "warm_start_param = ILQRWarmStartParameters(\n",
    "    k_velocity_error_feedback=0.5,\n",
    "    k_steering_angle_error_feedback=0.05,\n",
    "    lookahead_distance_lateral_error=15.0,\n",
    "    k_lateral_error=0.1,\n",
    "    jerk_penalty_warm_start_fit=1e-4,\n",
    "    curvature_rate_penalty_warm_start_fit=1e-2,\n",
    ")"
   ]
  },
  {
   "cell_type": "code",
   "execution_count": 4,
   "metadata": {},
   "outputs": [],
   "source": [
    "# Initialize trackers\n",
    "ilqr_solver_default = ILQRSolver(solver_param, warm_start_param)\n",
    "ilqr_tracker_default = ILQRTracker(16, ilqr_solver_default)"
   ]
  },
  {
   "cell_type": "code",
   "execution_count": 5,
   "metadata": {},
   "outputs": [],
   "source": [
    "scenario = MockAbstractScenario(\n",
    "    time_step=0.2, initial_velocity=StateVector2D(3.0, 3.0), \n",
    ")"
   ]
  },
  {
   "cell_type": "code",
   "execution_count": 20,
   "metadata": {},
   "outputs": [],
   "source": [
    "past_current_states = [\n",
    "    scenario.get_ego_state_at_iteration(0),\n",
    "    scenario.get_ego_state_at_iteration(1),\n",
    "    scenario.get_ego_state_at_iteration(2),\n",
    "]\n",
    "\n",
    "future_state = scenario.get_ego_state_at_iteration(3)\n",
    "future_state2 = scenario.get_ego_state_at_iteration(4)"
   ]
  },
  {
   "cell_type": "code",
   "execution_count": 13,
   "metadata": {},
   "outputs": [],
   "source": [
    "# create a fake ego state\n",
    "vehicle = VehicleParameters(\n",
    "**{'width': 2.297,\n",
    "\"front_length\": 4.049,\n",
    "\"rear_length\": 1.127,\n",
    "\"cog_position_from_rear_axle\": 1.67,\n",
    "\"height\": 1.777,\n",
    "\"wheel_base\": 3.089,\n",
    "\"vehicle_name\": \"pacifica\",\n",
    "\"vehicle_type\": \"gen1\"}\n",
    ")"
   ]
  },
  {
   "cell_type": "code",
   "execution_count": 8,
   "metadata": {},
   "outputs": [],
   "source": [
    "motion_model = KinematicBicycleModel(vehicle)"
   ]
  },
  {
   "cell_type": "code",
   "execution_count": 15,
   "metadata": {},
   "outputs": [],
   "source": [
    "# create a fake prediction\n",
    "trajectory = np.array([\n",
    "    [ 3.97342634e+00,  4.57113355e-01,  2.49877930e-01, ],\n",
    "    [ 6.12674379e+00,  1.09291279e+00,  3.52767706e-01, ],\n",
    "    [ 8.31951332e+00,  1.97754967e+00,  4.13567543e-01, ],\n",
    "    [ 1.06296530e+01,  3.00840688e+00,  4.53505993e-01, ],\n",
    "    [ 1.30230131e+01,  4.19286108e+00,  4.81674552e-01, ],\n",
    "    [ 1.55141821e+01,  5.49916553e+00,  4.97916579e-01, ],\n",
    "    [ 1.80201054e+01,  6.87377167e+00,  5.07725358e-01, ],\n",
    "    [ 2.05358086e+01,  8.26056290e+00,  5.15743375e-01, ],\n",
    "    [ 2.29929905e+01,  9.67429256e+00,  5.23426056e-01, ],\n",
    "    [ 2.54551449e+01,  1.11441393e+01,  5.30618072e-01, ],\n",
    "    [ 2.79612312e+01,  1.26187944e+01,  5.37579775e-01, ],\n",
    "    [ 3.04966621e+01,  1.41300039e+01,  5.44248700e-01, ],\n",
    "    [ 3.30126915e+01,  1.57168932e+01,  5.51712871e-01, ],\n",
    "    [ 3.55922203e+01,  1.73329601e+01,  5.59343815e-01, ],\n",
    "    [ 3.81669350e+01,  1.89929581e+01,  5.67086935e-01, ],\n",
    "    [ 4.13423423e+01,  2.05123947e+01,  5.74123412e-01, ]\n",
    "    ]\n",
    ")\n",
    "\n",
    "# These are used by the default tracker\n",
    "traj_as_states = transform_predictions_to_states(trajectory, past_current_states, 8, 0.5, True)\n",
    "traj_as_traj = InterpolatedTrajectory(traj_as_states)\n",
    "current_iteration = SimulationIteration(future_state.time_point, 0)"
   ]
  },
  {
   "cell_type": "markdown",
   "metadata": {},
   "source": [
    "---"
   ]
  },
  {
   "cell_type": "code",
   "execution_count": 16,
   "metadata": {},
   "outputs": [],
   "source": [
    "controller = TwoStageEgoController(0.5, 8, ilqr_tracker_default, motion_model)"
   ]
  },
  {
   "cell_type": "code",
   "execution_count": 18,
   "metadata": {},
   "outputs": [
    {
     "name": "stdout",
     "output_type": "stream",
     "text": [
      "deque([<nuplan.common.actor_state.ego_state.EgoState object at 0x7f587c242790>, <nuplan.common.actor_state.ego_state.EgoState object at 0x7f587c242940>], maxlen=10)\n"
     ]
    }
   ],
   "source": [
    "controller.initialize(past_current_states[-1], torch.tensor(0))\n",
    "controller.last_trajectory = trajectory\n",
    "controller.update(future_state)\n",
    "print(controller.states)"
   ]
  },
  {
   "cell_type": "code",
   "execution_count": 21,
   "metadata": {},
   "outputs": [],
   "source": [
    "controller.update(future_state2)"
   ]
  },
  {
   "cell_type": "code",
   "execution_count": 22,
   "metadata": {},
   "outputs": [
    {
     "name": "stdout",
     "output_type": "stream",
     "text": [
      "StateSE2(x=2.3999999999999986, y=0.0, heading=0.0)\n"
     ]
    }
   ],
   "source": [
    "print(controller.states[-1].rear_axle)"
   ]
  }
 ],
 "metadata": {
  "kernelspec": {
   "display_name": "Python 3 (ipykernel)",
   "language": "python",
   "name": "python3"
  },
  "language_info": {
   "codemirror_mode": {
    "name": "ipython",
    "version": 3
   },
   "file_extension": ".py",
   "mimetype": "text/x-python",
   "name": "python",
   "nbconvert_exporter": "python",
   "pygments_lexer": "ipython3",
   "version": "3.9.12"
  },
  "vscode": {
   "interpreter": {
    "hash": "d997854a6d5e0ee92d5d980e35bb22d1938d53e449489feddfbd74561cd173d4"
   }
  }
 },
 "nbformat": 4,
 "nbformat_minor": 4
}
