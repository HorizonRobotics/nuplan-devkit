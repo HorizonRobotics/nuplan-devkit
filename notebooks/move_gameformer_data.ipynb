{
 "cells": [
  {
   "cell_type": "code",
   "execution_count": 18,
   "metadata": {},
   "outputs": [],
   "source": [
    "import os\n",
    "from pathlib import Path\n",
    "import shutil\n",
    "import pandas"
   ]
  },
  {
   "cell_type": "code",
   "execution_count": 19,
   "metadata": {},
   "outputs": [],
   "source": [
    "csv = pandas.read_csv(\"/mnt/nas20/nuplan_cached/nuplanv1.1_gameformer_20Hz_per1500_alltargets_metadata/nuplanv1.1_gameformer_20Hz_per1500_alltargets_metadata_node_0.csv\")"
   ]
  },
  {
   "cell_type": "code",
   "execution_count": 20,
   "metadata": {},
   "outputs": [],
   "source": [
    "file_names = list(csv.file_name)"
   ]
  },
  {
   "cell_type": "code",
   "execution_count": 21,
   "metadata": {},
   "outputs": [
    {
     "data": {
      "text/plain": [
       "['/mnt/nas20/nuplan_cached/nuplanv1.1_gameformer_20Hz_per1500_alltargets/2021.07.16.16.01.30_veh-38_02497_03871/behind_pedestrian_on_driveable/8ddfaaabd3565488/0_8ddfaaabd3565488/vector_set_map',\n",
       " '/mnt/nas20/nuplan_cached/nuplanv1.1_gameformer_20Hz_per1500_alltargets/2021.07.16.16.01.30_veh-38_02497_03871/behind_pedestrian_on_driveable/8ddfaaabd3565488/0_8ddfaaabd3565488/generic_agents',\n",
       " '/mnt/nas20/nuplan_cached/nuplanv1.1_gameformer_20Hz_per1500_alltargets/2021.07.16.16.01.30_veh-38_02497_03871/behind_pedestrian_on_driveable/8ddfaaabd3565488/0_8ddfaaabd3565488/trajectory',\n",
       " '/mnt/nas20/nuplan_cached/nuplanv1.1_gameformer_20Hz_per1500_alltargets/2021.07.16.16.01.30_veh-38_02497_03871/behind_pedestrian_on_driveable/8ddfaaabd3565488/0_8ddfaaabd3565488/agents_trajectory_target',\n",
       " '/mnt/nas20/nuplan_cached/nuplanv1.1_gameformer_20Hz_per1500_alltargets/2021.05.24.18.54.30_veh-25_02290_02855/on_traffic_light_intersection/f24b6b7f3782505e/0_f24b6b7f3782505e/vector_set_map',\n",
       " '/mnt/nas20/nuplan_cached/nuplanv1.1_gameformer_20Hz_per1500_alltargets/2021.05.24.18.54.30_veh-25_02290_02855/on_traffic_light_intersection/f24b6b7f3782505e/0_f24b6b7f3782505e/generic_agents',\n",
       " '/mnt/nas20/nuplan_cached/nuplanv1.1_gameformer_20Hz_per1500_alltargets/2021.05.24.18.54.30_veh-25_02290_02855/on_traffic_light_intersection/f24b6b7f3782505e/0_f24b6b7f3782505e/trajectory',\n",
       " '/mnt/nas20/nuplan_cached/nuplanv1.1_gameformer_20Hz_per1500_alltargets/2021.05.24.18.54.30_veh-25_02290_02855/on_traffic_light_intersection/f24b6b7f3782505e/0_f24b6b7f3782505e/agents_trajectory_target',\n",
       " '/mnt/nas20/nuplan_cached/nuplanv1.1_gameformer_20Hz_per1500_alltargets/2021.08.24.20.03.01_veh-45_01091_01622/stationary_at_traffic_light_without_lead/3ff528dc9e3e57b0/0_3ff528dc9e3e57b0/vector_set_map',\n",
       " '/mnt/nas20/nuplan_cached/nuplanv1.1_gameformer_20Hz_per1500_alltargets/2021.08.24.20.03.01_veh-45_01091_01622/stationary_at_traffic_light_without_lead/3ff528dc9e3e57b0/0_3ff528dc9e3e57b0/generic_agents']"
      ]
     },
     "execution_count": 21,
     "metadata": {},
     "output_type": "execute_result"
    }
   ],
   "source": [
    "file_names[:10]"
   ]
  },
  {
   "cell_type": "code",
   "execution_count": 25,
   "metadata": {},
   "outputs": [],
   "source": [
    "new_file_names = []\n",
    "for file_name in file_names:\n",
    "    source = Path(file_name)\n",
    "    target = source.parent.parent / source.name\n",
    "    new_file_names.append(str(target))\n",
    "        # shutil.move(source, target)"
   ]
  },
  {
   "cell_type": "code",
   "execution_count": 27,
   "metadata": {},
   "outputs": [],
   "source": [
    "csv.file_name = new_file_names"
   ]
  },
  {
   "cell_type": "code",
   "execution_count": 31,
   "metadata": {},
   "outputs": [],
   "source": [
    "csv.to_csv(\"nuplanv1.1_gameformer_20Hz_per1500_alltargets_metadata_node_0.csv\", index=False)"
   ]
  }
 ],
 "metadata": {
  "kernelspec": {
   "display_name": "nuplan",
   "language": "python",
   "name": "python3"
  },
  "language_info": {
   "codemirror_mode": {
    "name": "ipython",
    "version": 3
   },
   "file_extension": ".py",
   "mimetype": "text/x-python",
   "name": "python",
   "nbconvert_exporter": "python",
   "pygments_lexer": "ipython3",
   "version": "3.9.12"
  },
  "orig_nbformat": 4
 },
 "nbformat": 4,
 "nbformat_minor": 2
}
