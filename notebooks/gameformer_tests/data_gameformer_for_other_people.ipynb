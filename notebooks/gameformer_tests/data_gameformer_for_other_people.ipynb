{
 "cells": [
  {
   "cell_type": "code",
   "execution_count": 1,
   "id": "fe7adb9d-4464-45f2-a94f-82240c1fd703",
   "metadata": {},
   "outputs": [],
   "source": [
    "%load_ext autoreload\n",
    "%autoreload 2\n",
    "# %matplotlib inline\n",
    "import torch\n",
    "import numpy as np\n",
    "import os\n",
    "import pickle\n",
    "import gzip\n",
    "import pandas\n",
    "from matplotlib import pyplot as plt\n",
    "from pathlib import Path\n",
    "from nuplan.planning.training.preprocessing.features.vector_set_map import VectorSetMap\n",
    "from nuplan.planning.training.preprocessing.features.generic_agents import GenericAgents\n",
    "# from nuplan_extent.planning.training.modeling.models.gameformer_model import GameFormer\n",
    "from nuplan.planning.simulation.trajectory.trajectory_sampling import TrajectorySampling\n",
    "\n",
    "torch.set_printoptions(threshold=15)"
   ]
  },
  {
   "attachments": {},
   "cell_type": "markdown",
   "id": "3660df5b-f498-4798-aba2-302eb57833cf",
   "metadata": {
    "tags": []
   },
   "source": [
    "## Statistics"
   ]
  },
  {
   "cell_type": "code",
   "execution_count": 2,
   "id": "cdf928a4-44ef-4722-9ba0-0bdcdac0ea80",
   "metadata": {},
   "outputs": [],
   "source": [
    "# cache_path = \"/mnt/nas20/nuplan_cached/nuplanv1.1_mini_gameformer_20Hz_per1500_alltargets_v2/\"\n",
    "# meta_path = \"/mnt/nas20/nuplan_cached/nuplanv1.1_mini_gameformer_20Hz_per1500_alltargets_v2_metadata/nuplanv1.1_mini_gameformer_20Hz_per1500_alltargets_v2_metadata_node_0.csv\"\n",
    "meta_path = \"/mnt/nas20/nuplan_cached/nuplanv1.1_gameformer_20Hz_per1500_alltargets_metadata/nuplanv1.1_gameformer_20Hz_per1500_alltargets_metadata_node_0.csv\"\n",
    "list_files = pandas.read_csv(meta_path)"
   ]
  },
  {
   "cell_type": "code",
   "execution_count": 3,
   "id": "d796ba2e-d780-4a33-b029-bc7e08388209",
   "metadata": {
    "tags": []
   },
   "outputs": [
    {
     "name": "stdout",
     "output_type": "stream",
     "text": [
      "The total number of scenarios is 27943\n",
      "                                                    count\n",
      "on_traffic_light_intersection                         520\n",
      "traversing_traffic_light_intersection                1500\n",
      "traversing_pickup_dropoff                            1500\n",
      "on_pickup_dropoff                                    1500\n",
      "near_high_speed_vehicle                              1500\n",
      "traversing_crosswalk                                  632\n",
      "stationary_in_traffic                                1500\n",
      "on_intersection                                      1226\n",
      "on_stopline_traffic_light                             159\n",
      "stationary                                           1500\n",
      "medium_magnitude_speed                               1500\n",
      "stationary_at_traffic_light_without_lead             1500\n",
      "starting_unprotected_cross_turn                        27\n",
      "low_magnitude_speed                                  1219\n",
      "near_pedestrian_on_crosswalk                          349\n",
      "traversing_intersection                              1500\n",
      "following_lane_with_slow_lead                         490\n",
      "on_stopline_stop_sign                                1412\n",
      "stationary_at_traffic_light_with_lead                1212\n",
      "waiting_for_pedestrian_to_cross                       110\n",
      "following_lane_without_lead                           187\n",
      "starting_right_turn                                    40\n",
      "near_long_vehicle                                    1332\n",
      "near_construction_zone_sign                           298\n",
      "on_stopline_crosswalk                                 475\n",
      "high_magnitude_speed                                 1500\n",
      "near_multiple_vehicles                                495\n",
      "unknown                                              1500\n",
      "near_trafficcone_on_driveable                         360\n",
      "on_carpark                                            524\n",
      "starting_unprotected_noncross_turn                     30\n",
      "stopping_at_stop_sign_without_lead                     32\n",
      "accelerating_at_traffic_light_with_lead                20\n",
      "stopping_at_traffic_light_without_lead                 16\n",
      "stopping_at_crosswalk                                  29\n",
      "starting_protected_cross_turn                          43\n",
      "high_lateral_acceleration                              70\n",
      "starting_straight_stop_sign_intersection_traversal     23\n",
      "stopping_at_stop_sign_no_crosswalk                     15\n",
      "following_lane_with_lead                               21\n",
      "stopping_with_lead                                     64\n",
      "near_multiple_pedestrians                               7\n",
      "starting_straight_traffic_light_intersection_tr...      1\n",
      "changing_lane_to_right                                  2\n",
      "near_barrier_on_driveable                               1\n",
      "changing_lane_to_left                                   2\n"
     ]
    }
   ],
   "source": [
    "print(f\"The total number of scenarios is {len(list_files) // 4}\")\n",
    "scenario_types = {}\n",
    "set_paths = set([Path(i).parent for i in list_files['file_name'].to_list()])\n",
    "for path in set_paths:\n",
    "    stype = path.parents[0].stem\n",
    "    scenario_types[stype] = scenario_types.get(stype, 0) + 1\n",
    "scenario_pd = pandas.DataFrame.from_dict(scenario_types, orient='index')\n",
    "scenario_pd = scenario_pd.rename(columns={0: \"count\"})\n",
    "print(scenario_pd)"
   ]
  },
  {
   "attachments": {},
   "cell_type": "markdown",
   "id": "7ea3d001-0df7-4735-bcba-939de5863ca3",
   "metadata": {},
   "source": [
    "## Data details\n",
    "---\n",
    "There are 4 files for each scenario: \n",
    "\n",
    "* **generic_agents.gz** has the past trajectories of both ego and other agents. has shape \\[21, num_agents, 11\\] for each category\n",
    "    * The 11 features are: x, y, heading, vx, vy, length, width, height, is_vehicle, is_pedestrian, is_bicycle\n",
    "    * The 21 timesteps are: past 2s * 10Hz + 1 current position\n",
    "* **agents_trajectory_target.gz** has the future trajectories of other agents. has shape \\[16, num_agents, 3\\]\n",
    "    * The 16 timesteps are: future 8s * 2Hz\n",
    "* **vector_set_map.gz** has the map features.\n",
    "    * coords: coordinate data of selected map objects\n",
    "        * LANE: \\[num_obj, num_points, 4\\] representing x, y, heading, speed_limit\n",
    "        * LEFT_BOUNDARY \\[num_obj, num_points, 2\\] representing x, y\n",
    "        * RIGHT_BOUNDARY \\[num_obj, num_points, 2\\] representing x, y\n",
    "        * STOP_LINE \\[num_obj, num_points, 2\\] representing x, y\n",
    "        * CROSSWALK \\[num_obj, num_points, 2\\] representing x, y\n",
    "        * ROUTE_LANES \\[num_obj, num_points, 2\\] representing x,y\n",
    "    * traffic_light_data: traffic_light_data of selected map objects\n",
    "        * LANE: \\[num_obj, num_points, 4\\] representing green, yellow, red, unknown\n",
    "    * availabilities: whether a point is valid or not\n",
    "* **trajectory.gz** has the future trajectory of ego agent. \\[16, 3\\]\n",
    "\n",
    "---"
   ]
  },
  {
   "attachments": {},
   "cell_type": "markdown",
   "id": "41c5165a-b351-476b-8447-d95caefa69d7",
   "metadata": {},
   "source": [
    "## Data visualization"
   ]
  },
  {
   "cell_type": "code",
   "execution_count": 4,
   "id": "e2f8ecf0-6ce4-43fa-a2d4-859deb74a95a",
   "metadata": {
    "tags": []
   },
   "outputs": [],
   "source": [
    "path = \"/mnt/nas20/nuplan_cached/nuplanv1.1_mini_gameformer_20Hz_per1500_alltargets_v2/2021.06.03.12.02.06_veh-35_00233_00609/unknown/b36cb91e1495574c/\"\n",
    "agents_past_data = os.path.join(path, \"generic_agents.gz\")\n",
    "agents_future_data = os.path.join(path, \"agents_trajectory_target.gz\")\n",
    "ego_target_data = os.path.join(path, \"trajectory.gz\")\n",
    "map_data = os.path.join(path, \"vector_set_map.gz\")"
   ]
  },
  {
   "cell_type": "code",
   "execution_count": 5,
   "id": "23775a86-fa83-482c-b503-43ec5208de5f",
   "metadata": {
    "tags": []
   },
   "outputs": [],
   "source": [
    "with gzip.open(agents_past_data, \"rb\") as f:\n",
    "    past = pickle.load(f)\n",
    "    \n",
    "with gzip.open(agents_future_data, \"rb\") as f:\n",
    "    future = pickle.load(f)\n",
    "    \n",
    "with gzip.open(ego_target_data, \"rb\") as f:\n",
    "    ego_future = pickle.load(f)\n",
    "\n",
    "with gzip.open(map_data, \"rb\") as f:\n",
    "    maps = pickle.load(f)"
   ]
  },
  {
   "cell_type": "code",
   "execution_count": 6,
   "id": "12ec87e3-30fd-4df1-974b-dda2f582e28f",
   "metadata": {
    "tags": []
   },
   "outputs": [
    {
     "data": {
      "text/plain": [
       "(-99.66369132995605, 72.14926414489746, -13.16212248802185, 51.43179965019226)"
      ]
     },
     "execution_count": 6,
     "metadata": {},
     "output_type": "execute_result"
    },
    {
     "data": {
      "image/png": "[encoded data removed]",
      "text/plain": [
       "<Figure size 1000x1000 with 1 Axes>"
      ]
     },
     "metadata": {},
     "output_type": "display_data"
    }
   ],
   "source": [
    "plt.figure(figsize=(10,10))\n",
    "\n",
    "for agent in ['VEHICLE', 'PEDESTRIAN', 'BICYCLE']:\n",
    "    num_vehicle = past['agents'][agent][0].shape[1]\n",
    "    for i in range(num_vehicle):\n",
    "        color = np.random.rand(3,)\n",
    "        \n",
    "        vehicle = past['agents'][agent][0][:, i, :2]\n",
    "        plt.plot(vehicle[:, 0], vehicle[:, 1], '.-', c=color, alpha=0.1)\n",
    "        \n",
    "        vehicle_future = future['agents'][agent][0][:, i, :2]\n",
    "        plt.plot(vehicle_future[:, 0], vehicle_future[:, 1], '.-', c=color)\n",
    "\n",
    "# Ego track\n",
    "plt.plot(past['ego'][0][:, 0], past['ego'][0][:, 1], 'k.-', alpha=0.1)\n",
    "plt.plot(ego_future['data'][:, 0], ego_future['data'][:, 1], 'k.-')\n",
    "\n",
    "# Map data\n",
    "for lane in maps['coords']['LANE'][0]:\n",
    "    plt.plot(lane[:, 0], lane[:, 1], 'b,-', alpha=0.3)\n",
    "for lane in maps['coords']['CROSSWALK'][0]:\n",
    "    lane = lane[lane[:, 0]!=0]\n",
    "    plt.plot(lane[:, 0], lane[:, 1], 'b,-', alpha=0.3)\n",
    "for lane in maps['coords']['STOP_LINE'][0]:\n",
    "    lane = lane[lane[:, 0]!=0]\n",
    "    plt.plot(lane[:, 0], lane[:, 1], 'g,-', alpha=0.3)\n",
    "plt.axis('equal')"
   ]
  },
  {
   "attachments": {},
   "cell_type": "markdown",
   "id": "d2531423-008f-406f-af04-13ff9230ee97",
   "metadata": {},
   "source": [
    "## Things to note\n",
    "There are scenarios where the number of other agents is less than 10. The following provides an example. You can see there are only 8 agents"
   ]
  },
  {
   "cell_type": "code",
   "execution_count": 7,
   "id": "597b5f31-7366-44f2-b7dd-ffe2037b96b9",
   "metadata": {
    "tags": []
   },
   "outputs": [],
   "source": [
    "for path in set_paths:\n",
    "    agents_past_data = os.path.join(path, \"generic_agents.gz\")\n",
    "    agents_future_data = os.path.join(path, \"agents_trajectory_target.gz\")\n",
    "    with gzip.open(agents_past_data, \"rb\") as f:\n",
    "        past = pickle.load(f)\n",
    "    with gzip.open(agents_future_data, \"rb\") as f:\n",
    "        future = pickle.load(f)\n",
    "    if past['agents']['VEHICLE'][0].shape[1] + past['agents']['PEDESTRIAN'][0].shape[1] + past['agents']['BICYCLE'][0].shape[1] < 10:\n",
    "        break"
   ]
  },
  {
   "cell_type": "code",
   "execution_count": 8,
   "id": "a9af31f6-5081-4522-bdcd-acfa9af13a73",
   "metadata": {
    "tags": []
   },
   "outputs": [
    {
     "name": "stdout",
     "output_type": "stream",
     "text": [
      "=====past=====\n",
      "VEHICLE (21, 6, 11)\n",
      "PEDESTRIAN (21, 1, 11)\n",
      "BICYCLE (21, 0, 11)\n",
      "=====future=====\n",
      "VEHICLE (16, 6, 3)\n",
      "PEDESTRIAN (16, 1, 3)\n",
      "BICYCLE (16, 0, 3)\n",
      "=====ego future=====\n",
      "(16, 3)\n"
     ]
    }
   ],
   "source": [
    "print(\"=====past=====\")\n",
    "for key, val in past['agents'].items():\n",
    "    print(key, val[0].shape)\n",
    "print(\"=====future=====\")\n",
    "for key, val in future['agents'].items():\n",
    "    print(key, val[0].shape)\n",
    "print(\"=====ego future=====\")\n",
    "print(ego_future['data'].shape)"
   ]
  },
  {
   "attachments": {},
   "cell_type": "markdown",
   "id": "165c4f66-730b-4667-aa99-2de6c491f2a6",
   "metadata": {},
   "source": [
    "## Sample code used by GameFormer to pack incoming data"
   ]
  },
  {
   "cell_type": "code",
   "execution_count": 9,
   "id": "14a552b8-b112-48a5-83f4-e680b509048e",
   "metadata": {
    "tags": []
   },
   "outputs": [],
   "source": [
    "# self.num_other_agents = 10\n",
    "# self.input_agent_dim = 11\n",
    "# self.past_trajectory_sampling.num_poses = 20\n",
    "\n",
    "from nuplan.planning.training.preprocessing.features.generic_agents import (\n",
    "    GenericAgents,\n",
    ")\n",
    "from nuplan.planning.training.preprocessing.features.vector_set_map import (\n",
    "    VectorSetMap,\n",
    ")\n",
    "from nuplan.planning.training.modeling.types import FeaturesType, TargetsType\n",
    "\n",
    "def process_map_data_to_tensors(self, features: FeaturesType):\n",
    "    vector_set_map: VectorSetMap = features[\"vector_set_map\"]\n",
    "    lane_coords = torch.stack(vector_set_map.coords[\"LANE\"], dim=0)\n",
    "    left_boundary = torch.stack(\n",
    "        vector_set_map.coords[\"LEFT_BOUNDARY\"], dim=0\n",
    "    )\n",
    "    right_boundary = torch.stack(\n",
    "        vector_set_map.coords[\"RIGHT_BOUNDARY\"], dim=0\n",
    "    )\n",
    "    traffic_light_status = torch.stack(\n",
    "        vector_set_map.traffic_light_data[\"LANE\"], dim=0\n",
    "    )\n",
    "\n",
    "    lane = torch.cat(\n",
    "        [lane_coords, left_boundary, right_boundary, traffic_light_status],\n",
    "        dim=-1,\n",
    "    )\n",
    "    lane_mask = torch.stack(vector_set_map.availabilities[\"LANE\"], dim=0)\n",
    "\n",
    "    stopline_and_crosswalk = torch.cat(\n",
    "        [\n",
    "            torch.stack(vector_set_map.coords[\"STOP_LINE\"], dim=0),\n",
    "            torch.stack(vector_set_map.coords[\"CROSSWALK\"], dim=0),\n",
    "        ],\n",
    "        dim=1,\n",
    "    )\n",
    "    stopline_and_crosswalk_mask = torch.cat(\n",
    "        [\n",
    "            torch.stack(vector_set_map.availabilities[\"STOP_LINE\"], dim=0),\n",
    "            torch.stack(vector_set_map.availabilities[\"CROSSWALK\"], dim=0),\n",
    "        ],\n",
    "        dim=1,\n",
    "    )\n",
    "\n",
    "    return {\n",
    "        \"lane\": lane.unsqueeze(1),\n",
    "        \"lane_mask\": lane_mask.unsqueeze(1),\n",
    "        \"stopline_crosswalk\": stopline_and_crosswalk.unsqueeze(1),\n",
    "        \"stopline_crosswalk_mask\": stopline_and_crosswalk_mask.unsqueeze(\n",
    "            1\n",
    "        ),\n",
    "    }\n",
    "\n",
    "def process_agent_data_to_tensors(self, features: FeaturesType):\n",
    "    # anchor is at the last position\n",
    "    agent_features: GenericAgents = features[\"generic_agents\"]\n",
    "    batch_size = agent_features.batch_size\n",
    "\n",
    "    batched_other_agents = []\n",
    "    batched_other_agents_mask = []\n",
    "    batched_ego = torch.stack(agent_features.ego, dim=0)\n",
    "    for i in range(batch_size):\n",
    "        # ego features\n",
    "        anchor_ego = agent_features.ego[i][\n",
    "            -1, :2\n",
    "        ]  # x,y of current position\n",
    "        # agent features\n",
    "        all_other_agents = []\n",
    "        if agent_features.has_agents(\"VEHICLE\", i):\n",
    "            all_other_agents.append(agent_features.agents[\"VEHICLE\"][i])\n",
    "        if agent_features.has_agents(\"PEDESTRIAN\", i):\n",
    "            all_other_agents.append(agent_features.agents[\"PEDESTRIAN\"][i])\n",
    "        if agent_features.has_agents(\"BICYCLE\", i):\n",
    "            all_other_agents.append(agent_features.agents[\"BICYCLE\"][i])\n",
    "\n",
    "        num_agents_to_pad = -1\n",
    "        other_agents_tensor = None\n",
    "        if len(all_other_agents) > 0:\n",
    "            other_agents_tensor = torch.cat(all_other_agents, dim=1)\n",
    "\n",
    "            if other_agents_tensor.shape[1] < self.num_other_agents:\n",
    "                num_agents_to_pad = (\n",
    "                    self.num_other_agents - other_agents_tensor.shape[1]\n",
    "                )\n",
    "                other_agents_tensor = torch.nn.functional.pad(\n",
    "                    other_agents_tensor,\n",
    "                    (0, 0, 0, num_agents_to_pad, 0, 0),\n",
    "                    mode=\"constant\",\n",
    "                    value=0.0,\n",
    "                )\n",
    "            else:\n",
    "                num_agents_to_pad = 0\n",
    "        else:\n",
    "            other_agents_tensor = torch.zeros(\n",
    "                anchor_ego.shape[0],\n",
    "                self.num_other_agents,\n",
    "                self.input_agent_dim,\n",
    "            ).type_as(anchor_ego)\n",
    "            num_agents_to_pad = self.num_other_agents\n",
    "\n",
    "        expected_timesteps = self.past_trajectory_sampling.num_poses + 1\n",
    "        num_timesteps_to_pad = (\n",
    "            expected_timesteps - other_agents_tensor.shape[0]\n",
    "        )\n",
    "        if num_timesteps_to_pad > 0:\n",
    "            # NOTE: current state is at the last position,\n",
    "            # so to pad in time dimension, we pad from the front.\n",
    "            other_agents_tensor = torch.nn.functional.pad(\n",
    "                other_agents_tensor,\n",
    "                (0, 0, 0, 0, num_timesteps_to_pad, 0),\n",
    "                mode=\"constant\",\n",
    "                value=0.0,\n",
    "            )\n",
    "\n",
    "        avail = torch.ones(\n",
    "            other_agents_tensor.shape[0],\n",
    "            other_agents_tensor.shape[1],\n",
    "            dtype=torch.bool,\n",
    "            device=other_agents_tensor.device,\n",
    "        )\n",
    "        if num_agents_to_pad > 0:\n",
    "            avail[:, -num_agents_to_pad:] = False\n",
    "        if num_timesteps_to_pad > 0:\n",
    "            avail[:num_timesteps_to_pad, :] = False\n",
    "        batched_other_agents.append(other_agents_tensor)\n",
    "        batched_other_agents_mask.append(avail)\n",
    "\n",
    "    return {\n",
    "        \"ego\": batched_ego.unsqueeze(1),\n",
    "        \"agents\": torch.stack(batched_other_agents, dim=0).transpose(1, 2),\n",
    "        \"agents_mask\": torch.stack(\n",
    "            batched_other_agents_mask, dim=0\n",
    "        ).transpose(1, 2),\n",
    "    }"
   ]
  }
 ],
 "metadata": {
  "kernelspec": {
   "display_name": "Python 3 (ipykernel)",
   "language": "python",
   "name": "python3"
  },
  "language_info": {
   "codemirror_mode": {
    "name": "ipython",
    "version": 3
   },
   "file_extension": ".py",
   "mimetype": "text/x-python",
   "name": "python",
   "nbconvert_exporter": "python",
   "pygments_lexer": "ipython3",
   "version": "3.9.16"
  }
 },
 "nbformat": 4,
 "nbformat_minor": 5
}
