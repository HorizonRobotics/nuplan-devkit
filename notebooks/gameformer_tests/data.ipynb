{
 "cells": [
  {
   "cell_type": "code",
   "execution_count": 59,
   "id": "7d2593a2-28cb-43aa-a54f-61d3e439dcb9",
   "metadata": {
    "tags": []
   },
   "outputs": [
    {
     "name": "stdout",
     "output_type": "stream",
     "text": [
      "The autoreload extension is already loaded. To reload it, use:\n",
      "  %reload_ext autoreload\n"
     ]
    }
   ],
   "source": [
    "%load_ext autoreload\n",
    "%autoreload 2\n",
    "# %matplotlib inline\n",
    "import torch\n",
    "import numpy as np\n",
    "import os\n",
    "import pickle\n",
    "import gzip\n",
    "import pandas\n",
    "from matplotlib import pyplot as plt\n",
    "from pathlib import Path\n",
    "from nuplan.planning.training.preprocessing.features.vector_set_map import VectorSetMap\n",
    "from nuplan.planning.training.preprocessing.features.generic_agents import GenericAgents\n",
    "from nuplan_extent.planning.training.modeling.models.gameformer_model import GameFormer\n",
    "from nuplan.planning.simulation.trajectory.trajectory_sampling import TrajectorySampling\n",
    "\n",
    "torch.set_printoptions(threshold=15)"
   ]
  },
  {
   "cell_type": "code",
   "execution_count": null,
   "id": "82abfc17-b9d4-44e6-9965-31fa82fa6943",
   "metadata": {
    "jupyter": {
     "source_hidden": true
    },
    "tags": []
   },
   "outputs": [],
   "source": [
    "agents_data = \"/mnt/nas20/nuplan_cached/nuplanv1.1_mini_gameformer_20Hz_per1500/2021.05.12.22.28.35_veh-35_00620_01164/high_magnitude_speed/025dcbd9962b5544/generic_agents.gz\"\n",
    "map_data = \"/mnt/nas20/nuplan_cached/nuplanv1.1_mini_gameformer_20Hz_per1500/2021.05.12.22.28.35_veh-35_00620_01164/high_magnitude_speed/025dcbd9962b5544/vector_set_map.gz\"\n",
    "\n",
    "with gzip.open(agents_data, \"rb\") as f:\n",
    "    agents_content = pickle.load(f)\n",
    "    \n",
    "with gzip.open(map_data, \"rb\") as f:\n",
    "    map_content = pickle.load(f)\n",
    "\n",
    "plt.figure(figsize=(10,10))\n",
    "num_vehicle = agents_content['agents']['VEHICLE'][0].shape[1]\n",
    "for i in range(num_vehicle):\n",
    "    vehicle = agents_content['agents']['VEHICLE'][0][:, i, :2]\n",
    "    plt.plot(vehicle[:, 0], vehicle[:, 1], '.-')\n",
    "\n",
    "for lane in map_content['coords']['LANE'][0]:\n",
    "    plt.plot(lane[:, 0], lane[:, 1], ',-k')\n",
    "for lane in map_content['coords']['LEFT_BOUNDARY'][0]:\n",
    "    plt.plot(lane[:, 0], lane[:, 1], ',-y', alpha=0.1)\n",
    "for lane in map_content['coords']['RIGHT_BOUNDARY'][0]:\n",
    "    plt.plot(lane[:, 0], lane[:, 1], ',-y', alpha=0.1)\n",
    "for cw in map_content['coords']['CROSSWALK'][0]:\n",
    "    cww = cw[cw[:,0]!=0]\n",
    "    plt.plot(cww[:, 0], cww[:, 1], 'y,-')\n",
    "for ss in map_content['coords']['STOP_LINE'][0]:\n",
    "    sss = ss[ss[:,0]!=0]\n",
    "    plt.plot(sss[:, 0], sss[:, 1], 'm,-')\n",
    "plt.axis('equal')"
   ]
  },
  {
   "cell_type": "code",
   "execution_count": null,
   "id": "0aba6775-8834-424f-b224-f693b292d774",
   "metadata": {
    "jupyter": {
     "source_hidden": true
    },
    "tags": []
   },
   "outputs": [],
   "source": [
    "map_data = VectorSetMap.collate([VectorSetMap.deserialize(map_content)]).to_feature_tensor()\n",
    "agents_data = GenericAgents.collate([GenericAgents.deserialize(agents_content)]).to_feature_tensor()"
   ]
  },
  {
   "cell_type": "code",
   "execution_count": 109,
   "id": "d12ad432-2059-4de9-b360-da32fc3f9561",
   "metadata": {
    "tags": []
   },
   "outputs": [],
   "source": [
    "# Construct a model\n",
    "num_target_agents = 11\n",
    "input_agent_dim = 11\n",
    "input_lane_dim = 12\n",
    "input_crosswalk_dim = 2\n",
    "hidden_feature_dim = 256\n",
    "num_encoder_layers = 6\n",
    "num_decoder_layers_lvl0 = 6\n",
    "num_decoder_modules_lvlk = 6\n",
    "num_modalities = 6\n",
    "model = GameFormer([], [], TrajectorySampling(20, 2), TrajectorySampling(16, 8), num_target_agents, input_agent_dim, input_lane_dim, input_crosswalk_dim, hidden_feature_dim)"
   ]
  },
  {
   "cell_type": "code",
   "execution_count": null,
   "id": "d00ad3ce-a143-4c48-9cc7-42ae291b5c17",
   "metadata": {
    "jupyter": {
     "source_hidden": true
    },
    "tags": []
   },
   "outputs": [],
   "source": [
    "processed_map = model.process_map_data_to_tensors({\"vector_set_map\": map_data})\n",
    "print(processed_map.keys())\n",
    "\n",
    "print(processed_map['lane'].shape)\n",
    "print(processed_map['lane_mask'].shape)\n",
    "print(processed_map['stopline_crosswalk'].shape)\n",
    "print(processed_map['stopline_crosswalk_mask'].shape)"
   ]
  },
  {
   "cell_type": "code",
   "execution_count": null,
   "id": "892fb5c6-b36c-442f-bfd4-153e46764984",
   "metadata": {
    "jupyter": {
     "source_hidden": true
    },
    "tags": []
   },
   "outputs": [],
   "source": [
    "processed_agents = model.process_agent_data_to_tensors({\"generic_agents\": agents_data})\n",
    "print(processed_agents.keys())\n",
    "print(processed_agents['ego'].shape)\n",
    "print(processed_agents['agents'].shape)\n",
    "print(processed_agents['agents_mask'].shape)"
   ]
  },
  {
   "cell_type": "code",
   "execution_count": null,
   "id": "b3376eca-4389-42b6-84e4-80d8c27aed95",
   "metadata": {
    "jupyter": {
     "source_hidden": true
    },
    "tags": []
   },
   "outputs": [],
   "source": [
    "plt.figure(figsize=(10,10))\n",
    "for lane in processed_map['lane'].numpy()[0,0]:\n",
    "    plt.plot(lane[:, 0], lane[:, 1], 'k')\n",
    "for stopline in processed_map['stopline_crosswalk'].numpy()[0,0]:\n",
    "    stopline_draw = stopline[stopline[:, 0] != 0]\n",
    "    plt.plot(stopline_draw[:, 0], stopline_draw[:, 1], 'y,-')\n",
    "for ego in processed_agents['ego'].numpy()[0]:\n",
    "    plt.plot(ego[:, 0], ego[:, 1], '.-b')\n",
    "for other in processed_agents['agents'].numpy()[0]:\n",
    "    plt.plot(other[:, 0], other[:, 1], '.-r', alpha=0.3)\n",
    "plt.grid('on')\n",
    "plt.axis('equal')"
   ]
  },
  {
   "cell_type": "markdown",
   "id": "78910632-743d-4c4f-860b-767608107996",
   "metadata": {
    "tags": []
   },
   "source": [
    "---"
   ]
  },
  {
   "cell_type": "markdown",
   "id": "fa2c9f42-da71-4f2e-abe9-d01d1ad10c58",
   "metadata": {},
   "source": [
    "# New batch of data"
   ]
  },
  {
   "cell_type": "markdown",
   "id": "c5d05a56-8387-4550-a96c-674bd704b5ef",
   "metadata": {
    "tags": []
   },
   "source": [
    "## Statistics"
   ]
  },
  {
   "cell_type": "code",
   "execution_count": 51,
   "id": "ac571966-c2d0-4e32-8271-acb366f18c19",
   "metadata": {},
   "outputs": [],
   "source": [
    "meta_path = \"/mnt/nas20/nuplan_cached/nuplanv1.1_mini_gameformer_20Hz_per1500_alltargets_metadata/nuplanv1.1_mini_gameformer_20Hz_per1500_alltargets_v2_metadata_node_0.csv\"\n",
    "list_files = pandas.read_csv(meta_path)"
   ]
  },
  {
   "cell_type": "code",
   "execution_count": 95,
   "id": "a0fbb685-003d-4745-ad41-4ed2f0857ef4",
   "metadata": {
    "tags": []
   },
   "outputs": [
    {
     "name": "stdout",
     "output_type": "stream",
     "text": [
      "The total number of scenarios is 27943\n",
      "                                                    count\n",
      "near_long_vehicle                                    1332\n",
      "traversing_traffic_light_intersection                1500\n",
      "on_stopline_stop_sign                                1412\n",
      "medium_magnitude_speed                               1500\n",
      "on_intersection                                      1226\n",
      "stationary_at_traffic_light_without_lead             1500\n",
      "stationary                                           1500\n",
      "on_pickup_dropoff                                    1500\n",
      "near_high_speed_vehicle                              1500\n",
      "traversing_intersection                              1500\n",
      "stationary_in_traffic                                1500\n",
      "near_multiple_vehicles                                495\n",
      "following_lane_with_slow_lead                         490\n",
      "unknown                                              1500\n",
      "near_trafficcone_on_driveable                         360\n",
      "stationary_at_traffic_light_with_lead                1212\n",
      "traversing_pickup_dropoff                            1500\n",
      "low_magnitude_speed                                  1219\n",
      "high_magnitude_speed                                 1500\n",
      "traversing_crosswalk                                  632\n",
      "starting_protected_cross_turn                          43\n",
      "on_stopline_crosswalk                                 475\n",
      "near_pedestrian_on_crosswalk                          349\n",
      "waiting_for_pedestrian_to_cross                       110\n",
      "starting_unprotected_cross_turn                        27\n",
      "following_lane_without_lead                           187\n",
      "high_lateral_acceleration                              70\n",
      "on_carpark                                            524\n",
      "on_traffic_light_intersection                         520\n",
      "starting_unprotected_noncross_turn                     30\n",
      "following_lane_with_lead                               21\n",
      "near_construction_zone_sign                           298\n",
      "on_stopline_traffic_light                             159\n",
      "starting_right_turn                                    40\n",
      "stopping_at_traffic_light_without_lead                 16\n",
      "stopping_at_stop_sign_without_lead                     32\n",
      "stopping_with_lead                                     64\n",
      "stopping_at_crosswalk                                  29\n",
      "starting_straight_stop_sign_intersection_traversal     23\n",
      "near_multiple_pedestrians                               7\n",
      "stopping_at_stop_sign_no_crosswalk                     15\n",
      "accelerating_at_traffic_light_with_lead                20\n",
      "starting_straight_traffic_light_intersection_tr...      1\n",
      "changing_lane_to_right                                  2\n",
      "changing_lane_to_left                                   2\n",
      "near_barrier_on_driveable                               1\n"
     ]
    }
   ],
   "source": [
    "print(f\"The total number of scenarios is {len(list_files) // 4}\")\n",
    "scenario_types = {}\n",
    "set_paths = set([Path(i).parent for i in list_files['file_name'].to_list()])\n",
    "for path in set_paths:\n",
    "    stype = path.parents[0].stem\n",
    "    scenario_types[stype] = scenario_types.get(stype, 0) + 1\n",
    "scenario_pd = pandas.DataFrame.from_dict(scenario_types, orient='index')\n",
    "scenario_pd = scenario_pd.rename(columns={0: \"count\"})\n",
    "print(scenario_pd)"
   ]
  },
  {
   "cell_type": "code",
   "execution_count": 119,
   "id": "12a5ef80-0b9d-40c5-b14d-8bbb86c3eef3",
   "metadata": {
    "tags": []
   },
   "outputs": [],
   "source": [
    "path = \"/mnt/nas20/nuplan_cached/nuplanv1.1_mini_gameformer_20Hz_per1500_alltargets/2021.06.03.12.02.06_veh-35_00233_00609/unknown/b36cb91e1495574c/\"\n",
    "agents_past_data = os.path.join(path, \"generic_agents.gz\")\n",
    "agents_future_data = os.path.join(path, \"agents_trajectory_target.gz\")\n",
    "ego_target_data = os.path.join(path, \"trajectory.gz\")\n",
    "map_data = os.path.join(path, \"vector_set_map.gz\")"
   ]
  },
  {
   "cell_type": "code",
   "execution_count": 120,
   "id": "f3805fdb-845a-4ecf-8ea0-d1a78a620493",
   "metadata": {
    "tags": []
   },
   "outputs": [],
   "source": [
    "with gzip.open(agents_past_data, \"rb\") as f:\n",
    "    past = pickle.load(f)\n",
    "    \n",
    "with gzip.open(agents_future_data, \"rb\") as f:\n",
    "    future = pickle.load(f)\n",
    "    \n",
    "with gzip.open(ego_target_data, \"rb\") as f:\n",
    "    ego_future = pickle.load(f)\n",
    "\n",
    "with gzip.open(map_data, \"rb\") as f:\n",
    "    maps = pickle.load(f)"
   ]
  },
  {
   "cell_type": "code",
   "execution_count": 125,
   "id": "08d32062-c2d1-4912-bb2a-c287da1706eb",
   "metadata": {
    "tags": []
   },
   "outputs": [],
   "source": [
    "for path in set_paths:\n",
    "    agents_past_data = os.path.join(path, \"generic_agents.gz\")\n",
    "    with gzip.open(agents_past_data, \"rb\") as f:\n",
    "        past = pickle.load(f)\n",
    "    if past['agents']['VEHICLE'][0].shape[1] + past['agents']['PEDESTRIAN'][0].shape[1] + past['agents']['BICYCLE'][0].shape[1] < 10:\n",
    "        break"
   ]
  },
  {
   "cell_type": "code",
   "execution_count": 121,
   "id": "a58edb97-84dc-4bd1-9b2e-4468c4762d41",
   "metadata": {
    "tags": []
   },
   "outputs": [
    {
     "name": "stdout",
     "output_type": "stream",
     "text": [
      "=====past=====\n",
      "VEHICLE (21, 10, 11)\n",
      "PEDESTRIAN (21, 0, 11)\n",
      "BICYCLE (21, 0, 11)\n",
      "=====future=====\n",
      "VEHICLE (16, 10, 3)\n",
      "PEDESTRIAN (16, 0, 3)\n",
      "BICYCLE (16, 0, 3)\n",
      "=====ego future=====\n",
      "(16, 3)\n"
     ]
    }
   ],
   "source": [
    "print(\"=====past=====\")\n",
    "for key, val in past['agents'].items():\n",
    "    print(key, val[0].shape)\n",
    "print(\"=====future=====\")\n",
    "for key, val in future['agents'].items():\n",
    "    print(key, val[0].shape)\n",
    "print(\"=====ego future=====\")\n",
    "print(ego_future['data'].shape)"
   ]
  },
  {
   "cell_type": "code",
   "execution_count": 122,
   "id": "e11f98b5-727a-4c77-97ee-3c53f932d501",
   "metadata": {
    "tags": []
   },
   "outputs": [
    {
     "data": {
      "text/plain": [
       "(-99.66369132995605, 72.14926414489746, -13.16212248802185, 51.43179965019226)"
      ]
     },
     "execution_count": 122,
     "metadata": {},
     "output_type": "execute_result"
    },
    {
     "data": {
      "image/png": "[encoded data removed]",
      "text/plain": [
       "<Figure size 1000x1000 with 1 Axes>"
      ]
     },
     "metadata": {},
     "output_type": "display_data"
    }
   ],
   "source": [
    "plt.figure(figsize=(10,10))\n",
    "\n",
    "for agent in ['VEHICLE', 'PEDESTRIAN', 'BICYCLE']:\n",
    "    num_vehicle = past['agents'][agent][0].shape[1]\n",
    "    for i in range(num_vehicle):\n",
    "        color = np.random.rand(3,)\n",
    "        \n",
    "        vehicle = past['agents'][agent][0][:, i, :2]\n",
    "        plt.plot(vehicle[:, 0], vehicle[:, 1], '.-', c=color, alpha=0.1)\n",
    "        \n",
    "        vehicle_future = future['agents'][agent][0][:, i, :2]\n",
    "        plt.plot(vehicle_future[:, 0], vehicle_future[:, 1], '.-', c=color)\n",
    "\n",
    "# Ego track\n",
    "plt.plot(past['ego'][0][:, 0], past['ego'][0][:, 1], 'k.-', alpha=0.1)\n",
    "plt.plot(ego_future['data'][:, 0], ego_future['data'][:, 1], 'k.-')\n",
    "\n",
    "# Map data\n",
    "for lane in maps['coords']['LANE'][0]:\n",
    "    plt.plot(lane[:, 0], lane[:, 1], 'b,-', alpha=0.3)\n",
    "for lane in maps['coords']['CROSSWALK'][0]:\n",
    "    lane = lane[lane[:, 0]!=0]\n",
    "    plt.plot(lane[:, 0], lane[:, 1], 'b,-', alpha=0.3)\n",
    "for lane in maps['coords']['STOP_LINE'][0]:\n",
    "    lane = lane[lane[:, 0]!=0]\n",
    "    plt.plot(lane[:, 0], lane[:, 1], 'g,-', alpha=0.3)\n",
    "plt.axis('equal')"
   ]
  },
  {
   "cell_type": "code",
   "execution_count": 129,
   "id": "2c31f995-96b0-4579-a770-35e14604c270",
   "metadata": {
    "tags": []
   },
   "outputs": [],
   "source": [
    "map_data = VectorSetMap.collate([VectorSetMap.deserialize(maps)]).to_feature_tensor()\n",
    "agents_data = GenericAgents.collate([GenericAgents.deserialize(past)]).to_feature_tensor()\n",
    "future_data = GenericAgents.collate([GenericAgents.deserialize(future)]).to_feature_tensor()"
   ]
  },
  {
   "cell_type": "code",
   "execution_count": 110,
   "id": "bf2a016e-1f8a-423c-a65c-89aa42c80f4a",
   "metadata": {
    "tags": []
   },
   "outputs": [
    {
     "name": "stdout",
     "output_type": "stream",
     "text": [
      "dict_keys(['lane', 'lane_mask', 'stopline_crosswalk', 'stopline_crosswalk_mask'])\n",
      "torch.Size([1, 1, 6, 100, 12])\n",
      "torch.Size([1, 1, 6, 100])\n",
      "torch.Size([1, 1, 8, 100, 2])\n",
      "torch.Size([1, 1, 8, 100])\n"
     ]
    }
   ],
   "source": [
    "processed_map = model.process_map_data_to_tensors({\"vector_set_map\": map_data})\n",
    "print(processed_map.keys())\n",
    "\n",
    "print(processed_map['lane'].shape)\n",
    "print(processed_map['lane_mask'].shape)\n",
    "print(processed_map['stopline_crosswalk'].shape)\n",
    "print(processed_map['stopline_crosswalk_mask'].shape)"
   ]
  },
  {
   "cell_type": "code",
   "execution_count": 130,
   "id": "0ab3e2f6-46ca-49ee-bf68-ab5549c18446",
   "metadata": {
    "tags": []
   },
   "outputs": [
    {
     "name": "stdout",
     "output_type": "stream",
     "text": [
      "dict_keys(['ego', 'agents', 'agents_mask'])\n",
      "torch.Size([1, 1, 21, 11])\n",
      "torch.Size([1, 10, 21, 11])\n",
      "torch.Size([1, 10, 21])\n"
     ]
    }
   ],
   "source": [
    "processed_agents = model.process_agent_data_to_tensors({\"generic_agents\": agents_data})\n",
    "print(processed_agents.keys())\n",
    "print(processed_agents['ego'].shape)\n",
    "print(processed_agents['agents'].shape)\n",
    "print(processed_agents['agents_mask'].shape)"
   ]
  },
  {
   "cell_type": "code",
   "execution_count": 114,
   "id": "a25ff396-c402-43f8-baed-a2215d0377a9",
   "metadata": {
    "tags": []
   },
   "outputs": [
    {
     "data": {
      "image/png": "[encoded data removed]",
      "text/plain": [
       "<Figure size 640x480 with 1 Axes>"
      ]
     },
     "metadata": {},
     "output_type": "display_data"
    }
   ],
   "source": [
    "for i in range(6):\n",
    "    plt.plot(processed_map['lane'][0,0,i,:,0], processed_map['lane'][0,0,i,:,1], ',-b')\n",
    "for i in range(8):\n",
    "    plt.plot(processed_map['stopline_crosswalk'][0,0,i,:,0], processed_map['stopline_crosswalk'][0,0,i,:,1], ',-g')\n",
    "for i in range(10):\n",
    "    plt.plot(processed_agents['agents'][0,i,:,0], processed_agents['agents'][0,i,:,1], ',-r')"
   ]
  },
  {
   "cell_type": "code",
   "execution_count": null,
   "id": "677d5e94-4dd9-4b71-a1ed-ed6cd7d280d7",
   "metadata": {},
   "outputs": [],
   "source": []
  }
 ],
 "metadata": {
  "kernelspec": {
   "display_name": "Python 3 (ipykernel)",
   "language": "python",
   "name": "python3"
  },
  "language_info": {
   "codemirror_mode": {
    "name": "ipython",
    "version": 3
   },
   "file_extension": ".py",
   "mimetype": "text/x-python",
   "name": "python",
   "nbconvert_exporter": "python",
   "pygments_lexer": "ipython3",
   "version": "3.9.16"
  }
 },
 "nbformat": 4,
 "nbformat_minor": 5
}
