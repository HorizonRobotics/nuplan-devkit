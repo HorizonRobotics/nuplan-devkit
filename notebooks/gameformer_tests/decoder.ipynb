{
 "cells": [
  {
   "cell_type": "code",
   "execution_count": 1,
   "id": "b29303af-bb6a-4599-b69f-7538b1162171",
   "metadata": {
    "tags": []
   },
   "outputs": [],
   "source": [
    "%load_ext autoreload\n",
    "%autoreload 2\n",
    "import torch\n",
    "import torch.nn as nn\n",
    "import numpy as np"
   ]
  },
  {
   "cell_type": "code",
   "execution_count": 2,
   "id": "27f8fa9a-d98e-4482-b5a5-13f726835c3a",
   "metadata": {},
   "outputs": [],
   "source": [
    "from nuplan_extent.planning.training.modeling.models.decoders.gameformer_decoder import GameFormerDecoder0, GameFormerDecoderK"
   ]
  },
  {
   "cell_type": "markdown",
   "id": "e332c3d9-98b1-437b-b7e2-6b5ae2f9c735",
   "metadata": {},
   "source": [
    "outputs from encoder:\n",
    "\n",
    "agent_context_encoding: [11, B, 256]\n",
    "\n",
    "scene_context_encoding: [91, B, 256]\n",
    "\n",
    "scene_context_mask: [B, 91]"
   ]
  },
  {
   "cell_type": "code",
   "execution_count": 17,
   "id": "deb73026-108d-4373-b123-1793f0e185ec",
   "metadata": {
    "tags": []
   },
   "outputs": [],
   "source": [
    "a = nn.MultiheadAttention(256, num_heads=4)"
   ]
  },
  {
   "cell_type": "code",
   "execution_count": 21,
   "id": "ea3c517f-1e7d-4aa1-883a-9c7346e65f2b",
   "metadata": {
    "tags": []
   },
   "outputs": [
    {
     "data": {
      "text/plain": [
       "[Parameter containing:\n",
       " tensor([[-0.0151,  0.0619,  0.0157,  ..., -0.0198, -0.0080, -0.0393],\n",
       "         [-0.0606, -0.0054, -0.0268,  ..., -0.0210,  0.0118, -0.0351],\n",
       "         [-0.0595,  0.0741,  0.0233,  ...,  0.0400, -0.0144,  0.0231],\n",
       "         ...,\n",
       "         [ 0.0419,  0.0182, -0.0268,  ...,  0.0481, -0.0336,  0.0575],\n",
       "         [ 0.0387,  0.0700, -0.0591,  ...,  0.0160,  0.0463, -0.0269],\n",
       "         [-0.0050, -0.0416,  0.0266,  ...,  0.0126,  0.0584,  0.0525]],\n",
       "        requires_grad=True),\n",
       " Parameter containing:\n",
       " tensor([0., 0., 0., 0., 0., 0., 0., 0., 0., 0., 0., 0., 0., 0., 0., 0., 0., 0., 0., 0., 0., 0., 0., 0.,\n",
       "         0., 0., 0., 0., 0., 0., 0., 0., 0., 0., 0., 0., 0., 0., 0., 0., 0., 0., 0., 0., 0., 0., 0., 0.,\n",
       "         0., 0., 0., 0., 0., 0., 0., 0., 0., 0., 0., 0., 0., 0., 0., 0., 0., 0., 0., 0., 0., 0., 0., 0.,\n",
       "         0., 0., 0., 0., 0., 0., 0., 0., 0., 0., 0., 0., 0., 0., 0., 0., 0., 0., 0., 0., 0., 0., 0., 0.,\n",
       "         0., 0., 0., 0., 0., 0., 0., 0., 0., 0., 0., 0., 0., 0., 0., 0., 0., 0., 0., 0., 0., 0., 0., 0.,\n",
       "         0., 0., 0., 0., 0., 0., 0., 0., 0., 0., 0., 0., 0., 0., 0., 0., 0., 0., 0., 0., 0., 0., 0., 0.,\n",
       "         0., 0., 0., 0., 0., 0., 0., 0., 0., 0., 0., 0., 0., 0., 0., 0., 0., 0., 0., 0., 0., 0., 0., 0.,\n",
       "         0., 0., 0., 0., 0., 0., 0., 0., 0., 0., 0., 0., 0., 0., 0., 0., 0., 0., 0., 0., 0., 0., 0., 0.,\n",
       "         0., 0., 0., 0., 0., 0., 0., 0., 0., 0., 0., 0., 0., 0., 0., 0., 0., 0., 0., 0., 0., 0., 0., 0.,\n",
       "         0., 0., 0., 0., 0., 0., 0., 0., 0., 0., 0., 0., 0., 0., 0., 0., 0., 0., 0., 0., 0., 0., 0., 0.,\n",
       "         0., 0., 0., 0., 0., 0., 0., 0., 0., 0., 0., 0., 0., 0., 0., 0., 0., 0., 0., 0., 0., 0., 0., 0.,\n",
       "         0., 0., 0., 0., 0., 0., 0., 0., 0., 0., 0., 0., 0., 0., 0., 0., 0., 0., 0., 0., 0., 0., 0., 0.,\n",
       "         0., 0., 0., 0., 0., 0., 0., 0., 0., 0., 0., 0., 0., 0., 0., 0., 0., 0., 0., 0., 0., 0., 0., 0.,\n",
       "         0., 0., 0., 0., 0., 0., 0., 0., 0., 0., 0., 0., 0., 0., 0., 0., 0., 0., 0., 0., 0., 0., 0., 0.,\n",
       "         0., 0., 0., 0., 0., 0., 0., 0., 0., 0., 0., 0., 0., 0., 0., 0., 0., 0., 0., 0., 0., 0., 0., 0.,\n",
       "         0., 0., 0., 0., 0., 0., 0., 0., 0., 0., 0., 0., 0., 0., 0., 0., 0., 0., 0., 0., 0., 0., 0., 0.,\n",
       "         0., 0., 0., 0., 0., 0., 0., 0., 0., 0., 0., 0., 0., 0., 0., 0., 0., 0., 0., 0., 0., 0., 0., 0.,\n",
       "         0., 0., 0., 0., 0., 0., 0., 0., 0., 0., 0., 0., 0., 0., 0., 0., 0., 0., 0., 0., 0., 0., 0., 0.,\n",
       "         0., 0., 0., 0., 0., 0., 0., 0., 0., 0., 0., 0., 0., 0., 0., 0., 0., 0., 0., 0., 0., 0., 0., 0.,\n",
       "         0., 0., 0., 0., 0., 0., 0., 0., 0., 0., 0., 0., 0., 0., 0., 0., 0., 0., 0., 0., 0., 0., 0., 0.,\n",
       "         0., 0., 0., 0., 0., 0., 0., 0., 0., 0., 0., 0., 0., 0., 0., 0., 0., 0., 0., 0., 0., 0., 0., 0.,\n",
       "         0., 0., 0., 0., 0., 0., 0., 0., 0., 0., 0., 0., 0., 0., 0., 0., 0., 0., 0., 0., 0., 0., 0., 0.,\n",
       "         0., 0., 0., 0., 0., 0., 0., 0., 0., 0., 0., 0., 0., 0., 0., 0., 0., 0., 0., 0., 0., 0., 0., 0.,\n",
       "         0., 0., 0., 0., 0., 0., 0., 0., 0., 0., 0., 0., 0., 0., 0., 0., 0., 0., 0., 0., 0., 0., 0., 0.,\n",
       "         0., 0., 0., 0., 0., 0., 0., 0., 0., 0., 0., 0., 0., 0., 0., 0., 0., 0., 0., 0., 0., 0., 0., 0.,\n",
       "         0., 0., 0., 0., 0., 0., 0., 0., 0., 0., 0., 0., 0., 0., 0., 0., 0., 0., 0., 0., 0., 0., 0., 0.,\n",
       "         0., 0., 0., 0., 0., 0., 0., 0., 0., 0., 0., 0., 0., 0., 0., 0., 0., 0., 0., 0., 0., 0., 0., 0.,\n",
       "         0., 0., 0., 0., 0., 0., 0., 0., 0., 0., 0., 0., 0., 0., 0., 0., 0., 0., 0., 0., 0., 0., 0., 0.,\n",
       "         0., 0., 0., 0., 0., 0., 0., 0., 0., 0., 0., 0., 0., 0., 0., 0., 0., 0., 0., 0., 0., 0., 0., 0.,\n",
       "         0., 0., 0., 0., 0., 0., 0., 0., 0., 0., 0., 0., 0., 0., 0., 0., 0., 0., 0., 0., 0., 0., 0., 0.,\n",
       "         0., 0., 0., 0., 0., 0., 0., 0., 0., 0., 0., 0., 0., 0., 0., 0., 0., 0., 0., 0., 0., 0., 0., 0.,\n",
       "         0., 0., 0., 0., 0., 0., 0., 0., 0., 0., 0., 0., 0., 0., 0., 0., 0., 0., 0., 0., 0., 0., 0., 0.],\n",
       "        requires_grad=True),\n",
       " Parameter containing:\n",
       " tensor([[-0.0151, -0.0256, -0.0071,  ..., -0.0607, -0.0115,  0.0420],\n",
       "         [ 0.0165,  0.0485,  0.0146,  ...,  0.0029,  0.0412,  0.0209],\n",
       "         [ 0.0268, -0.0116,  0.0280,  ..., -0.0504, -0.0481,  0.0233],\n",
       "         ...,\n",
       "         [ 0.0229, -0.0512, -0.0525,  ..., -0.0002,  0.0449, -0.0207],\n",
       "         [-0.0510, -0.0268,  0.0032,  ..., -0.0429,  0.0574,  0.0152],\n",
       "         [ 0.0003, -0.0568,  0.0062,  ..., -0.0231,  0.0155, -0.0559]],\n",
       "        requires_grad=True),\n",
       " Parameter containing:\n",
       " tensor([0., 0., 0., 0., 0., 0., 0., 0., 0., 0., 0., 0., 0., 0., 0., 0., 0., 0., 0., 0., 0., 0., 0., 0.,\n",
       "         0., 0., 0., 0., 0., 0., 0., 0., 0., 0., 0., 0., 0., 0., 0., 0., 0., 0., 0., 0., 0., 0., 0., 0.,\n",
       "         0., 0., 0., 0., 0., 0., 0., 0., 0., 0., 0., 0., 0., 0., 0., 0., 0., 0., 0., 0., 0., 0., 0., 0.,\n",
       "         0., 0., 0., 0., 0., 0., 0., 0., 0., 0., 0., 0., 0., 0., 0., 0., 0., 0., 0., 0., 0., 0., 0., 0.,\n",
       "         0., 0., 0., 0., 0., 0., 0., 0., 0., 0., 0., 0., 0., 0., 0., 0., 0., 0., 0., 0., 0., 0., 0., 0.,\n",
       "         0., 0., 0., 0., 0., 0., 0., 0., 0., 0., 0., 0., 0., 0., 0., 0., 0., 0., 0., 0., 0., 0., 0., 0.,\n",
       "         0., 0., 0., 0., 0., 0., 0., 0., 0., 0., 0., 0., 0., 0., 0., 0., 0., 0., 0., 0., 0., 0., 0., 0.,\n",
       "         0., 0., 0., 0., 0., 0., 0., 0., 0., 0., 0., 0., 0., 0., 0., 0., 0., 0., 0., 0., 0., 0., 0., 0.,\n",
       "         0., 0., 0., 0., 0., 0., 0., 0., 0., 0., 0., 0., 0., 0., 0., 0., 0., 0., 0., 0., 0., 0., 0., 0.,\n",
       "         0., 0., 0., 0., 0., 0., 0., 0., 0., 0., 0., 0., 0., 0., 0., 0., 0., 0., 0., 0., 0., 0., 0., 0.,\n",
       "         0., 0., 0., 0., 0., 0., 0., 0., 0., 0., 0., 0., 0., 0., 0., 0.],\n",
       "        requires_grad=True)]"
      ]
     },
     "execution_count": 21,
     "metadata": {},
     "output_type": "execute_result"
    }
   ],
   "source": [
    "list(a.parameters())"
   ]
  },
  {
   "cell_type": "code",
   "execution_count": 3,
   "id": "e61275f3-85b4-4c56-bb52-a26b4bee6052",
   "metadata": {},
   "outputs": [],
   "source": [
    "B = 5\n",
    "num_context = 91\n",
    "num_agents = 11\n",
    "D = 256"
   ]
  },
  {
   "cell_type": "code",
   "execution_count": 4,
   "id": "536a8c3e-bfeb-49b8-bde2-ce6bacf54f2f",
   "metadata": {},
   "outputs": [],
   "source": [
    "context_encoding = {\n",
    "    \"agent_context_encoding\": torch.randn(num_agents, B, D),\n",
    "    \"scene_context_encoding\": torch.randn(num_context, B, D),\n",
    "    \"scene_context_mask\": torch.randn(B, num_context)\n",
    "}"
   ]
  },
  {
   "cell_type": "code",
   "execution_count": 8,
   "id": "2046c53b-6656-4e67-8b4d-7f810ae0b032",
   "metadata": {},
   "outputs": [
    {
     "name": "stdout",
     "output_type": "stream",
     "text": [
      "torch.Size([5, 11, 6, 1])\n",
      "torch.Size([5, 11, 6, 50, 6])\n",
      "torch.Size([5, 11, 6, 256])\n"
     ]
    }
   ],
   "source": [
    "decoder0 = GameFormerDecoder0(num_agents, 50)\n",
    "\n",
    "output = decoder0(context_encoding)\n",
    "\n",
    "print(output['scores_0'].shape)\n",
    "print(output['trajectories_0'].shape)\n",
    "print(output['query_content_features_0'].shape)"
   ]
  },
  {
   "cell_type": "markdown",
   "id": "8a876698-4af9-4d20-829a-554d724627d4",
   "metadata": {},
   "source": [
    "Decoder-K\n",
    "---"
   ]
  },
  {
   "cell_type": "code",
   "execution_count": 9,
   "id": "0ce0a255-fb3a-464b-99ce-f84eacedc8b3",
   "metadata": {},
   "outputs": [],
   "source": [
    "fake_shared_mlp =nn.Sequential(\n",
    "    nn.Linear(50 * 2, D),\n",
    "    nn.ReLU6(),\n",
    "    nn.Linear(D, D),\n",
    "    nn.ReLU6(),\n",
    "    nn.MaxPool2d(kernel_size=[1, 3], stride=1, padding=[0, 1]),\n",
    ")\n",
    "fake_context_encoding = {\n",
    "    \"agent_context_encoding\": torch.randn(num_agents, B, D),\n",
    "    \"scene_context_encoding\": torch.randn(num_context, B, D),\n",
    "    \"scene_context_mask\": torch.randn(B, num_context) > 0.5,\n",
    "}"
   ]
  },
  {
   "cell_type": "code",
   "execution_count": 11,
   "id": "715ac947-c763-46c1-85f5-650db522b64c",
   "metadata": {},
   "outputs": [],
   "source": [
    "multi_future_encoding = fake_shared_mlp(output['trajectories_0'][..., :2].reshape(5, 11, 6, 100))\n",
    "fake_context_encoding[\"multi_future_encoding\"] = multi_future_encoding"
   ]
  },
  {
   "cell_type": "code",
   "execution_count": 12,
   "id": "74da380e-d4d6-4798-9ab8-19471d264778",
   "metadata": {},
   "outputs": [
    {
     "name": "stdout",
     "output_type": "stream",
     "text": [
      "agent_context_encoding torch.Size([11, 5, 256])\n",
      "scene_context_encoding torch.Size([91, 5, 256])\n",
      "scene_context_mask torch.Size([5, 91])\n",
      "multi_future_encoding torch.Size([5, 11, 6, 256])\n",
      "=====\n",
      "scores_0 torch.Size([5, 11, 6, 1])\n",
      "trajectories_0 torch.Size([5, 11, 6, 50, 6])\n",
      "query_content_features_0 torch.Size([5, 11, 6, 256])\n"
     ]
    }
   ],
   "source": [
    "for key, val in fake_context_encoding.items():\n",
    "    print(key, val.shape)\n",
    "print(\"=====\")\n",
    "for key, val in output.items():\n",
    "    print(key, val.shape)"
   ]
  },
  {
   "cell_type": "code",
   "execution_count": 14,
   "id": "4915abc3-71a1-4318-9077-2b4759ad360a",
   "metadata": {
    "tags": []
   },
   "outputs": [],
   "source": [
    "decoderk = GameFormerDecoderK(50, 256, k=1)\n",
    "\n",
    "decoderk_output = decoderk(fake_context_encoding, output)"
   ]
  },
  {
   "cell_type": "code",
   "execution_count": 15,
   "id": "efe8487a-a0de-4e29-841e-f10068987b79",
   "metadata": {},
   "outputs": [
    {
     "name": "stdout",
     "output_type": "stream",
     "text": [
      "scores_1 torch.Size([5, 11, 6, 1])\n",
      "query_content_features_1 torch.Size([5, 11, 6, 256])\n",
      "trajectories_1 torch.Size([5, 11, 6, 50, 6])\n"
     ]
    }
   ],
   "source": [
    "for key, val in decoderk_output.items():\n",
    "    print(key, val.shape)"
   ]
  }
 ],
 "metadata": {
  "kernelspec": {
   "display_name": "Python 3 (ipykernel)",
   "language": "python",
   "name": "python3"
  },
  "language_info": {
   "codemirror_mode": {
    "name": "ipython",
    "version": 3
   },
   "file_extension": ".py",
   "mimetype": "text/x-python",
   "name": "python",
   "nbconvert_exporter": "python",
   "pygments_lexer": "ipython3",
   "version": "3.9.16"
  }
 },
 "nbformat": 4,
 "nbformat_minor": 5
}
