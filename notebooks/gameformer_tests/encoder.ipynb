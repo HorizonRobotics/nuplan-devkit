{
 "cells": [
  {
   "cell_type": "code",
   "execution_count": 1,
   "id": "cf069d5a-4f4e-49db-ba46-024648f4a377",
   "metadata": {
    "tags": []
   },
   "outputs": [],
   "source": [
    "%load_ext autoreload\n",
    "%autoreload 2"
   ]
  },
  {
   "cell_type": "code",
   "execution_count": 2,
   "id": "167c6a2c-c968-4909-8baa-e7827428222e",
   "metadata": {
    "tags": []
   },
   "outputs": [],
   "source": [
    "import torch\n",
    "import torch.nn as nn\n",
    "import numpy as np"
   ]
  },
  {
   "cell_type": "code",
   "execution_count": 3,
   "id": "ec738b5c-9712-4c98-a7ff-083ce6e41a9a",
   "metadata": {
    "tags": []
   },
   "outputs": [],
   "source": [
    "from nuplan_extent.planning.training.modeling.models.encoders.gameformer_encoder import GameFormerEncoder"
   ]
  },
  {
   "cell_type": "code",
   "execution_count": 6,
   "id": "514f90b2-811a-41f4-bee4-6860fe5e695f",
   "metadata": {
    "tags": []
   },
   "outputs": [],
   "source": [
    "B = 5\n",
    "T = 11\n",
    "ds = 11\n",
    "Nm_lane = 6\n",
    "Np_lane = 100\n",
    "dp_lane = 15\n",
    "Nm_cw = 4\n",
    "Np_cw = 100\n",
    "dp_cw = 3\n",
    "N = 10"
   ]
  },
  {
   "cell_type": "code",
   "execution_count": 5,
   "id": "98c29836-0064-4fe5-8edc-4735796eb7a1",
   "metadata": {
    "tags": []
   },
   "outputs": [],
   "source": [
    "ego_hist = torch.randn(B,1,T,ds)\n",
    "agent_hist = torch.randn(B,N,T,ds)\n",
    "lanes = torch.randn(B,1,Nm_lane,Np_lane,dp_lane)\n",
    "lanes_mask = torch.randn(B,1,Nm_lane,Np_lane)\n",
    "cw = torch.randn(B,1,Nm_cw,Np_cw,dp_cw)\n",
    "cw_mask = torch.randn(B,1,Nm_cw,Np_cw)"
   ]
  },
  {
   "cell_type": "code",
   "execution_count": 6,
   "id": "b4efdb46-722f-4268-89be-d8e5e0ef9343",
   "metadata": {
    "tags": []
   },
   "outputs": [
    {
     "name": "stdout",
     "output_type": "stream",
     "text": [
      "torch.Size([11, 5, 256])\n",
      "torch.Size([91, 5, 256])\n",
      "torch.Size([5, 91])\n"
     ]
    }
   ],
   "source": [
    "encoder = GameFormerEncoder(\n",
    "    input_agent_dim=11,\n",
    "    input_lane_dim=15,\n",
    "    input_crosswalk_dim=3,\n",
    ")\n",
    "\n",
    "out = encoder(ego_hist, agent_hist, lanes, lanes_mask, cw, cw_mask)\n",
    "print(out['agent_context_encoding'].shape)\n",
    "print(out['scene_context_encoding'].shape)\n",
    "print(out['scene_context_mask'].shape)"
   ]
  },
  {
   "cell_type": "markdown",
   "id": "f0cf862a-3cb2-4d3b-aadb-ea25f4b7d78d",
   "metadata": {},
   "source": [
    "# Test unravel map index"
   ]
  },
  {
   "cell_type": "code",
   "execution_count": 35,
   "id": "c6180e4a-5269-4a72-8b04-99d28c83cded",
   "metadata": {
    "tags": []
   },
   "outputs": [],
   "source": [
    "encoder = GameFormerEncoder(\n",
    "    input_agent_dim=11,\n",
    "    input_lane_dim=15,\n",
    "    input_crosswalk_dim=3,\n",
    ")"
   ]
  },
  {
   "cell_type": "code",
   "execution_count": 51,
   "id": "46be7fda-4ef2-47ea-876b-27f9799b62db",
   "metadata": {
    "tags": []
   },
   "outputs": [
    {
     "name": "stdout",
     "output_type": "stream",
     "text": [
      "torch.Size([1, 1, 1, 100, 2])\n",
      "tensor([[[[[0.0000, 0.0000],\n",
      "           [0.0000, 0.0000],\n",
      "           [0.0000, 0.0000],\n",
      "           [3.1400, 3.1400],\n",
      "           [0.0000, 0.0000],\n",
      "           [0.0000, 0.0000],\n",
      "           [0.0000, 0.0000],\n",
      "           [0.0000, 0.0000],\n",
      "           [0.0000, 0.0000],\n",
      "           [0.0000, 0.0000],\n",
      "           [0.0000, 0.0000],\n",
      "           [0.0000, 0.0000],\n",
      "           [0.0000, 0.0000],\n",
      "           [0.0000, 0.0000],\n",
      "           [0.0000, 0.0000],\n",
      "           [0.0000, 0.0000],\n",
      "           [0.0000, 0.0000],\n",
      "           [0.0000, 0.0000],\n",
      "           [0.0000, 0.0000],\n",
      "           [0.0000, 0.0000],\n",
      "           [0.0000, 0.0000],\n",
      "           [0.0000, 0.0000],\n",
      "           [0.0000, 0.0000],\n",
      "           [0.0000, 0.0000],\n",
      "           [0.0000, 0.0000],\n",
      "           [0.0000, 0.0000],\n",
      "           [0.0000, 0.0000],\n",
      "           [0.0000, 0.0000],\n",
      "           [0.0000, 0.0000],\n",
      "           [0.0000, 0.0000],\n",
      "           [0.0000, 0.0000],\n",
      "           [0.0000, 0.0000],\n",
      "           [0.0000, 0.0000],\n",
      "           [0.0000, 0.0000],\n",
      "           [0.0000, 0.0000],\n",
      "           [0.0000, 0.0000],\n",
      "           [0.0000, 0.0000],\n",
      "           [0.0000, 0.0000],\n",
      "           [0.0000, 0.0000],\n",
      "           [0.0000, 0.0000],\n",
      "           [0.0000, 0.0000],\n",
      "           [0.0000, 0.0000],\n",
      "           [0.0000, 0.0000],\n",
      "           [0.0000, 0.0000],\n",
      "           [0.0000, 0.0000],\n",
      "           [0.0000, 0.0000],\n",
      "           [0.0000, 0.0000],\n",
      "           [0.0000, 0.0000],\n",
      "           [0.0000, 0.0000],\n",
      "           [0.0000, 0.0000],\n",
      "           [0.0000, 0.0000],\n",
      "           [0.0000, 0.0000],\n",
      "           [0.0000, 0.0000],\n",
      "           [0.0000, 0.0000],\n",
      "           [0.0000, 0.0000],\n",
      "           [0.0000, 0.0000],\n",
      "           [0.0000, 0.0000],\n",
      "           [0.0000, 0.0000],\n",
      "           [0.0000, 0.0000],\n",
      "           [0.0000, 0.0000],\n",
      "           [0.0000, 0.0000],\n",
      "           [0.0000, 0.0000],\n",
      "           [0.0000, 0.0000],\n",
      "           [0.0000, 0.0000],\n",
      "           [0.0000, 0.0000],\n",
      "           [0.0000, 0.0000],\n",
      "           [0.0000, 0.0000],\n",
      "           [0.0000, 0.0000],\n",
      "           [0.0000, 0.0000],\n",
      "           [0.0000, 0.0000],\n",
      "           [0.0000, 0.0000],\n",
      "           [0.0000, 0.0000],\n",
      "           [0.0000, 0.0000],\n",
      "           [0.0000, 0.0000],\n",
      "           [0.0000, 0.0000],\n",
      "           [0.0000, 0.0000],\n",
      "           [0.0000, 0.0000],\n",
      "           [0.0000, 0.0000],\n",
      "           [0.0000, 0.0000],\n",
      "           [0.0000, 0.0000],\n",
      "           [0.0000, 0.0000],\n",
      "           [0.0000, 0.0000],\n",
      "           [0.0000, 0.0000],\n",
      "           [0.0000, 0.0000],\n",
      "           [0.0000, 0.0000],\n",
      "           [0.0000, 0.0000],\n",
      "           [0.0000, 0.0000],\n",
      "           [0.0000, 0.0000],\n",
      "           [0.0000, 0.0000],\n",
      "           [0.0000, 0.0000],\n",
      "           [0.0000, 0.0000],\n",
      "           [0.0000, 0.0000],\n",
      "           [0.0000, 0.0000],\n",
      "           [0.0000, 0.0000],\n",
      "           [0.0000, 0.0000],\n",
      "           [0.0000, 0.0000],\n",
      "           [0.0000, 0.0000],\n",
      "           [0.0000, 0.0000],\n",
      "           [0.0000, 0.0000],\n",
      "           [0.0000, 0.0000]]]]])\n"
     ]
    }
   ],
   "source": [
    "fake_map_tensor = torch.zeros(1, 1, 1, Np_lane, 2)\n",
    "fake_map_tensor[0, 0, 0, 3, :] = 3.14\n",
    "print(fake_map_tensor.shape)\n",
    "print(fake_map_tensor)"
   ]
  },
  {
   "cell_type": "code",
   "execution_count": 52,
   "id": "e03d5bfb-6204-4346-a143-437b8bd93437",
   "metadata": {
    "tags": []
   },
   "outputs": [],
   "source": [
    "pooler = nn.MaxPool3d([1,10,1], [1,10,1], return_indices=True)"
   ]
  },
  {
   "cell_type": "code",
   "execution_count": 53,
   "id": "41769d4d-6d9d-4eaf-a92b-d2f122011928",
   "metadata": {
    "tags": []
   },
   "outputs": [],
   "source": [
    "output, max_indices = pooler(fake_map_tensor)"
   ]
  },
  {
   "cell_type": "code",
   "execution_count": 54,
   "id": "5d363648-336f-4cbf-bd05-95d83fc51577",
   "metadata": {
    "tags": []
   },
   "outputs": [
    {
     "name": "stdout",
     "output_type": "stream",
     "text": [
      "torch.Size([1, 1, 1, 10, 2])\n",
      "torch.Size([1, 1, 1, 10, 2])\n"
     ]
    }
   ],
   "source": [
    "print(output.shape)\n",
    "print(max_indices.shape)"
   ]
  },
  {
   "cell_type": "code",
   "execution_count": 55,
   "id": "031757e5-c457-43f0-8de6-34fc34854190",
   "metadata": {
    "tags": []
   },
   "outputs": [
    {
     "name": "stdout",
     "output_type": "stream",
     "text": [
      "tensor([[[[[ 3,  3],\n",
      "           [10, 10],\n",
      "           [20, 20],\n",
      "           [30, 30],\n",
      "           [40, 40],\n",
      "           [50, 50],\n",
      "           [60, 60],\n",
      "           [70, 70],\n",
      "           [80, 80],\n",
      "           [90, 90]]]]])\n",
      "torch.Size([1, 1, 1, 10, 2])\n"
     ]
    }
   ],
   "source": [
    "unravelled = encoder.unravel_mask_index(max_indices, [1, 1, 1, 100, 2])\n",
    "print(unravelled)\n",
    "print(unravelled.shape)"
   ]
  },
  {
   "cell_type": "code",
   "execution_count": 56,
   "id": "ed1bb14e-5f18-470a-b0b7-199c1325f99f",
   "metadata": {
    "tags": []
   },
   "outputs": [
    {
     "name": "stdout",
     "output_type": "stream",
     "text": [
      "tensor([[[[[3.1400, 3.1400],\n",
      "           [0.0000, 0.0000],\n",
      "           [0.0000, 0.0000],\n",
      "           [0.0000, 0.0000],\n",
      "           [0.0000, 0.0000],\n",
      "           [0.0000, 0.0000],\n",
      "           [0.0000, 0.0000],\n",
      "           [0.0000, 0.0000],\n",
      "           [0.0000, 0.0000],\n",
      "           [0.0000, 0.0000]]]]])\n"
     ]
    }
   ],
   "source": [
    "print(torch.gather(\n",
    "    fake_map_tensor,\n",
    "    3,\n",
    "    unravelled))"
   ]
  }
 ],
 "metadata": {
  "kernelspec": {
   "display_name": "Python 3 (ipykernel)",
   "language": "python",
   "name": "python3"
  },
  "language_info": {
   "codemirror_mode": {
    "name": "ipython",
    "version": 3
   },
   "file_extension": ".py",
   "mimetype": "text/x-python",
   "name": "python",
   "nbconvert_exporter": "python",
   "pygments_lexer": "ipython3",
   "version": "3.9.16"
  }
 },
 "nbformat": 4,
 "nbformat_minor": 5
}
