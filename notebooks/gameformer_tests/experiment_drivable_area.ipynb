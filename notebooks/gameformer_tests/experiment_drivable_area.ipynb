{
 "cells": [
  {
   "cell_type": "code",
   "execution_count": null,
   "id": "f7cdf318-0a32-4935-8849-d3dd0b836259",
   "metadata": {},
   "outputs": [
    {
     "name": "stderr",
     "output_type": "stream",
     "text": [
      "/home/users/jingyu.qian/horizon-nuplan/nuplan/common/maps/maps_datatypes.py:7: UserWarning: Shapely 2.0 is installed, but because PyGEOS is also installed, GeoPandas will still use PyGEOS by default for now. To force to use and test Shapely 2.0, you have to set the environment variable USE_PYGEOS=0. You can do this before starting the Python process, or in your code before importing geopandas:\n",
      "\n",
      "import os\n",
      "os.environ['USE_PYGEOS'] = '0'\n",
      "import geopandas\n",
      "\n",
      "In a future release, GeoPandas will switch to using Shapely by default. If you are using PyGEOS directly (calling PyGEOS functions on geometries from GeoPandas), this will then stop working and you are encouraged to migrate from PyGEOS to Shapely 2.0 (https://shapely.readthedocs.io/en/latest/migration_pygeos.html).\n",
      "  import geopandas as gpd\n"
     ]
    }
   ],
   "source": [
    "%load_ext autoreload\n",
    "%autoreload 2\n",
    "\n",
    "import numpy as np\n",
    "import gzip\n",
    "import pickle\n",
    "from nuplan.planning.training.preprocessing.feature_builders.vector_set_map_feature_builder import VectorSetMapFeatureBuilder\n",
    "from nuplan.planning.training.preprocessing.features.vector_set_map import VectorSetMap\n",
    "import os\n",
    "from matplotlib import pyplot as plt\n",
    "import hydra\n",
    "import tempfile\n",
    "from pathlib import Path\n",
    "from nuplan.planning.script.builders.worker_pool_builder import build_worker\n",
    "from nuplan.planning.script.builders.scenario_builder import extract_scenarios_from_dataset\n",
    "from hydra.utils import instantiate"
   ]
  },
  {
   "cell_type": "code",
   "execution_count": null,
   "id": "e9618bfb-c83f-4e6f-ae19-d3967df99970",
   "metadata": {},
   "outputs": [
    {
     "name": "stderr",
     "output_type": "stream",
     "text": [
      "/home/users/jingyu.qian/miniconda3/envs/nuplan/lib/python3.9/site-packages/hydra/_internal/config_loader_impl.py:213: UserWarning: provider=hydra.searchpath in main, path=nuplan_extent.planning.script.config.splitter is not available.\n",
      "  warnings.warn(\n"
     ]
    }
   ],
   "source": [
    "# Location of path with all training configs\n",
    "CONFIG_PATH = '../../../hoplan/nuplan_extent/planning/script/config/'\n",
    "CONFIG_NAME = 'horizon_training'\n",
    "\n",
    "# Create a temporary directory to store the cache and experiment artifacts\n",
    "SAVE_DIR = Path(tempfile.gettempdir()) / 'tutorial_nuplan_framework'  # optionally replace with persistent dir\n",
    "EXPERIMENT = 'training_raster_experiment'\n",
    "JOB_NAME = 'train_default_raster'\n",
    "LOG_DIR = str(SAVE_DIR / EXPERIMENT / JOB_NAME)\n",
    "\n",
    "# Initialize configuration management system\n",
    "hydra.core.global_hydra.GlobalHydra.instance().clear()\n",
    "hydra.initialize(config_path=CONFIG_PATH)\n",
    "\n",
    "# Compose the configuration\n",
    "cfg = hydra.compose(config_name=CONFIG_NAME, overrides=[\n",
    "    f'group={str(SAVE_DIR)}',\n",
    "    f'cache.cache_path={str(SAVE_DIR)}/cache',\n",
    "    f'experiment_name={EXPERIMENT}',\n",
    "    f'job_name={JOB_NAME}',\n",
    "    'py_func=train',\n",
    "    '+training=training_gameformer',  # raster model that consumes ego, agents and map raster layers and regresses the ego's trajectory\n",
    "    'scenario_builder=nuplan',  # use nuplan mini database\n",
    "    'scenario_filter.scenario_tokens=[\"ea551a576f0a5de4\"]',  # Choose 500 scenarios to train with\n",
    "    'lightning.trainer.params.accelerator=ddp_spawn',  # ddp is not allowed in interactive environment, using ddp_spawn instead - this can bottleneck the data pipeline, it is recommended to run training outside the notebook\n",
    "    'lightning.trainer.params.max_epochs=10',\n",
    "    'data_loader.params.batch_size=8',\n",
    "    'data_loader.params.num_workers=8',\n",
    "    'worker=sequential',\n",
    "])\n"
   ]
  },
  {
   "cell_type": "code",
   "execution_count": null,
   "id": "dc52f9a2-1fb4-4f6e-bc67-dfebe7e12c81",
   "metadata": {},
   "outputs": [],
   "source": [
    "worker = build_worker(cfg)"
   ]
  },
  {
   "cell_type": "code",
   "execution_count": null,
   "id": "8e3b6ca0-edf7-40aa-9ef4-52716115da95",
   "metadata": {},
   "outputs": [],
   "source": [
    "scenario = extract_scenarios_from_dataset(cfg, worker)\n",
    "\n",
    "scenario = scenario[0]"
   ]
  },
  {
   "cell_type": "code",
   "execution_count": null,
   "id": "e2b15fb4-b7a3-43b3-ae9c-c6d3a107e04e",
   "metadata": {},
   "outputs": [],
   "source": [
    "map_builder = instantiate(cfg.model.feature_builders[0])\n",
    "\n",
    "target_builder = instantiate(cfg.model.target_builders[0])"
   ]
  },
  {
   "cell_type": "code",
   "execution_count": null,
   "id": "61d96ee5-7106-44b2-808a-d7de4015a9c0",
   "metadata": {},
   "outputs": [
    {
     "name": "stderr",
     "output_type": "stream",
     "text": [
      "/home/users/jingyu.qian/horizon-nuplan/nuplan/common/maps/nuplan_map/utils.py:413: RuntimeWarning: invalid value encountered in cast\n",
      "  return elements.iloc[np.where(elements[column_label].to_numpy().astype(int) == int(desired_value))]\n",
      "/home/users/jingyu.qian/horizon-nuplan/nuplan/common/maps/nuplan_map/utils.py:413: RuntimeWarning: invalid value encountered in cast\n",
      "  return elements.iloc[np.where(elements[column_label].to_numpy().astype(int) == int(desired_value))]\n",
      "/home/users/jingyu.qian/horizon-nuplan/nuplan/common/maps/nuplan_map/utils.py:413: RuntimeWarning: invalid value encountered in cast\n",
      "  return elements.iloc[np.where(elements[column_label].to_numpy().astype(int) == int(desired_value))]\n"
     ]
    }
   ],
   "source": [
    "feature = map_builder.get_features_from_scenario(scenario)"
   ]
  },
  {
   "cell_type": "code",
   "execution_count": 13,
   "id": "2e189c1c-8e7f-4196-b076-d31744d1b0c2",
   "metadata": {},
   "outputs": [
    {
     "name": "stdout",
     "output_type": "stream",
     "text": [
      "Trajectory(data=array([[ 4.10109186e+00, -1.55371847e-02, -4.28551156e-03],\n",
      "       [ 8.24175739e+00, -4.72035520e-02, -8.06126837e-03],\n",
      "       [ 1.24393425e+01, -8.47836956e-02, -1.07554691e-02],\n",
      "       [ 1.67476673e+01, -1.41131863e-01, -1.25204511e-02],\n",
      "       [ 2.12139645e+01, -2.00203955e-01, -1.23384530e-02],\n",
      "       [ 2.58284492e+01, -2.38940462e-01, -9.71989613e-03],\n",
      "       [ 3.05467548e+01, -2.83069670e-01, -8.04113131e-03],\n",
      "       [ 3.53600426e+01, -3.12887520e-01, -3.91112128e-03],\n",
      "       [ 4.02280846e+01, -3.31993937e-01, -5.19906683e-03],\n",
      "       [ 4.51226616e+01, -3.41772586e-01, -6.42079487e-03],\n",
      "       [ 5.00501137e+01, -3.44043791e-01, -6.66127913e-03],\n",
      "       [ 5.50150070e+01, -3.72695774e-01, -6.75753504e-03],\n",
      "       [ 6.00058212e+01, -3.97691309e-01, -4.99669882e-03],\n",
      "       [ 6.50297241e+01, -3.91728669e-01, -2.47202301e-03],\n",
      "       [ 7.00760880e+01, -3.88848603e-01,  1.50345021e-03],\n",
      "       [ 7.51529083e+01, -3.67819250e-01,  5.92376711e-03]], dtype=float32))\n",
      "tensor([7.7910e+02, 2.0359e+01, 2.6577e-02], dtype=torch.float64)\n"
     ]
    }
   ],
   "source": [
    "target = target_builder.get_targets(scenario, 0)\n",
    "print(target)\n",
    "goal = feature.mission_goal\n",
    "print(goal)"
   ]
  },
  {
   "cell_type": "code",
   "execution_count": 11,
   "id": "fdb86a6c-64de-4f27-8c5a-0de154a851fe",
   "metadata": {},
   "outputs": [],
   "source": [
    "route_polylines = scenario.future_pathway_custom()"
   ]
  },
  {
   "cell_type": "code",
   "execution_count": 15,
   "id": "4559a4b5-bb99-468b-a652-632ff05fb97b",
   "metadata": {},
   "outputs": [
    {
     "data": {
      "text/plain": [
       "(-75.02118896332104, 819.7756338181207, -10.157557035726494, 40.90377528446261)"
      ]
     },
     "execution_count": 15,
     "metadata": {},
     "output_type": "execute_result"
    },
    {
     "data": {
      "image/png": "[encoded data removed]",
      "text/plain": [
       "<Figure size 640x480 with 1 Axes>"
      ]
     },
     "metadata": {},
     "output_type": "display_data"
    }
   ],
   "source": [
    "for element in feature.coords[\"LANE\"][0]:\n",
    "    plt.plot(element[:, 0], element[:, 1], 'b-')\n",
    "for element in feature.coords[\"LEFT_BOUNDARY\"][0]:\n",
    "    plt.plot(element[:, 0], element[:, 1], 'r-', alpha=0.2)\n",
    "for element in feature.coords[\"RIGHT_BOUNDARY\"][0]:\n",
    "    plt.plot(element[:, 0], element[:, 1], 'r-', alpha=0.2)\n",
    "    \n",
    "for element in feature.coords['ROUTE_LANES'][0]:\n",
    "    plt.plot(element[:, 0], element[:, 1], 'g-')\n",
    "    \n",
    "for element in route_polylines[:-1]:\n",
    "    plt.plot(element[:, 0], element[:, 1], 'c.-')\n",
    "    \n",
    "plt.plot(target.data[:, 0], target.data[:, 1], 'm--')\n",
    "\n",
    "plt.plot(goal[0], goal[1], 'o')\n",
    "\n",
    "plt.axis('equal')"
   ]
  }
 ],
 "metadata": {
  "kernelspec": {
   "display_name": "Python 3 (ipykernel)",
   "language": "python",
   "name": "python3"
  },
  "language_info": {
   "codemirror_mode": {
    "name": "ipython",
    "version": 3
   },
   "file_extension": ".py",
   "mimetype": "text/x-python",
   "name": "python",
   "nbconvert_exporter": "python",
   "pygments_lexer": "ipython3",
   "version": "3.9.12"
  }
 },
 "nbformat": 4,
 "nbformat_minor": 5
}
