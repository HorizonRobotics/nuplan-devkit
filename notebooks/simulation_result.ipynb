{
 "cells": [
  {
   "cell_type": "code",
   "execution_count": 1,
   "id": "2fb94b4b-7b12-4b2f-82c5-77294674f4bb",
   "metadata": {
    "tags": []
   },
   "outputs": [],
   "source": [
    "import pandas"
   ]
  },
  {
   "cell_type": "code",
   "execution_count": 3,
   "id": "3ab76829-d1c5-448b-80ae-75ccb265f852",
   "metadata": {
    "tags": []
   },
   "outputs": [],
   "source": [
    "parquet = pandas.read_parquet(\"/mnt/nas20/jingyu.qian/nuplan_simulation_save_dir/simulate_closed_loop_nonreactive_0511_cl_epoch59_mtranaive/simulation_closed_loop_nonreactive_agents/2023.05.11.13.40.18/aggregator_metric/closed_loop_nonreactive_agents_weighted_average_metrics_2023.05.11.13.40.18.parquet\")"
   ]
  },
  {
   "cell_type": "code",
   "execution_count": 4,
   "id": "6ed8ad71-2a17-4a46-8f5a-c3f890ad6544",
   "metadata": {
    "tags": []
   },
   "outputs": [
    {
     "data": {
      "text/plain": [
       "scenario                                final_score\n",
       "log_name                                       None\n",
       "scenario_type                           final_score\n",
       "num_scenarios                                1130.0\n",
       "planner_name                              MLPlanner\n",
       "aggregator_type                    weighted_average\n",
       "corners_in_drivable_area                       None\n",
       "drivable_area_compliance                   0.428319\n",
       "driving_direction_compliance               0.892478\n",
       "ego_is_comfortable                         0.982301\n",
       "ego_is_making_progress                     0.819469\n",
       "ego_jerk                                       None\n",
       "ego_lane_change                                None\n",
       "ego_lat_acceleration                           None\n",
       "ego_lon_acceleration                           None\n",
       "ego_lon_jerk                                   None\n",
       "ego_progress_along_expert_route            0.566909\n",
       "ego_yaw_acceleration                           None\n",
       "ego_yaw_rate                                   None\n",
       "no_ego_at_fault_collisions                 0.459735\n",
       "speed_limit_compliance                     0.977515\n",
       "time_to_collision_within_bound              0.39292\n",
       "score                                      0.182622\n",
       "Name: 1144, dtype: object"
      ]
     },
     "execution_count": 4,
     "metadata": {},
     "output_type": "execute_result"
    }
   ],
   "source": [
    "parquet.iloc[-1]"
   ]
  },
  {
   "cell_type": "code",
   "execution_count": 5,
   "id": "b53261ca-8f2b-4d96-b731-a1d8464a730d",
   "metadata": {
    "tags": []
   },
   "outputs": [],
   "source": [
    "parquet = pandas.read_parquet(\"/mnt/nas20/jingyu.qian/nuplan_simulation_save_dir/simulate_open_loop_nonreactive_0502_ol_epoch59_mtranaive/simulation_open_loop_boxes/2023.05.02.17.54.36/aggregator_metric/open_loop_boxes_weighted_average_metrics_2023.05.02.17.54.36.parquet\")"
   ]
  },
  {
   "cell_type": "code",
   "execution_count": 6,
   "id": "26ad3a8b-c9de-4e26-98e5-005a7dec0c45",
   "metadata": {
    "tags": []
   },
   "outputs": [
    {
     "data": {
      "text/plain": [
       "scenario                                                  final_score\n",
       "log_name                                                         None\n",
       "scenario_type                                             final_score\n",
       "num_scenarios                                                  1130.0\n",
       "planner_name                                                MLPlanner\n",
       "aggregator_type                                      weighted_average\n",
       "planner_expert_average_heading_error_within_bound            0.782093\n",
       "planner_expert_average_l2_error_within_bound                 0.728773\n",
       "planner_expert_final_heading_error_within_bound              0.740181\n",
       "planner_expert_final_l2_error_within_bound                   0.463266\n",
       "planner_miss_rate_within_bound                               0.819469\n",
       "score                                                        0.611766\n",
       "Name: 1144, dtype: object"
      ]
     },
     "execution_count": 6,
     "metadata": {},
     "output_type": "execute_result"
    }
   ],
   "source": [
    "parquet.iloc[-1]"
   ]
  }
 ],
 "metadata": {
  "kernelspec": {
   "display_name": "Python 3 (ipykernel)",
   "language": "python",
   "name": "python3"
  },
  "language_info": {
   "codemirror_mode": {
    "name": "ipython",
    "version": 3
   },
   "file_extension": ".py",
   "mimetype": "text/x-python",
   "name": "python",
   "nbconvert_exporter": "python",
   "pygments_lexer": "ipython3",
   "version": "3.9.16"
  }
 },
 "nbformat": 4,
 "nbformat_minor": 5
}
