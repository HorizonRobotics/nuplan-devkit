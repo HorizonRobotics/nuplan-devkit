{
 "cells": [
  {
   "cell_type": "code",
   "execution_count": 2,
   "id": "2b03e66c-7837-42a4-bd96-99ef44b26cd6",
   "metadata": {},
   "outputs": [],
   "source": [
    "import numpy as np\n",
    "import os\n",
    "import gzip\n",
    "import pickle\n",
    "from pathlib import Path"
   ]
  },
  {
   "cell_type": "code",
   "execution_count": 19,
   "id": "547ebf97-d551-4a90-ae0e-75093f1ae99c",
   "metadata": {},
   "outputs": [],
   "source": [
    "cache_path = Path(\"/mnt/nas20/zhuangzhuang.ding/nuplan/nuplan_cache_1500_scene_mtra_naive_v1.1/2021.05.12.19.36.12_veh-35_00005_00204/high_magnitude_speed/40f520f59b8b5e83/\")"
   ]
  },
  {
   "cell_type": "code",
   "execution_count": 20,
   "id": "0e399b40-4e0c-4ea2-b0c8-f4f3aa2274dc",
   "metadata": {},
   "outputs": [],
   "source": [
    "vector_set_map_path = cache_path / \"vector_set_map.gz\"\n",
    "agents_path = cache_path / \"agents.gz\""
   ]
  },
  {
   "cell_type": "code",
   "execution_count": 21,
   "id": "14190c97-b707-4084-bf99-09fa387020b6",
   "metadata": {},
   "outputs": [],
   "source": [
    "with gzip.open(vector_set_map_path, \"rb\") as f:\n",
    "    maps = pickle.load(f)\n",
    "    \n",
    "with gzip.open(agents_path, \"rb\") as f:\n",
    "    agents = pickle.load(f)"
   ]
  },
  {
   "cell_type": "code",
   "execution_count": 24,
   "id": "b44ced04-7e72-4de0-9c59-20c5ac12432e",
   "metadata": {},
   "outputs": [
    {
     "data": {
      "text/plain": [
       "dict_keys(['coords', 'traffic_light_data', 'availabilities', '_polyline_coord_dim', '_traffic_light_status_dim'])"
      ]
     },
     "execution_count": 24,
     "metadata": {},
     "output_type": "execute_result"
    }
   ],
   "source": [
    "maps.keys()"
   ]
  },
  {
   "cell_type": "code",
   "execution_count": 146,
   "id": "9e92ea4c-2a62-4c40-9bac-fdf94909e6d4",
   "metadata": {},
   "outputs": [
    {
     "data": {
      "text/plain": [
       "(50, 20, 2)"
      ]
     },
     "execution_count": 146,
     "metadata": {},
     "output_type": "execute_result"
    }
   ],
   "source": [
    "maps['coords']['LANE'][0].shape"
   ]
  },
  {
   "cell_type": "code",
   "execution_count": 190,
   "id": "7cc7e761-7d2e-43cd-8727-75c2815fe639",
   "metadata": {},
   "outputs": [
    {
     "data": {
      "text/plain": [
       "True"
      ]
     },
     "execution_count": 190,
     "metadata": {},
     "output_type": "execute_result"
    }
   ],
   "source": [
    "maps['availabilities']['LANE'][0].all()"
   ]
  },
  {
   "cell_type": "code",
   "execution_count": 26,
   "id": "8321e7e2-fe3d-41f7-99b9-ca995f7911af",
   "metadata": {},
   "outputs": [
    {
     "data": {
      "text/plain": [
       "dict_keys(['LANE', 'LEFT_BOUNDARY', 'RIGHT_BOUNDARY', 'STOP_LINE', 'CROSSWALK', 'ROUTE_LANES'])"
      ]
     },
     "execution_count": 26,
     "metadata": {},
     "output_type": "execute_result"
    }
   ],
   "source": [
    "maps['coords'].keys()"
   ]
  },
  {
   "cell_type": "code",
   "execution_count": 42,
   "id": "3dea0b6f-7a41-41ca-adfb-5c4905d0ea76",
   "metadata": {},
   "outputs": [
    {
     "data": {
      "text/plain": [
       "(50, 20, 4)"
      ]
     },
     "execution_count": 42,
     "metadata": {},
     "output_type": "execute_result"
    }
   ],
   "source": [
    "maps['traffic_light_data']['LANE'][0].shape"
   ]
  },
  {
   "cell_type": "code",
   "execution_count": 40,
   "id": "bdd1e5d2-7a74-481b-866d-5ba646863698",
   "metadata": {},
   "outputs": [
    {
     "data": {
      "text/plain": [
       "(10, 20, 2)"
      ]
     },
     "execution_count": 40,
     "metadata": {},
     "output_type": "execute_result"
    }
   ],
   "source": [
    "maps['coords']['STOP_LINE'][0].shape"
   ]
  },
  {
   "cell_type": "code",
   "execution_count": 37,
   "id": "845aa6b0-1c7b-4c10-8590-6b97ac6a60cf",
   "metadata": {},
   "outputs": [
    {
     "data": {
      "text/plain": [
       "(10, 20, 2)"
      ]
     },
     "execution_count": 37,
     "metadata": {},
     "output_type": "execute_result"
    }
   ],
   "source": [
    "maps['coords']['CROSSWALK'][0].shape"
   ]
  },
  {
   "cell_type": "code",
   "execution_count": 22,
   "id": "a3176eb4-e426-4965-8487-3202e0cffb92",
   "metadata": {},
   "outputs": [
    {
     "data": {
      "text/plain": [
       "(5, 3)"
      ]
     },
     "execution_count": 22,
     "metadata": {},
     "output_type": "execute_result"
    }
   ],
   "source": [
    "agents['ego'][0].shape"
   ]
  },
  {
   "cell_type": "code",
   "execution_count": 23,
   "id": "b6e7b192-1340-4b7b-83c3-8db5a38679eb",
   "metadata": {},
   "outputs": [
    {
     "data": {
      "text/plain": [
       "array([[[-4.8242641e+01,  8.7884712e-01, -3.4941554e-02, ...,\n",
       "          2.4389029e-03,  4.8526301e+00,  2.0068746e+00],\n",
       "        [ 3.6296612e+01,  3.3397102e+00,  6.1773658e-02, ...,\n",
       "         -1.2094975e-03,  5.5199666e+00,  2.2170603e+00],\n",
       "        [-1.8158030e+01,  7.1747727e+00, -2.0388365e-02, ...,\n",
       "          3.0143261e-03,  5.3541970e+00,  2.0867205e+00],\n",
       "        ...,\n",
       "        [ 5.0064892e+01, -1.4528757e+01,  1.1510121e+00, ...,\n",
       "          0.0000000e+00,  4.2136416e-01,  4.2177588e-01],\n",
       "        [-7.7895729e+01, -1.0673149e+01,  1.1618992e+00, ...,\n",
       "          0.0000000e+00,  4.4743040e-01,  4.6220282e-01],\n",
       "        [-7.8324814e+01, -5.2295947e+00,  2.3387873e-01, ...,\n",
       "          0.0000000e+00,  3.5725927e-01,  3.6821675e-01]],\n",
       "\n",
       "       [[-4.3494675e+01,  6.9194841e-01, -3.2502651e-02, ...,\n",
       "          7.4414997e-03,  4.8462839e+00,  2.0206373e+00],\n",
       "        [ 4.2801762e+01,  3.6924551e+00,  6.0564160e-02, ...,\n",
       "         -1.3865741e-02,  5.5556431e+00,  2.2889962e+00],\n",
       "        [-9.9095449e+00,  7.0047517e+00, -1.7374039e-02, ...,\n",
       "          5.6761946e-03,  5.2655878e+00,  2.0569458e+00],\n",
       "        ...,\n",
       "        [ 5.0064892e+01, -1.4528757e+01,  1.1510121e+00, ...,\n",
       "          8.5764377e-08,  4.2136416e-01,  4.2177588e-01],\n",
       "        [-7.7895729e+01, -1.0673149e+01,  1.1618992e+00, ...,\n",
       "          8.2312390e-08,  4.4743040e-01,  4.6220282e-01],\n",
       "        [-7.8324814e+01, -5.2295947e+00,  2.3387873e-01, ...,\n",
       "          1.5402456e-08,  3.5725927e-01,  3.6821675e-01]],\n",
       "\n",
       "       [[-3.8495914e+01,  5.6428605e-01, -2.7497768e-02, ...,\n",
       "          1.2576533e-02,  4.8252711e+00,  2.0198588e+00],\n",
       "        [ 4.9055302e+01,  3.9234688e+00,  4.7903657e-02, ...,\n",
       "         -1.8531116e-02,  5.2519560e+00,  2.2222424e+00],\n",
       "        [-1.4094524e+00,  6.9564610e+00, -1.4710426e-02, ...,\n",
       "          8.5840095e-03,  5.2515597e+00,  2.0687265e+00],\n",
       "        ...,\n",
       "        [ 5.0064892e+01, -1.4528757e+01,  1.1510121e+00, ...,\n",
       "          8.5764377e-08,  4.2136416e-01,  4.2177588e-01],\n",
       "        [-7.7895729e+01, -1.0673149e+01,  1.1618992e+00, ...,\n",
       "          8.2312390e-08,  4.4743040e-01,  4.6220282e-01],\n",
       "        [-7.8324814e+01, -5.2295947e+00,  2.3387873e-01, ...,\n",
       "          1.5402456e-08,  3.5725927e-01,  3.6821675e-01]],\n",
       "\n",
       "       [[-3.3497971e+01,  3.7412894e-01, -1.9922256e-02, ...,\n",
       "          8.7602641e-03,  4.8282032e+00,  2.0204401e+00],\n",
       "        [ 5.5308029e+01,  4.0919881e+00,  4.2027354e-02, ...,\n",
       "         -2.7338199e-03,  5.2897501e+00,  2.1722882e+00],\n",
       "        [ 7.3389897e+00,  6.7799230e+00, -8.7873936e-03, ...,\n",
       "          8.6410921e-03,  5.2086325e+00,  2.0765440e+00],\n",
       "        ...,\n",
       "        [ 5.0064892e+01, -1.4528757e+01,  1.1510121e+00, ...,\n",
       "         -1.2194857e-02,  4.2136416e-01,  4.2177588e-01],\n",
       "        [-7.7895729e+01, -1.0673149e+01,  1.1618992e+00, ...,\n",
       "          2.5820754e-02,  4.4743040e-01,  4.6220282e-01],\n",
       "        [-7.8324814e+01, -5.2295947e+00,  2.3387873e-01, ...,\n",
       "          1.5402456e-08,  3.5725927e-01,  3.6821675e-01]],\n",
       "\n",
       "       [[-2.8748373e+01,  3.1221962e-01, -1.8734813e-02, ...,\n",
       "          1.1874437e-03,  4.8162975e+00,  2.0439334e+00],\n",
       "        [ 6.2062344e+01,  4.3789797e+00,  4.5168996e-02, ...,\n",
       "          3.1416416e-03,  5.8016596e+00,  2.2907660e+00],\n",
       "        [ 1.6089062e+01,  6.7283740e+00, -6.0666800e-03, ...,\n",
       "          2.7207136e-03,  5.2662482e+00,  2.0692184e+00],\n",
       "        ...,\n",
       "        [ 5.0064892e+01, -1.4528757e+01,  1.1388134e+00, ...,\n",
       "         -1.2198687e-02,  4.2044502e-01,  4.2254958e-01],\n",
       "        [-7.7894096e+01, -1.0548160e+01,  1.1877278e+00, ...,\n",
       "          2.5828600e-02,  4.6976382e-01,  4.8928976e-01],\n",
       "        [-7.8324814e+01, -5.2295947e+00,  2.3387873e-01, ...,\n",
       "          0.0000000e+00,  3.5725927e-01,  3.6821675e-01]]], dtype=float32)"
      ]
     },
     "execution_count": 23,
     "metadata": {},
     "output_type": "execute_result"
    }
   ],
   "source": [
    "agents['agents'][0]"
   ]
  }
 ],
 "metadata": {
  "kernelspec": {
   "display_name": "Python 3 (ipykernel)",
   "language": "python",
   "name": "python3"
  },
  "language_info": {
   "codemirror_mode": {
    "name": "ipython",
    "version": 3
   },
   "file_extension": ".py",
   "mimetype": "text/x-python",
   "name": "python",
   "nbconvert_exporter": "python",
   "pygments_lexer": "ipython3",
   "version": "3.9.12"
  }
 },
 "nbformat": 4,
 "nbformat_minor": 5
}
