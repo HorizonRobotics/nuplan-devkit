{
 "cells": [
  {
   "cell_type": "code",
   "execution_count": 1,
   "id": "fb728707-7754-4c81-bd57-a73c8cc6c093",
   "metadata": {
    "tags": []
   },
   "outputs": [],
   "source": [
    "import pandas"
   ]
  },
  {
   "cell_type": "code",
   "execution_count": 6,
   "id": "ec95a204-0ed1-49f6-9426-154d4aad45a3",
   "metadata": {
    "tags": []
   },
   "outputs": [],
   "source": [
    "parquet = pandas.read_parquet(\"/mnt/nas20/jingyu.qian/nuplan_simulation_save_dir/simulate_closed_loop_nonreactive_0317_stable_ol_trainval_f32/simulation_closed_loop_nonreactive_agents/2023.03.17.10.06.11/aggregator_metric/closed_loop_nonreactive_agents_weighted_average_metrics_2023.03.17.10.06.11.parquet\")"
   ]
  },
  {
   "cell_type": "code",
   "execution_count": 7,
   "id": "89d9762d-eab4-47b9-baad-0a185ff0ecb9",
   "metadata": {
    "tags": []
   },
   "outputs": [
    {
     "data": {
      "text/plain": [
       "scenario                                final_score\n",
       "log_name                                       None\n",
       "scenario_type                           final_score\n",
       "num_scenarios                                 140.0\n",
       "planner_name                              MLPlanner\n",
       "aggregator_type                    weighted_average\n",
       "corners_in_drivable_area                       None\n",
       "drivable_area_compliance                   0.971429\n",
       "driving_direction_compliance               0.989286\n",
       "ego_is_comfortable                         0.992857\n",
       "ego_is_making_progress                     0.978571\n",
       "ego_jerk                                       None\n",
       "ego_lane_change                                None\n",
       "ego_lat_acceleration                           None\n",
       "ego_lon_acceleration                           None\n",
       "ego_lon_jerk                                   None\n",
       "ego_progress_along_expert_route            0.878669\n",
       "ego_yaw_acceleration                           None\n",
       "ego_yaw_rate                                   None\n",
       "no_ego_at_fault_collisions                 0.907143\n",
       "speed_limit_compliance                     0.971206\n",
       "time_to_collision_within_bound                 0.85\n",
       "score                                      0.799349\n",
       "Name: 154, dtype: object"
      ]
     },
     "execution_count": 7,
     "metadata": {},
     "output_type": "execute_result"
    }
   ],
   "source": [
    "parquet.iloc[-1]"
   ]
  },
  {
   "cell_type": "code",
   "execution_count": 2,
   "id": "c20e3221-1880-4acd-933c-5ef9621ef4a8",
   "metadata": {
    "tags": []
   },
   "outputs": [],
   "source": [
    "parquet = pandas.read_parquet(\"/mnt/nas20/jingyu.qian/nuplan_simulation_save_dir/simulate_closed_loop_nonreactive_0322_stable_ol_trainval_f32_epoch10/simulation_closed_loop_nonreactive_agents/2023.03.22.07.34.02/aggregator_metric/closed_loop_nonreactive_agents_weighted_average_metrics_2023.03.22.07.34.02.parquet\")"
   ]
  },
  {
   "cell_type": "code",
   "execution_count": 3,
   "id": "2dc20850-f771-4bc5-9cac-929bc36b9958",
   "metadata": {
    "tags": []
   },
   "outputs": [
    {
     "data": {
      "text/plain": [
       "scenario                                final_score\n",
       "log_name                                       None\n",
       "scenario_type                           final_score\n",
       "num_scenarios                                1130.0\n",
       "planner_name                              MLPlanner\n",
       "aggregator_type                    weighted_average\n",
       "corners_in_drivable_area                       None\n",
       "drivable_area_compliance                   0.884956\n",
       "driving_direction_compliance               0.944248\n",
       "ego_is_comfortable                          0.99646\n",
       "ego_is_making_progress                     0.966372\n",
       "ego_jerk                                       None\n",
       "ego_lane_change                                None\n",
       "ego_lat_acceleration                           None\n",
       "ego_lon_acceleration                           None\n",
       "ego_lon_jerk                                   None\n",
       "ego_progress_along_expert_route            0.856943\n",
       "ego_yaw_acceleration                           None\n",
       "ego_yaw_rate                                   None\n",
       "no_ego_at_fault_collisions                 0.818584\n",
       "speed_limit_compliance                     0.974055\n",
       "time_to_collision_within_bound             0.753982\n",
       "score                                      0.623472\n",
       "Name: 1144, dtype: object"
      ]
     },
     "execution_count": 3,
     "metadata": {},
     "output_type": "execute_result"
    }
   ],
   "source": [
    "parquet.iloc[-1]"
   ]
  },
  {
   "cell_type": "code",
   "execution_count": 4,
   "id": "3c9af1a7-10d8-478f-9a46-b60db261edb5",
   "metadata": {
    "tags": []
   },
   "outputs": [],
   "source": [
    "parquet = pandas.read_parquet(\"/mnt/nas20/jingyu.qian/nuplan_simulation_save_dir/simulate_closed_loop_nonreactive_0322_stable_cl_trainval_f32_epoch10/simulation_closed_loop_nonreactive_agents/2023.03.22.12.05.41/aggregator_metric/closed_loop_nonreactive_agents_weighted_average_metrics_2023.03.22.12.05.41.parquet\")"
   ]
  },
  {
   "cell_type": "code",
   "execution_count": 5,
   "id": "91b6b2ab-e058-44ea-bb47-823a592c9adf",
   "metadata": {
    "tags": []
   },
   "outputs": [
    {
     "data": {
      "text/plain": [
       "scenario                                final_score\n",
       "log_name                                       None\n",
       "scenario_type                           final_score\n",
       "num_scenarios                                1130.0\n",
       "planner_name                              MLPlanner\n",
       "aggregator_type                    weighted_average\n",
       "corners_in_drivable_area                       None\n",
       "drivable_area_compliance                   0.877876\n",
       "driving_direction_compliance               0.963274\n",
       "ego_is_comfortable                         0.992035\n",
       "ego_is_making_progress                     0.944248\n",
       "ego_jerk                                       None\n",
       "ego_lane_change                                None\n",
       "ego_lat_acceleration                           None\n",
       "ego_lon_acceleration                           None\n",
       "ego_lon_jerk                                   None\n",
       "ego_progress_along_expert_route            0.813439\n",
       "ego_yaw_acceleration                           None\n",
       "ego_yaw_rate                                   None\n",
       "no_ego_at_fault_collisions                 0.836283\n",
       "speed_limit_compliance                     0.980929\n",
       "time_to_collision_within_bound              0.79292\n",
       "score                                      0.657338\n",
       "Name: 1144, dtype: object"
      ]
     },
     "execution_count": 5,
     "metadata": {},
     "output_type": "execute_result"
    }
   ],
   "source": [
    "parquet.iloc[-1]"
   ]
  },
  {
   "cell_type": "code",
   "execution_count": 8,
   "id": "35d61018-b640-4814-8057-302f49af573f",
   "metadata": {
    "tags": []
   },
   "outputs": [],
   "source": [
    "parquet = pandas.read_parquet(\"/mnt/nas20/jingyu.qian/nuplan_simulation_save_dir/simulate_closed_loop_nonreactive_0322_stable_cl_trainval_f32_epoch10_fixresetbug/simulation_closed_loop_nonreactive_agents/2023.03.22.21.35.31/aggregator_metric/closed_loop_nonreactive_agents_weighted_average_metrics_2023.03.22.21.35.31.parquet\")"
   ]
  },
  {
   "cell_type": "code",
   "execution_count": 9,
   "id": "0eca4b3c-9915-4ea1-affe-1a78b35577e8",
   "metadata": {
    "tags": []
   },
   "outputs": [
    {
     "data": {
      "text/plain": [
       "scenario                                final_score\n",
       "log_name                                       None\n",
       "scenario_type                           final_score\n",
       "num_scenarios                                1130.0\n",
       "planner_name                              MLPlanner\n",
       "aggregator_type                    weighted_average\n",
       "corners_in_drivable_area                       None\n",
       "drivable_area_compliance                   0.618584\n",
       "driving_direction_compliance               0.925664\n",
       "ego_is_comfortable                          0.99115\n",
       "ego_is_making_progress                     0.892035\n",
       "ego_jerk                                       None\n",
       "ego_lane_change                                None\n",
       "ego_lat_acceleration                           None\n",
       "ego_lon_acceleration                           None\n",
       "ego_lon_jerk                                   None\n",
       "ego_progress_along_expert_route            0.684498\n",
       "ego_yaw_acceleration                           None\n",
       "ego_yaw_rate                                   None\n",
       "no_ego_at_fault_collisions                 0.749558\n",
       "speed_limit_compliance                     0.984726\n",
       "time_to_collision_within_bound              0.69469\n",
       "score                                      0.446658\n",
       "Name: 1144, dtype: object"
      ]
     },
     "execution_count": 9,
     "metadata": {},
     "output_type": "execute_result"
    }
   ],
   "source": [
    "parquet.iloc[-1]"
   ]
  },
  {
   "cell_type": "code",
   "execution_count": 2,
   "id": "6fe5f2c2-075a-4c7c-8f25-6b3fe68c3f56",
   "metadata": {},
   "outputs": [],
   "source": [
    "parquet = pandas.read_parquet(\"/mnt/nas20/jingyu.qian/nuplan_simulation_save_dir/simulate_closed_loop_nonreactive_0423_ol_epoch20_mtranaive/simulation_closed_loop_nonreactive_agents/2023.04.23.23.24.02/aggregator_metric/closed_loop_nonreactive_agents_weighted_average_metrics_2023.04.23.23.24.02.parquet\")"
   ]
  },
  {
   "cell_type": "code",
   "execution_count": 3,
   "id": "88384f29-a58b-4743-bf27-9b04628c9e6c",
   "metadata": {},
   "outputs": [
    {
     "data": {
      "text/plain": [
       "scenario                                final_score\n",
       "log_name                                       None\n",
       "scenario_type                           final_score\n",
       "num_scenarios                                1130.0\n",
       "planner_name                              MLPlanner\n",
       "aggregator_type                    weighted_average\n",
       "corners_in_drivable_area                       None\n",
       "drivable_area_compliance                   0.458407\n",
       "driving_direction_compliance               0.879204\n",
       "ego_is_comfortable                         0.980531\n",
       "ego_is_making_progress                     0.844248\n",
       "ego_jerk                                       None\n",
       "ego_lane_change                                None\n",
       "ego_lat_acceleration                           None\n",
       "ego_lon_acceleration                           None\n",
       "ego_lon_jerk                                   None\n",
       "ego_progress_along_expert_route            0.613123\n",
       "ego_yaw_acceleration                           None\n",
       "ego_yaw_rate                                   None\n",
       "no_ego_at_fault_collisions                 0.439823\n",
       "speed_limit_compliance                      0.98084\n",
       "time_to_collision_within_bound             0.368142\n",
       "score                                      0.168676\n",
       "Name: 1144, dtype: object"
      ]
     },
     "execution_count": 3,
     "metadata": {},
     "output_type": "execute_result"
    }
   ],
   "source": [
    "parquet.iloc[-1]"
   ]
  },
  {
   "cell_type": "code",
   "execution_count": 2,
   "id": "c8f26373-570c-4350-ad15-b335b8807ec5",
   "metadata": {},
   "outputs": [],
   "source": [
    "parquet = pandas.read_parquet(\"/mnt/nas20/jingyu.qian/nuplan_simulation_save_dir/simulate_closed_loop_nonreactive_0427_ol_epoch59_mtranaive/simulation_closed_loop_nonreactive_agents/2023.04.27.16.28.15/aggregator_metric/closed_loop_nonreactive_agents_weighted_average_metrics_2023.04.27.16.28.15.parquet\")"
   ]
  },
  {
   "cell_type": "code",
   "execution_count": 3,
   "id": "bdf5f48f-51ef-404c-80c4-624ae682b977",
   "metadata": {},
   "outputs": [
    {
     "data": {
      "text/plain": [
       "scenario                                final_score\n",
       "log_name                                       None\n",
       "scenario_type                           final_score\n",
       "num_scenarios                                1130.0\n",
       "planner_name                              MLPlanner\n",
       "aggregator_type                    weighted_average\n",
       "corners_in_drivable_area                       None\n",
       "drivable_area_compliance                   0.428319\n",
       "driving_direction_compliance               0.892478\n",
       "ego_is_comfortable                         0.982301\n",
       "ego_is_making_progress                     0.819469\n",
       "ego_jerk                                       None\n",
       "ego_lane_change                                None\n",
       "ego_lat_acceleration                           None\n",
       "ego_lon_acceleration                           None\n",
       "ego_lon_jerk                                   None\n",
       "ego_progress_along_expert_route            0.566908\n",
       "ego_yaw_acceleration                           None\n",
       "ego_yaw_rate                                   None\n",
       "no_ego_at_fault_collisions                 0.459735\n",
       "speed_limit_compliance                     0.977514\n",
       "time_to_collision_within_bound              0.39292\n",
       "score                                      0.182622\n",
       "Name: 1144, dtype: object"
      ]
     },
     "execution_count": 3,
     "metadata": {},
     "output_type": "execute_result"
    }
   ],
   "source": [
    "parquet.iloc[-1]"
   ]
  }
 ],
 "metadata": {
  "kernelspec": {
   "display_name": "Python 3 (ipykernel)",
   "language": "python",
   "name": "python3"
  },
  "language_info": {
   "codemirror_mode": {
    "name": "ipython",
    "version": 3
   },
   "file_extension": ".py",
   "mimetype": "text/x-python",
   "name": "python",
   "nbconvert_exporter": "python",
   "pygments_lexer": "ipython3",
   "version": "3.9.12"
  }
 },
 "nbformat": 4,
 "nbformat_minor": 5
}
