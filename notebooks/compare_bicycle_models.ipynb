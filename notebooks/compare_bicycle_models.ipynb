{
 "cells": [
  {
   "cell_type": "code",
   "execution_count": 1,
   "id": "7fd9dea4-1f51-4265-bf17-f1b4202af2b7",
   "metadata": {
    "tags": []
   },
   "outputs": [],
   "source": [
    "%load_ext autoreload\n",
    "%autoreload 2"
   ]
  },
  {
   "cell_type": "code",
   "execution_count": 2,
   "id": "ddc62118-df2b-4b09-8818-d706acb40e16",
   "metadata": {
    "tags": []
   },
   "outputs": [],
   "source": [
    "from nuplan_extent.planning.training.closed_loop.motion_models.kinematic_bicycle_batched import BatchedKinematicBicycleModel\n",
    "from nuplan.planning.simulation.controller.motion_model.kinematic_bicycle import KinematicBicycleModel\n",
    "from nuplan.common.actor_state.vehicle_parameters import get_pacifica_parameters"
   ]
  },
  {
   "cell_type": "code",
   "execution_count": 4,
   "id": "098e6503-ada5-47fb-a6ae-e4bf5f2b6ce2",
   "metadata": {
    "tags": []
   },
   "outputs": [],
   "source": [
    "from nuplan.common.actor_state.test.test_utils import get_sample_ego_state, get_sample_dynamic_car_state\n",
    "from nuplan.common.actor_state.state_representation import TimePoint"
   ]
  },
  {
   "cell_type": "code",
   "execution_count": 3,
   "id": "09569329-947d-4410-9e49-f212682f3d5a",
   "metadata": {
    "tags": []
   },
   "outputs": [],
   "source": [
    "vehicle_params = get_pacifica_parameters()\n",
    "\n",
    "batched_model = BatchedKinematicBicycleModel(vehicle_params)\n",
    "normal_model = KinematicBicycleModel(vehicle_params)"
   ]
  },
  {
   "cell_type": "code",
   "execution_count": 5,
   "id": "52fdefe0-6797-4b3e-8649-fa6daaed91a3",
   "metadata": {
    "tags": []
   },
   "outputs": [
    {
     "data": {
      "text/plain": [
       "SplitState(linear_states=[0, 0.9999999999999999, 0.5389999999999999, 1.0, 2.0, 0.1, 0.2, 0.2], angular_states=[1.5707963267948966], fixed_states=[VehicleParameters(width=2.297, length=5.176)])"
      ]
     },
     "execution_count": 5,
     "metadata": {},
     "output_type": "execute_result"
    }
   ],
   "source": [
    "ego_state = get_sample_ego_state()\n",
    "ego_state.to_split_state()"
   ]
  },
  {
   "cell_type": "code",
   "execution_count": 6,
   "id": "3d3e69b7-f441-4894-8b2f-46d5e9f62d77",
   "metadata": {
    "tags": []
   },
   "outputs": [],
   "source": [
    "dynamic_state = get_sample_dynamic_car_state()"
   ]
  },
  {
   "cell_type": "code",
   "execution_count": 7,
   "id": "f21d8341-d87a-4ec5-81e6-191e31695803",
   "metadata": {
    "tags": []
   },
   "outputs": [
    {
     "data": {
      "text/plain": [
       "SplitState(linear_states=[1000000, 0.9999999999999999, 1.539, 1.1, 0.0, 0.1, 0, 0.2], angular_states=[1.6364195173124338], fixed_states=[VehicleParameters(width=2.297, length=5.176)])"
      ]
     },
     "execution_count": 7,
     "metadata": {},
     "output_type": "execute_result"
    }
   ],
   "source": [
    "normal_model.propagate_state(ego_state, dynamic_state, TimePoint(1000000)).to_split_state()"
   ]
  },
  {
   "cell_type": "code",
   "execution_count": 8,
   "id": "fa196384-ae32-4d30-a181-e7c33c0f499b",
   "metadata": {
    "tags": []
   },
   "outputs": [
    {
     "data": {
      "text/plain": [
       "SplitState(linear_states=[1000000, 0.9999999999999999, 1.539, 1.1, 0.0, 0.1, 0, 0.2], angular_states=[1.6364195173124338], fixed_states=[VehicleParameters(width=2.297, length=5.176)])"
      ]
     },
     "execution_count": 8,
     "metadata": {},
     "output_type": "execute_result"
    }
   ],
   "source": [
    "batched_model.propagate_state([ego_state], [dynamic_state], [TimePoint(1000000)])[0].to_split_state()"
   ]
  }
 ],
 "metadata": {
  "kernelspec": {
   "display_name": "Python 3 (ipykernel)",
   "language": "python",
   "name": "python3"
  },
  "language_info": {
   "codemirror_mode": {
    "name": "ipython",
    "version": 3
   },
   "file_extension": ".py",
   "mimetype": "text/x-python",
   "name": "python",
   "nbconvert_exporter": "python",
   "pygments_lexer": "ipython3",
   "version": "3.9.12"
  }
 },
 "nbformat": 4,
 "nbformat_minor": 5
}
