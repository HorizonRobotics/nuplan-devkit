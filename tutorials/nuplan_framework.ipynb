{
 "cells": [
  {
   "cell_type": "markdown",
   "id": "fcb4d62d",
   "metadata": {},
   "source": [
    "![](https://www.nuplan.org/static/media/nuPlan_final.3fde7586.png)"
   ]
  },
  {
   "cell_type": "markdown",
   "id": "8d454a26",
   "metadata": {},
   "source": [
    "### Contents\n",
    "\n",
    "1. [Introduction to nuPlan](#introduction)\n",
    "2. [Training an ML planner](#training)\n",
    "3. [Simulating a planner](#simulation)\n",
    "4. [Visualizing metrics and scenarios](#dashboard)"
   ]
  },
  {
   "cell_type": "code",
   "execution_count": 1,
   "id": "844435a3",
   "metadata": {},
   "outputs": [],
   "source": [
    "from tutorials.utils.tutorial_utils import setup_notebook\n",
    "\n",
    "setup_notebook()"
   ]
  },
  {
   "cell_type": "markdown",
   "id": "a3422a43",
   "metadata": {},
   "source": [
    "# Introduction to nuPlan <a name=\"introduction\"></a>\n"
   ]
  },
  {
   "cell_type": "markdown",
   "id": "2b27eb25",
   "metadata": {},
   "source": [
    "Welcome to nuPlan! This notebook will explore the nuPlan simulation framework, training platform as well as the nuBoard metrics/scenarios visualization dashboard."
   ]
  },
  {
   "cell_type": "markdown",
   "id": "afead152",
   "metadata": {},
   "source": [
    "## What is nuPlan\n",
    "\n",
    "nuPlan is the world’s first closed-loop ML-based planning benchmark for autonomous driving.\n",
    "\n",
    "It provides a high quality dataset with 1500h of human driving data from 4 cities across the US and Asia with widely varying traffic patterns (Boston, Pittsburgh, Las Vegas and Singapore). In addition, it provides a closed-loop simulation framework with reactive agents, a training platform as well as a large set of both general and scenario-specific planning metrics.\n",
    "\n",
    "![](https://www.nuscenes.org/static/media/framework_steps.2d4642df.png)"
   ]
  },
  {
   "cell_type": "markdown",
   "id": "d4ece3a3",
   "metadata": {},
   "source": [
    "## Training & simulation framework\n",
    "\n",
    "The nuPlan training and simulation framework aims to:\n",
    "* create a simulation pipeline to evaluate a planner on large dataset with various scenarios\n",
    "* score planner performance with common and scenario-dependent metrics\n",
    "* compare planners based on measured metrics and provide intuitive visualizations\n",
    "* train planners with the provided framework to allow quick implementation and iteration\n",
    "* support closed-loop simulation and training\n",
    "\n",
    "<br />\n",
    "\n",
    "![](https://www.nuplan.org/static/media/planning_framework.ca3c2969.png)"
   ]
  },
  {
   "cell_type": "markdown",
   "id": "a1d23188",
   "metadata": {},
   "source": [
    "## Scenarios in nuPlan\n",
    "\n",
    "nuPlan aims to capture challenging yet representative scenarios from real-world encounters. This enables the benchmarking of planning systems both in expert imitation (open-loop) and reactive planning (closed-loop) settings.\n",
    "\n",
    "These scenarios includes:\n",
    "* highly interactive scenes with traffic participants (e.g. tailgating, high-velocity overtakes, double parked cars, jaywalking)\n",
    "* various ego behaviors (e.g. vehicle following, yielding, lane merging) and dynamics (e.g. mixed speed profiles, abrupt braking, speed bumps, high jerk maneuvers)\n",
    "* scene layouts of varied complexity (e.g. pudos, traffic/stop controlled intersections, unprotected turns) and temporary zones (e.g. construction areas)\n",
    "\n",
    "The dataset is automatically tagged with scenario labels based on certain primitive attributes.\n",
    "These scenario tags can then be used to extract representative metrics for the planner's evaluation.\n",
    "\n",
    "Example mined scenarios in nuPlan:\n",
    "\n",
    "| | | |\n",
    "| :-: | :-: | :-: |\n",
    "| Unprotected cross turn | Dense vehicle interactions | Jaywalker in front |\n",
    "| ![](https://www.nuscenes.org/static/media/unprotected-cross.51feef7e.webp) | ![](https://www.nuscenes.org/static/media/dense-interactions.16de47ec.webp) | ![](https://www.nuscenes.org/static/media/jaywalker.03083823.webp) |\n",
    "| Lane change | Ego at pickup/dropoff area | Ego following vehicle |\n",
    "| ![](https://www.nuscenes.org/static/media/lane-change.54bfca1c.webp) | ![](https://www.nuscenes.org/static/media/pickup-dropoff.4dd1c418.webp) | ![](https://www.nuscenes.org/static/media/following-vehicle.4cacd559.webp) |"
   ]
  },
  {
   "cell_type": "markdown",
   "id": "652ebd82",
   "metadata": {},
   "source": [
    "## Database\n",
    "\n",
    "Download a database for training/simulation from [here](https://nuplan.org/nuplan#download).\n",
    "\n",
    "| Database | Size | Duration | Num Logs | Cities | Num Scenarios | Sensor Data | Description |\n",
    "| :-- | :-- | :-- | :-- | :-- | :-- | :-- | :-- |\n",
    "| nuplan_v1.1_mini (recommended) | 13GB | 7h | 64 | Las Vegas, Boston, Pittsburgh, Singapore | 67 | N/A | The mini split used for prototyping and testing |\n",
    "| nuplan_v1.1 | 1.8TB | 1282h | 15910 | Las Vegas, Boston, Pittsburgh, Singapore | 73 | N/A | The full dataset for training and evaluation|"
   ]
  },
  {
   "cell_type": "markdown",
   "id": "2064bbc1",
   "metadata": {},
   "source": [
    "## Setup\n",
    "\n",
    "To be able to access all resources within this notebook, make sure Jupyter is launched at the root of this repo. The path of the notebook should be `/notebook/<repo_root>`."
   ]
  },
  {
   "cell_type": "code",
   "execution_count": 2,
   "id": "1dcf36e4",
   "metadata": {},
   "outputs": [
    {
     "name": "stderr",
     "output_type": "stream",
     "text": [
      "/tmp/ipykernel_26623/4180358289.py:2: DeprecationWarning: Importing display from IPython.core.display is deprecated since IPython 7.14, please import from IPython display\n",
      "  from IPython.core.display import display, HTML\n"
     ]
    },
    {
     "data": {
      "text/html": [
       "<style>.output_result { max-width:100% !important; }</style>"
      ],
      "text/plain": [
       "<IPython.core.display.HTML object>"
      ]
     },
     "metadata": {},
     "output_type": "display_data"
    },
    {
     "data": {
      "text/html": [
       "<style>.container { width:100% !important; }</style>"
      ],
      "text/plain": [
       "<IPython.core.display.HTML object>"
      ]
     },
     "metadata": {},
     "output_type": "display_data"
    }
   ],
   "source": [
    "# (Optional) Increase notebook width for all embedded cells to display properly\n",
    "from IPython.core.display import display, HTML\n",
    "display(HTML(\"<style>.output_result { max-width:100% !important; }</style>\"))\n",
    "display(HTML(\"<style>.container { width:100% !important; }</style>\"))"
   ]
  },
  {
   "cell_type": "code",
   "execution_count": 3,
   "id": "12e18a2e",
   "metadata": {},
   "outputs": [],
   "source": [
    "# Useful imports\n",
    "import os\n",
    "from pathlib import Path\n",
    "import tempfile\n",
    "\n",
    "import hydra"
   ]
  },
  {
   "cell_type": "markdown",
   "id": "288d8db0",
   "metadata": {},
   "source": [
    "# Training an ML planner <a name=\"training\"></a>"
   ]
  },
  {
   "cell_type": "markdown",
   "id": "15d80acc",
   "metadata": {},
   "source": [
    "## Imitation learning\n",
    "In the following section we will train an ML planning policy with the aim estimate the ego's future trajectory and control the vehicle.\n",
    "\n",
    "The policy is learned through imitation learning, a supervised learning approach in which - in the context of autonomous driving - the behavior of an expert human driver is used as a target signal to supervise the model.\n",
    "\n",
    "## Model features & targets\n",
    "A planning policy consumes a set of episodic observations and encodes them through a deep neural network to regress a future trajectory.\n",
    "\n",
    "The observations can be historic or present ego and agent poses as well as static/dynamic map information across different map layers.<br />\n",
    "These signals can be encoded through various representations, such as raster or vector format for the map signal, each with their pros and cons for each model flavor.\n",
    "\n",
    "Using these input features the model predicts a discretized future trajectory across a fixed time horizon.<br />\n",
    "The trajectory consists of a set of discrete future states (position, heading and velocity) sampled at fixed intervals which express the likelihood of the vehicle being at that state in the future.<br />\n",
    "For example, a predicted trajectory may consist of 10 future poses sampled at intervals of 0.5s across a 5s horizon.\n",
    "\n",
    "## Learning objectives\n",
    "The policy is trained to maximize a set of aggregated objectives such as imitation, collision avoidance, traffic rule violation etc.<br />\n",
    "Imitation is the core training objective which indicates how close the predicted trajectory is to the expert ground truth and penalizes model predictions that deviate in space and time from the demonstration."
   ]
  },
  {
   "cell_type": "markdown",
   "id": "d0800a03",
   "metadata": {},
   "source": [
    "## Training parameters"
   ]
  },
  {
   "cell_type": "markdown",
   "id": "602e5324",
   "metadata": {},
   "source": [
    "The following parameter categories define the training protocol which includes the model, metrics, objectives etc.\n",
    "\n",
    "A working example composition of these parameters can be found in the next section.\n",
    "\n",
    "---\n",
    "\n",
    "### ML models\n",
    "\n",
    "Change the training model with `model=X` where `X` is a config yaml defined in the table below. \n",
    "\n",
    "| Model | Description | Config |\n",
    "| --- | --- | --- |\n",
    "| Raster model (CNN) | Raster-based model that uses a CNN backbone to encode ego, agent and map information as raster layers<br />Any (pretrained) backbone from the TIMM library can be used (e.g. ResNet50, EfficientNetB3) | `raster_model` |\n",
    "| Vector model (LaneGCN) | Vector-based model that uses a series of MLPs to encode ego and agent signals, a lane graph to encode vector-map elements and a fusion network to capture lane & agent intra/inter-interactions through attention layers<br />Implementation of LaneGCN paper (\"Learning Lane Graph Representations for Motion Forecasting\") | `vector_model` |\n",
    "| Simple vector model | Toy vector-based model that consumes ego, agent and lane signals through a series of MLPs | `simple_vector_model` |\n",
    "\n",
    "<br />\n",
    "\n",
    "### Training objectives\n",
    "\n",
    "Change the training objectives with `objective=[X, ...]` where `X` is a config yaml defined in the table below. \n",
    "\n",
    "| Objective | Description | Config |\n",
    "| --- | --- | --- |\n",
    "| Imitation objective | Penalizes the predicted trajectory that deviates from the expert demonstration | `imitation_objective` |\n",
    "\n",
    "<br />\n",
    "\n",
    "### Training metrics\n",
    "\n",
    "Change the training objectives with `training_metric=[X, ...]` where `X` is a config yaml defined in the table below. \n",
    "\n",
    "| Metric | Description | Config |\n",
    "| --- | --- | --- |\n",
    "| Average displacement error | RMSE translation error across full predicted trajectory | `avg_displacement_error` |\n",
    "| Average heading error | RMSE heading error across full predicted trajectory | `avg_heading_error` |\n",
    "| Final displacement error | L2 error of predicted trajectory's final pose translation | `final_displacement_error` |\n",
    "| Final heading error | L2 error of predicted trajectory's final pose heading | `final_heading_error` |"
   ]
  },
  {
   "cell_type": "markdown",
   "id": "3ee66b84",
   "metadata": {},
   "source": [
    "## Prepare the training config"
   ]
  },
  {
   "cell_type": "code",
   "execution_count": 4,
   "id": "05860753",
   "metadata": {},
   "outputs": [],
   "source": [
    "# Location of path with all training configs\n",
    "CONFIG_PATH = '../nuplan/planning/script/config/training'\n",
    "CONFIG_NAME = 'default_training'\n",
    "\n",
    "# Create a temporary directory to store the cache and experiment artifacts\n",
    "SAVE_DIR = Path(tempfile.gettempdir()) / 'tutorial_nuplan_framework'  # optionally replace with persistent dir\n",
    "EXPERIMENT = 'training_raster_experiment'\n",
    "JOB_NAME = 'train_default_raster'\n",
    "LOG_DIR = SAVE_DIR / EXPERIMENT / JOB_NAME\n",
    "\n",
    "# Initialize configuration management system\n",
    "hydra.core.global_hydra.GlobalHydra.instance().clear()\n",
    "hydra.initialize(config_path=CONFIG_PATH)\n",
    "\n",
    "# Compose the configuration\n",
    "cfg = hydra.compose(config_name=CONFIG_NAME, overrides=[\n",
    "    f'group={str(SAVE_DIR)}',\n",
    "    f'cache.cache_path={str(SAVE_DIR)}/cache',\n",
    "    f'experiment_name={EXPERIMENT}',\n",
    "    f'job_name={JOB_NAME}',\n",
    "    'py_func=train',\n",
    "    '+training=training_raster_model',  # raster model that consumes ego, agents and map raster layers and regresses the ego's trajectory\n",
    "    'scenario_builder=nuplan_mini',  # use nuplan mini database\n",
    "    'scenario_filter.limit_total_scenarios=500',  # Choose 500 scenarios to train with\n",
    "    'lightning.trainer.params.accelerator=ddp_spawn',  # ddp is not allowed in interactive environment, using ddp_spawn instead - this can bottleneck the data pipeline, it is recommended to run training outside the notebook\n",
    "    'lightning.trainer.params.max_epochs=10',\n",
    "    'data_loader.params.batch_size=8',\n",
    "    'data_loader.params.num_workers=8',\n",
    "])\n"
   ]
  },
  {
   "cell_type": "markdown",
   "id": "162273a1",
   "metadata": {},
   "source": [
    "## Launch tensorboard for visualizing training artifacts"
   ]
  },
  {
   "cell_type": "code",
   "execution_count": 5,
   "id": "5acfc262",
   "metadata": {},
   "outputs": [
    {
     "data": {
      "text/html": [
       "\n",
       "      <iframe id=\"tensorboard-frame-3b28b84795a63c08\" width=\"100%\" height=\"800\" frameborder=\"0\">\n",
       "      </iframe>\n",
       "      <script>\n",
       "        (function() {\n",
       "          const frame = document.getElementById(\"tensorboard-frame-3b28b84795a63c08\");\n",
       "          const url = new URL(\"/\", window.location);\n",
       "          const port = 6006;\n",
       "          if (port) {\n",
       "            url.port = port;\n",
       "          }\n",
       "          frame.src = url;\n",
       "        })();\n",
       "      </script>\n",
       "    "
      ],
      "text/plain": [
       "<IPython.core.display.HTML object>"
      ]
     },
     "metadata": {},
     "output_type": "display_data"
    }
   ],
   "source": [
    "%load_ext tensorboard\n",
    "%tensorboard --logdir {str(LOG_DIR)}"
   ]
  },
  {
   "cell_type": "markdown",
   "id": "ff5edf94",
   "metadata": {},
   "source": [
    "## Launch training (within the notebook)"
   ]
  },
  {
   "cell_type": "code",
   "execution_count": 6,
   "id": "62fb9600",
   "metadata": {},
   "outputs": [
    {
     "name": "stderr",
     "output_type": "stream",
     "text": [
      "Global seed set to 0\n"
     ]
    },
    {
     "name": "stdout",
     "output_type": "stream",
     "text": [
      "2023-04-25 17:27:33,573 INFO {/home/pat.karnchanachari/nuplan-devkit/nuplan/planning/script/builders/folder_builder.py:20}  Building experiment folders...\n",
      "2023-04-25 17:27:33,574 INFO {/home/pat.karnchanachari/nuplan-devkit/nuplan/planning/script/builders/folder_builder.py:22}  Experimental folder: /tmp/tutorial_nuplan_framework/training_raster_experiment/train_default_raster/2023.04.25.17.27.33\n",
      "2023-04-25 17:27:33,574 INFO {/home/pat.karnchanachari/nuplan-devkit/nuplan/planning/script/builders/worker_pool_builder.py:19}  Building WorkerPool...\n",
      "2023-04-25 17:27:33,576 INFO {/home/pat.karnchanachari/nuplan-devkit/nuplan/planning/utils/multithreading/worker_ray.py:78}  Starting ray local!\n"
     ]
    },
    {
     "name": "stderr",
     "output_type": "stream",
     "text": [
      "2023-04-25 17:27:35,528\tINFO worker.py:1553 -- Started a local Ray instance.\n"
     ]
    },
    {
     "name": "stdout",
     "output_type": "stream",
     "text": [
      "2023-04-25 17:27:36,566 INFO {/home/pat.karnchanachari/nuplan-devkit/nuplan/planning/utils/multithreading/worker_pool.py:101}  Worker: RayDistributed\n",
      "2023-04-25 17:27:36,567 INFO {/home/pat.karnchanachari/nuplan-devkit/nuplan/planning/utils/multithreading/worker_pool.py:102}  Number of nodes: 1\n",
      "Number of CPUs per node: 32\n",
      "Number of GPUs per node: 1\n",
      "Number of threads across all nodes: 32\n",
      "2023-04-25 17:27:36,567 INFO {/home/pat.karnchanachari/nuplan-devkit/nuplan/planning/script/builders/worker_pool_builder.py:27}  Building WorkerPool...DONE!\n",
      "2023-04-25 17:27:36,567 INFO {/home/pat.karnchanachari/nuplan-devkit/nuplan/planning/training/experiments/training.py:41}  Building training engine...\n",
      "2023-04-25 17:27:36,567 INFO {/home/pat.karnchanachari/nuplan-devkit/nuplan/planning/script/builders/model_builder.py:18}  Building TorchModuleWrapper...\n",
      "2023-04-25 17:27:36,864 INFO {/home/pat.karnchanachari/miniconda3/envs/nuplan/lib/python3.9/site-packages/timm/models/helpers.py:247}  Loading pretrained weights from url (https://github.com/rwightman/pytorch-image-models/releases/download/v0.1-rsb-weights/resnet50_a1_0-14fe96d1.pth)\n",
      "2023-04-25 17:27:36,978 INFO {/home/pat.karnchanachari/miniconda3/envs/nuplan/lib/python3.9/site-packages/timm/models/helpers.py:275}  Converted input conv conv1 pretrained weights from 3 to 4 channel(s)\n",
      "2023-04-25 17:27:37,006 INFO {/home/pat.karnchanachari/nuplan-devkit/nuplan/planning/script/builders/model_builder.py:21}  Building TorchModuleWrapper...DONE!\n",
      "2023-04-25 17:27:37,006 INFO {/home/pat.karnchanachari/nuplan-devkit/nuplan/planning/script/builders/splitter_builder.py:18}  Building Splitter...\n",
      "2023-04-25 17:27:37,865 INFO {/home/pat.karnchanachari/nuplan-devkit/nuplan/planning/script/builders/splitter_builder.py:21}  Building Splitter...DONE!\n",
      "2023-04-25 17:27:37,866 INFO {/home/pat.karnchanachari/nuplan-devkit/nuplan/planning/script/builders/scenario_building_builder.py:18}  Building AbstractScenarioBuilder...\n",
      "2023-04-25 17:27:37,880 INFO {/home/pat.karnchanachari/nuplan-devkit/nuplan/planning/script/builders/scenario_building_builder.py:21}  Building AbstractScenarioBuilder...DONE!\n",
      "2023-04-25 17:27:37,880 INFO {/home/pat.karnchanachari/nuplan-devkit/nuplan/planning/script/builders/scenario_filter_builder.py:35}  Building ScenarioFilter...\n",
      "2023-04-25 17:27:37,881 INFO {/home/pat.karnchanachari/nuplan-devkit/nuplan/planning/script/builders/scenario_filter_builder.py:44}  Building ScenarioFilter...DONE!\n"
     ]
    },
    {
     "name": "stderr",
     "output_type": "stream",
     "text": [
      "Ray objects: 100%|████████████████████████████████████████████████████████████████████| 32/32 [00:03<00:00,  8.87it/s]\n",
      "GPU available: True, used: True\n",
      "TPU available: False, using: 0 TPU cores\n",
      "Using native 16bit precision.\n",
      "Global seed set to 0\n",
      "initializing ddp: GLOBAL_RANK: 0, MEMBER: 1/1\n",
      "----------------------------------------------------------------------------------------------------\n",
      "distributed_backend=nccl\n",
      "All DDP processes registered. Starting ddp with 1 processes\n",
      "----------------------------------------------------------------------------------------------------\n",
      "\n"
     ]
    },
    {
     "name": "stdout",
     "output_type": "stream",
     "text": [
      "2023-04-25 17:27:41,646 INFO {/home/pat.karnchanachari/nuplan-devkit/nuplan/planning/script/builders/scenario_builder.py:171}  Extracted 500 scenarios for training\n",
      "2023-04-25 17:27:41,647 INFO {/home/pat.karnchanachari/nuplan-devkit/nuplan/planning/training/experiments/training.py:52}  Updating configs based on ddp_spawn strategy is currently not supported. Optimizer and LR Scheduler configs will not be updated.\n",
      "2023-04-25 17:27:41,650 INFO {/home/pat.karnchanachari/nuplan-devkit/nuplan/planning/script/builders/training_callback_builder.py:19}  Building callbacks...\n",
      "2023-04-25 17:27:41,656 INFO {/home/pat.karnchanachari/nuplan-devkit/nuplan/planning/script/builders/training_callback_builder.py:37}  Building callbacks...DONE!\n",
      "2023-04-25 17:27:41,659 INFO {/home/pat.karnchanachari/nuplan-devkit/nuplan/planning/script/run_training.py:62}  Starting training...\n",
      "2023-04-25 17:27:41,714 INFO {/home/pat.karnchanachari/miniconda3/envs/nuplan/lib/python3.9/site-packages/torch/distributed/distributed_c10d.py:194}  Added key: store_based_barrier_key:1 to store for rank: 0\n",
      "2023-04-25 17:27:41,714 INFO {/home/pat.karnchanachari/miniconda3/envs/nuplan/lib/python3.9/site-packages/torch/distributed/distributed_c10d.py:224}  Rank 0: Completed store-based barrier for 1 nodes.\n"
     ]
    },
    {
     "name": "stderr",
     "output_type": "stream",
     "text": [
      "LOCAL_RANK: 0 - CUDA_VISIBLE_DEVICES: [0]\n",
      "\n",
      "  | Name  | Type        | Params\n",
      "--------------------------------------\n",
      "0 | model | RasterModel | 23.6 M\n",
      "--------------------------------------\n",
      "23.6 M    Trainable params\n",
      "0         Non-trainable params\n",
      "23.6 M    Total params\n",
      "94.438    Total estimated model params size (MB)\n"
     ]
    },
    {
     "name": "stdout",
     "output_type": "stream",
     "text": [
      "2023-04-25 17:27:44,106 INFO {/home/pat.karnchanachari/nuplan-devkit/nuplan/planning/training/data_loader/datamodule.py:47}  Number of samples in train set: 323\n",
      "2023-04-25 17:27:44,107 INFO {/home/pat.karnchanachari/nuplan-devkit/nuplan/planning/training/data_loader/datamodule.py:47}  Number of samples in validation set: 82\n",
      "2023-04-25 17:27:44,110 INFO {/home/pat.karnchanachari/nuplan-devkit/nuplan/planning/training/modeling/lightning_module_wrapper.py:196}  Using optimizer: torch.optim.Adam\n",
      "2023-04-25 17:27:44,110 INFO {/home/pat.karnchanachari/nuplan-devkit/nuplan/planning/script/builders/lr_scheduler_builder.py:52}  Not using any lr_schedulers.\n"
     ]
    },
    {
     "name": "stderr",
     "output_type": "stream",
     "text": [
      "/home/pat.karnchanachari/miniconda3/envs/nuplan/lib/python3.9/site-packages/pytorch_lightning/trainer/data_loading.py:73: UserWarning: num_workers>0, persistent_workers=False, and accelerator=ddp_spawn may result in data loading bottlenecks. Consider setting persistent_workers=True (this is a limitation of Python .spawn() and PyTorch)\n",
      "  rank_zero_warn(\n",
      "/home/pat.karnchanachari/miniconda3/envs/nuplan/lib/python3.9/site-packages/pytorch_lightning/callbacks/lr_monitor.py:97: RuntimeWarning: You are using `LearningRateMonitor` callback with models that have no learning rate schedulers. Please see documentation for `configure_optimizers` method.\n",
      "  rank_zero_warn(\n"
     ]
    },
    {
     "data": {
      "application/vnd.jupyter.widget-view+json": {
       "model_id": "41c75accb09241a187bddaf315e297df",
       "version_major": 2,
       "version_minor": 0
      },
      "text/plain": [
       "Training: 0it [00:00, ?it/s]"
      ]
     },
     "metadata": {},
     "output_type": "display_data"
    },
    {
     "name": "stderr",
     "output_type": "stream",
     "text": [
      "/home/pat.karnchanachari/miniconda3/envs/nuplan/lib/python3.9/site-packages/torch/nn/functional.py:718: UserWarning: Named tensors and all their associated APIs are an experimental feature and subject to change. Please do not use them for anything important until they are released as stable. (Triggered internally at  /pytorch/c10/core/TensorImpl.h:1156.)\n",
      "  return torch.max_pool2d(input, kernel_size, stride, padding, dilation, ceil_mode)\n"
     ]
    },
    {
     "name": "stdout",
     "output_type": "stream",
     "text": [
      "2023-04-25 17:28:14,343 INFO {/home/pat.karnchanachari/miniconda3/envs/nuplan/lib/python3.9/site-packages/torch/nn/parallel/distributed.py:788}  Reducer buckets have been rebuilt in this iteration.\n"
     ]
    },
    {
     "name": "stderr",
     "output_type": "stream",
     "text": [
      "/home/pat.karnchanachari/miniconda3/envs/nuplan/lib/python3.9/site-packages/pytorch_lightning/trainer/callback_hook.py:100: LightningDeprecationWarning: The signature of `Callback.on_train_epoch_end` has changed in v1.3. `outputs` parameter has been removed. Support for the old signature will be removed in v1.5\n",
      "  warning_cache.deprecation(\n"
     ]
    },
    {
     "data": {
      "application/vnd.jupyter.widget-view+json": {
       "model_id": "",
       "version_major": 2,
       "version_minor": 0
      },
      "text/plain": [
       "Validating: 0it [00:00, ?it/s]"
      ]
     },
     "metadata": {},
     "output_type": "display_data"
    },
    {
     "name": "stderr",
     "output_type": "stream",
     "text": [
      "[W pthreadpool-cpp.cc:90] Warning: Leaking Caffe2 thread-pool after fork. (function pthreadpool)\n",
      "[W pthreadpool-cpp.cc:90] Warning: Leaking Caffe2 thread-pool after fork. (function pthreadpool)\n",
      "[W pthreadpool-cpp.cc:90] Warning: Leaking Caffe2 thread-pool after fork. (function pthreadpool)\n",
      "[W pthreadpool-cpp.cc:90] Warning: Leaking Caffe2 thread-pool after fork. (function pthreadpool)\n",
      "[W pthreadpool-cpp.cc:90] Warning: Leaking Caffe2 thread-pool after fork. (function pthreadpool)\n",
      "[W pthreadpool-cpp.cc:90] Warning: Leaking Caffe2 thread-pool after fork. (function pthreadpool)\n",
      "[W pthreadpool-cpp.cc:90] Warning: Leaking Caffe2 thread-pool after fork. (function pthreadpool)\n",
      "[W pthreadpool-cpp.cc:90] Warning: Leaking Caffe2 thread-pool after fork. (function pthreadpool)\n",
      "[W pthreadpool-cpp.cc:90] Warning: Leaking Caffe2 thread-pool after fork. (function pthreadpool)\n",
      "[W pthreadpool-cpp.cc:90] Warning: Leaking Caffe2 thread-pool after fork. (function pthreadpool)\n",
      "[W pthreadpool-cpp.cc:90] Warning: Leaking Caffe2 thread-pool after fork. (function pthreadpool)\n",
      "[W pthreadpool-cpp.cc:90] Warning: Leaking Caffe2 thread-pool after fork. (function pthreadpool)\n",
      "[W pthreadpool-cpp.cc:90] Warning: Leaking Caffe2 thread-pool after fork. (function pthreadpool)\n",
      "[W pthreadpool-cpp.cc:90] Warning: Leaking Caffe2 thread-pool after fork. (function pthreadpool)\n",
      "[W pthreadpool-cpp.cc:90] Warning: Leaking Caffe2 thread-pool after fork. (function pthreadpool)\n",
      "[W pthreadpool-cpp.cc:90] Warning: Leaking Caffe2 thread-pool after fork. (function pthreadpool)\n",
      "[W pthreadpool-cpp.cc:90] Warning: Leaking Caffe2 thread-pool after fork. (function pthreadpool)\n",
      "[W pthreadpool-cpp.cc:90] Warning: Leaking Caffe2 thread-pool after fork. (function pthreadpool)\n",
      "[W pthreadpool-cpp.cc:90] Warning: Leaking Caffe2 thread-pool after fork. (function pthreadpool)\n",
      "[W pthreadpool-cpp.cc:90] Warning: Leaking Caffe2 thread-pool after fork. (function pthreadpool)\n",
      "[W pthreadpool-cpp.cc:90] Warning: Leaking Caffe2 thread-pool after fork. (function pthreadpool)\n",
      "[W pthreadpool-cpp.cc:90] Warning: Leaking Caffe2 thread-pool after fork. (function pthreadpool)\n",
      "[W pthreadpool-cpp.cc:90] Warning: Leaking Caffe2 thread-pool after fork. (function pthreadpool)\n",
      "[W pthreadpool-cpp.cc:90] Warning: Leaking Caffe2 thread-pool after fork. (function pthreadpool)\n"
     ]
    },
    {
     "data": {
      "application/vnd.jupyter.widget-view+json": {
       "model_id": "",
       "version_major": 2,
       "version_minor": 0
      },
      "text/plain": [
       "Validating: 0it [00:00, ?it/s]"
      ]
     },
     "metadata": {},
     "output_type": "display_data"
    },
    {
     "name": "stderr",
     "output_type": "stream",
     "text": [
      "[W pthreadpool-cpp.cc:90] Warning: Leaking Caffe2 thread-pool after fork. (function pthreadpool)\n",
      "[W pthreadpool-cpp.cc:90] Warning: Leaking Caffe2 thread-pool after fork. (function pthreadpool)\n",
      "[W pthreadpool-cpp.cc:90] Warning: Leaking Caffe2 thread-pool after fork. (function pthreadpool)\n",
      "[W pthreadpool-cpp.cc:90] Warning: Leaking Caffe2 thread-pool after fork. (function pthreadpool)\n",
      "[W pthreadpool-cpp.cc:90] Warning: Leaking Caffe2 thread-pool after fork. (function pthreadpool)\n",
      "[W pthreadpool-cpp.cc:90] Warning: Leaking Caffe2 thread-pool after fork. (function pthreadpool)\n",
      "[W pthreadpool-cpp.cc:90] Warning: Leaking Caffe2 thread-pool after fork. (function pthreadpool)\n",
      "[W pthreadpool-cpp.cc:90] Warning: Leaking Caffe2 thread-pool after fork. (function pthreadpool)\n",
      "[W pthreadpool-cpp.cc:90] Warning: Leaking Caffe2 thread-pool after fork. (function pthreadpool)\n",
      "[W pthreadpool-cpp.cc:90] Warning: Leaking Caffe2 thread-pool after fork. (function pthreadpool)\n",
      "[W pthreadpool-cpp.cc:90] Warning: Leaking Caffe2 thread-pool after fork. (function pthreadpool)\n",
      "[W pthreadpool-cpp.cc:90] Warning: Leaking Caffe2 thread-pool after fork. (function pthreadpool)\n",
      "[W pthreadpool-cpp.cc:90] Warning: Leaking Caffe2 thread-pool after fork. (function pthreadpool)\n",
      "[W pthreadpool-cpp.cc:90] Warning: Leaking Caffe2 thread-pool after fork. (function pthreadpool)\n",
      "[W pthreadpool-cpp.cc:90] Warning: Leaking Caffe2 thread-pool after fork. (function pthreadpool)\n",
      "[W pthreadpool-cpp.cc:90] Warning: Leaking Caffe2 thread-pool after fork. (function pthreadpool)\n",
      "[W pthreadpool-cpp.cc:90] Warning: Leaking Caffe2 thread-pool after fork. (function pthreadpool)\n",
      "[W pthreadpool-cpp.cc:90] Warning: Leaking Caffe2 thread-pool after fork. (function pthreadpool)\n",
      "[W pthreadpool-cpp.cc:90] Warning: Leaking Caffe2 thread-pool after fork. (function pthreadpool)\n",
      "[W pthreadpool-cpp.cc:90] Warning: Leaking Caffe2 thread-pool after fork. (function pthreadpool)\n",
      "[W pthreadpool-cpp.cc:90] Warning: Leaking Caffe2 thread-pool after fork. (function pthreadpool)\n",
      "[W pthreadpool-cpp.cc:90] Warning: Leaking Caffe2 thread-pool after fork. (function pthreadpool)\n",
      "[W pthreadpool-cpp.cc:90] Warning: Leaking Caffe2 thread-pool after fork. (function pthreadpool)\n"
     ]
    },
    {
     "data": {
      "application/vnd.jupyter.widget-view+json": {
       "model_id": "",
       "version_major": 2,
       "version_minor": 0
      },
      "text/plain": [
       "Validating: 0it [00:00, ?it/s]"
      ]
     },
     "metadata": {},
     "output_type": "display_data"
    },
    {
     "name": "stderr",
     "output_type": "stream",
     "text": [
      "[W pthreadpool-cpp.cc:90] Warning: Leaking Caffe2 thread-pool after fork. (function pthreadpool)\n",
      "[W pthreadpool-cpp.cc:90] Warning: Leaking Caffe2 thread-pool after fork. (function pthreadpool)\n",
      "[W pthreadpool-cpp.cc:90] Warning: Leaking Caffe2 thread-pool after fork. (function pthreadpool)\n",
      "[W pthreadpool-cpp.cc:90] Warning: Leaking Caffe2 thread-pool after fork. (function pthreadpool)\n",
      "[W pthreadpool-cpp.cc:90] Warning: Leaking Caffe2 thread-pool after fork. (function pthreadpool)\n",
      "[W pthreadpool-cpp.cc:90] Warning: Leaking Caffe2 thread-pool after fork. (function pthreadpool)\n",
      "[W pthreadpool-cpp.cc:90] Warning: Leaking Caffe2 thread-pool after fork. (function pthreadpool)\n",
      "[W pthreadpool-cpp.cc:90] Warning: Leaking Caffe2 thread-pool after fork. (function pthreadpool)\n",
      "[W pthreadpool-cpp.cc:90] Warning: Leaking Caffe2 thread-pool after fork. (function pthreadpool)\n",
      "[W pthreadpool-cpp.cc:90] Warning: Leaking Caffe2 thread-pool after fork. (function pthreadpool)\n",
      "[W pthreadpool-cpp.cc:90] Warning: Leaking Caffe2 thread-pool after fork. (function pthreadpool)\n",
      "[W pthreadpool-cpp.cc:90] Warning: Leaking Caffe2 thread-pool after fork. (function pthreadpool)\n",
      "[W pthreadpool-cpp.cc:90] Warning: Leaking Caffe2 thread-pool after fork. (function pthreadpool)\n",
      "[W pthreadpool-cpp.cc:90] Warning: Leaking Caffe2 thread-pool after fork. (function pthreadpool)\n",
      "[W pthreadpool-cpp.cc:90] Warning: Leaking Caffe2 thread-pool after fork. (function pthreadpool)\n",
      "[W pthreadpool-cpp.cc:90] Warning: Leaking Caffe2 thread-pool after fork. (function pthreadpool)\n",
      "[W pthreadpool-cpp.cc:90] Warning: Leaking Caffe2 thread-pool after fork. (function pthreadpool)\n",
      "[W pthreadpool-cpp.cc:90] Warning: Leaking Caffe2 thread-pool after fork. (function pthreadpool)\n",
      "[W pthreadpool-cpp.cc:90] Warning: Leaking Caffe2 thread-pool after fork. (function pthreadpool)\n",
      "[W pthreadpool-cpp.cc:90] Warning: Leaking Caffe2 thread-pool after fork. (function pthreadpool)\n",
      "[W pthreadpool-cpp.cc:90] Warning: Leaking Caffe2 thread-pool after fork. (function pthreadpool)\n",
      "[W pthreadpool-cpp.cc:90] Warning: Leaking Caffe2 thread-pool after fork. (function pthreadpool)\n"
     ]
    },
    {
     "data": {
      "application/vnd.jupyter.widget-view+json": {
       "model_id": "",
       "version_major": 2,
       "version_minor": 0
      },
      "text/plain": [
       "Validating: 0it [00:00, ?it/s]"
      ]
     },
     "metadata": {},
     "output_type": "display_data"
    },
    {
     "name": "stderr",
     "output_type": "stream",
     "text": [
      "[W pthreadpool-cpp.cc:90] Warning: Leaking Caffe2 thread-pool after fork. (function pthreadpool)\n",
      "[W pthreadpool-cpp.cc:90] Warning: Leaking Caffe2 thread-pool after fork. (function pthreadpool)\n",
      "[W pthreadpool-cpp.cc:90] Warning: Leaking Caffe2 thread-pool after fork. (function pthreadpool)\n",
      "[W pthreadpool-cpp.cc:90] Warning: Leaking Caffe2 thread-pool after fork. (function pthreadpool)\n",
      "[W pthreadpool-cpp.cc:90] Warning: Leaking Caffe2 thread-pool after fork. (function pthreadpool)\n",
      "[W pthreadpool-cpp.cc:90] Warning: Leaking Caffe2 thread-pool after fork. (function pthreadpool)\n",
      "[W pthreadpool-cpp.cc:90] Warning: Leaking Caffe2 thread-pool after fork. (function pthreadpool)\n",
      "[W pthreadpool-cpp.cc:90] Warning: Leaking Caffe2 thread-pool after fork. (function pthreadpool)\n",
      "[W pthreadpool-cpp.cc:90] Warning: Leaking Caffe2 thread-pool after fork. (function pthreadpool)\n",
      "[W pthreadpool-cpp.cc:90] Warning: Leaking Caffe2 thread-pool after fork. (function pthreadpool)\n",
      "[W pthreadpool-cpp.cc:90] Warning: Leaking Caffe2 thread-pool after fork. (function pthreadpool)\n",
      "[W pthreadpool-cpp.cc:90] Warning: Leaking Caffe2 thread-pool after fork. (function pthreadpool)\n",
      "[W pthreadpool-cpp.cc:90] Warning: Leaking Caffe2 thread-pool after fork. (function pthreadpool)\n",
      "[W pthreadpool-cpp.cc:90] Warning: Leaking Caffe2 thread-pool after fork. (function pthreadpool)\n",
      "[W pthreadpool-cpp.cc:90] Warning: Leaking Caffe2 thread-pool after fork. (function pthreadpool)\n",
      "[W pthreadpool-cpp.cc:90] Warning: Leaking Caffe2 thread-pool after fork. (function pthreadpool)\n",
      "[W pthreadpool-cpp.cc:90] Warning: Leaking Caffe2 thread-pool after fork. (function pthreadpool)\n",
      "[W pthreadpool-cpp.cc:90] Warning: Leaking Caffe2 thread-pool after fork. (function pthreadpool)\n",
      "[W pthreadpool-cpp.cc:90] Warning: Leaking Caffe2 thread-pool after fork. (function pthreadpool)\n",
      "[W pthreadpool-cpp.cc:90] Warning: Leaking Caffe2 thread-pool after fork. (function pthreadpool)\n",
      "[W pthreadpool-cpp.cc:90] Warning: Leaking Caffe2 thread-pool after fork. (function pthreadpool)\n"
     ]
    },
    {
     "data": {
      "application/vnd.jupyter.widget-view+json": {
       "model_id": "",
       "version_major": 2,
       "version_minor": 0
      },
      "text/plain": [
       "Validating: 0it [00:00, ?it/s]"
      ]
     },
     "metadata": {},
     "output_type": "display_data"
    },
    {
     "name": "stderr",
     "output_type": "stream",
     "text": [
      "[W pthreadpool-cpp.cc:90] Warning: Leaking Caffe2 thread-pool after fork. (function pthreadpool)\n",
      "[W pthreadpool-cpp.cc:90] Warning: Leaking Caffe2 thread-pool after fork. (function pthreadpool)\n",
      "[W pthreadpool-cpp.cc:90] Warning: Leaking Caffe2 thread-pool after fork. (function pthreadpool)\n",
      "[W pthreadpool-cpp.cc:90] Warning: Leaking Caffe2 thread-pool after fork. (function pthreadpool)\n",
      "[W pthreadpool-cpp.cc:90] Warning: Leaking Caffe2 thread-pool after fork. (function pthreadpool)\n",
      "[W pthreadpool-cpp.cc:90] Warning: Leaking Caffe2 thread-pool after fork. (function pthreadpool)\n",
      "[W pthreadpool-cpp.cc:90] Warning: Leaking Caffe2 thread-pool after fork. (function pthreadpool)\n",
      "[W pthreadpool-cpp.cc:90] Warning: Leaking Caffe2 thread-pool after fork. (function pthreadpool)\n",
      "[W pthreadpool-cpp.cc:90] Warning: Leaking Caffe2 thread-pool after fork. (function pthreadpool)\n",
      "[W pthreadpool-cpp.cc:90] Warning: Leaking Caffe2 thread-pool after fork. (function pthreadpool)\n",
      "[W pthreadpool-cpp.cc:90] Warning: Leaking Caffe2 thread-pool after fork. (function pthreadpool)\n",
      "[W pthreadpool-cpp.cc:90] Warning: Leaking Caffe2 thread-pool after fork. (function pthreadpool)\n",
      "[W pthreadpool-cpp.cc:90] Warning: Leaking Caffe2 thread-pool after fork. (function pthreadpool)\n",
      "[W pthreadpool-cpp.cc:90] Warning: Leaking Caffe2 thread-pool after fork. (function pthreadpool)\n",
      "[W pthreadpool-cpp.cc:90] Warning: Leaking Caffe2 thread-pool after fork. (function pthreadpool)\n",
      "[W pthreadpool-cpp.cc:90] Warning: Leaking Caffe2 thread-pool after fork. (function pthreadpool)\n",
      "[W pthreadpool-cpp.cc:90] Warning: Leaking Caffe2 thread-pool after fork. (function pthreadpool)\n",
      "[W pthreadpool-cpp.cc:90] Warning: Leaking Caffe2 thread-pool after fork. (function pthreadpool)\n",
      "[W pthreadpool-cpp.cc:90] Warning: Leaking Caffe2 thread-pool after fork. (function pthreadpool)\n",
      "[W pthreadpool-cpp.cc:90] Warning: Leaking Caffe2 thread-pool after fork. (function pthreadpool)\n"
     ]
    },
    {
     "data": {
      "application/vnd.jupyter.widget-view+json": {
       "model_id": "",
       "version_major": 2,
       "version_minor": 0
      },
      "text/plain": [
       "Validating: 0it [00:00, ?it/s]"
      ]
     },
     "metadata": {},
     "output_type": "display_data"
    },
    {
     "name": "stderr",
     "output_type": "stream",
     "text": [
      "[W pthreadpool-cpp.cc:90] Warning: Leaking Caffe2 thread-pool after fork. (function pthreadpool)\n",
      "[W pthreadpool-cpp.cc:90] Warning: Leaking Caffe2 thread-pool after fork. (function pthreadpool)\n",
      "[W pthreadpool-cpp.cc:90] Warning: Leaking Caffe2 thread-pool after fork. (function pthreadpool)\n",
      "[W pthreadpool-cpp.cc:90] Warning: Leaking Caffe2 thread-pool after fork. (function pthreadpool)\n",
      "[W pthreadpool-cpp.cc:90] Warning: Leaking Caffe2 thread-pool after fork. (function pthreadpool)\n",
      "[W pthreadpool-cpp.cc:90] Warning: Leaking Caffe2 thread-pool after fork. (function pthreadpool)\n",
      "[W pthreadpool-cpp.cc:90] Warning: Leaking Caffe2 thread-pool after fork. (function pthreadpool)\n",
      "[W pthreadpool-cpp.cc:90] Warning: Leaking Caffe2 thread-pool after fork. (function pthreadpool)\n",
      "[W pthreadpool-cpp.cc:90] Warning: Leaking Caffe2 thread-pool after fork. (function pthreadpool)\n",
      "[W pthreadpool-cpp.cc:90] Warning: Leaking Caffe2 thread-pool after fork. (function pthreadpool)\n",
      "[W pthreadpool-cpp.cc:90] Warning: Leaking Caffe2 thread-pool after fork. (function pthreadpool)\n",
      "[W pthreadpool-cpp.cc:90] Warning: Leaking Caffe2 thread-pool after fork. (function pthreadpool)\n",
      "[W pthreadpool-cpp.cc:90] Warning: Leaking Caffe2 thread-pool after fork. (function pthreadpool)\n",
      "[W pthreadpool-cpp.cc:90] Warning: Leaking Caffe2 thread-pool after fork. (function pthreadpool)\n",
      "[W pthreadpool-cpp.cc:90] Warning: Leaking Caffe2 thread-pool after fork. (function pthreadpool)\n",
      "[W pthreadpool-cpp.cc:90] Warning: Leaking Caffe2 thread-pool after fork. (function pthreadpool)\n",
      "[W pthreadpool-cpp.cc:90] Warning: Leaking Caffe2 thread-pool after fork. (function pthreadpool)\n",
      "[W pthreadpool-cpp.cc:90] Warning: Leaking Caffe2 thread-pool after fork. (function pthreadpool)\n",
      "[W pthreadpool-cpp.cc:90] Warning: Leaking Caffe2 thread-pool after fork. (function pthreadpool)\n",
      "[W pthreadpool-cpp.cc:90] Warning: Leaking Caffe2 thread-pool after fork. (function pthreadpool)\n"
     ]
    },
    {
     "data": {
      "application/vnd.jupyter.widget-view+json": {
       "model_id": "",
       "version_major": 2,
       "version_minor": 0
      },
      "text/plain": [
       "Validating: 0it [00:00, ?it/s]"
      ]
     },
     "metadata": {},
     "output_type": "display_data"
    },
    {
     "name": "stderr",
     "output_type": "stream",
     "text": [
      "[W pthreadpool-cpp.cc:90] Warning: Leaking Caffe2 thread-pool after fork. (function pthreadpool)\n",
      "[W pthreadpool-cpp.cc:90] Warning: Leaking Caffe2 thread-pool after fork. (function pthreadpool)\n",
      "[W pthreadpool-cpp.cc:90] Warning: Leaking Caffe2 thread-pool after fork. (function pthreadpool)\n",
      "[W pthreadpool-cpp.cc:90] Warning: Leaking Caffe2 thread-pool after fork. (function pthreadpool)\n",
      "[W pthreadpool-cpp.cc:90] Warning: Leaking Caffe2 thread-pool after fork. (function pthreadpool)\n",
      "[W pthreadpool-cpp.cc:90] Warning: Leaking Caffe2 thread-pool after fork. (function pthreadpool)\n",
      "[W pthreadpool-cpp.cc:90] Warning: Leaking Caffe2 thread-pool after fork. (function pthreadpool)\n",
      "[W pthreadpool-cpp.cc:90] Warning: Leaking Caffe2 thread-pool after fork. (function pthreadpool)\n",
      "[W pthreadpool-cpp.cc:90] Warning: Leaking Caffe2 thread-pool after fork. (function pthreadpool)\n",
      "[W pthreadpool-cpp.cc:90] Warning: Leaking Caffe2 thread-pool after fork. (function pthreadpool)\n",
      "[W pthreadpool-cpp.cc:90] Warning: Leaking Caffe2 thread-pool after fork. (function pthreadpool)\n",
      "[W pthreadpool-cpp.cc:90] Warning: Leaking Caffe2 thread-pool after fork. (function pthreadpool)\n",
      "[W pthreadpool-cpp.cc:90] Warning: Leaking Caffe2 thread-pool after fork. (function pthreadpool)\n",
      "[W pthreadpool-cpp.cc:90] Warning: Leaking Caffe2 thread-pool after fork. (function pthreadpool)\n",
      "[W pthreadpool-cpp.cc:90] Warning: Leaking Caffe2 thread-pool after fork. (function pthreadpool)\n",
      "[W pthreadpool-cpp.cc:90] Warning: Leaking Caffe2 thread-pool after fork. (function pthreadpool)\n",
      "[W pthreadpool-cpp.cc:90] Warning: Leaking Caffe2 thread-pool after fork. (function pthreadpool)\n",
      "[W pthreadpool-cpp.cc:90] Warning: Leaking Caffe2 thread-pool after fork. (function pthreadpool)\n",
      "[W pthreadpool-cpp.cc:90] Warning: Leaking Caffe2 thread-pool after fork. (function pthreadpool)\n",
      "[W pthreadpool-cpp.cc:90] Warning: Leaking Caffe2 thread-pool after fork. (function pthreadpool)\n",
      "[W pthreadpool-cpp.cc:90] Warning: Leaking Caffe2 thread-pool after fork. (function pthreadpool)\n",
      "[W pthreadpool-cpp.cc:90] Warning: Leaking Caffe2 thread-pool after fork. (function pthreadpool)\n"
     ]
    },
    {
     "data": {
      "application/vnd.jupyter.widget-view+json": {
       "model_id": "",
       "version_major": 2,
       "version_minor": 0
      },
      "text/plain": [
       "Validating: 0it [00:00, ?it/s]"
      ]
     },
     "metadata": {},
     "output_type": "display_data"
    },
    {
     "name": "stderr",
     "output_type": "stream",
     "text": [
      "[W pthreadpool-cpp.cc:90] Warning: Leaking Caffe2 thread-pool after fork. (function pthreadpool)\n",
      "[W pthreadpool-cpp.cc:90] Warning: Leaking Caffe2 thread-pool after fork. (function pthreadpool)\n",
      "[W pthreadpool-cpp.cc:90] Warning: Leaking Caffe2 thread-pool after fork. (function pthreadpool)\n",
      "[W pthreadpool-cpp.cc:90] Warning: Leaking Caffe2 thread-pool after fork. (function pthreadpool)\n",
      "[W pthreadpool-cpp.cc:90] Warning: Leaking Caffe2 thread-pool after fork. (function pthreadpool)\n",
      "[W pthreadpool-cpp.cc:90] Warning: Leaking Caffe2 thread-pool after fork. (function pthreadpool)\n",
      "[W pthreadpool-cpp.cc:90] Warning: Leaking Caffe2 thread-pool after fork. (function pthreadpool)\n",
      "[W pthreadpool-cpp.cc:90] Warning: Leaking Caffe2 thread-pool after fork. (function pthreadpool)\n",
      "[W pthreadpool-cpp.cc:90] Warning: Leaking Caffe2 thread-pool after fork. (function pthreadpool)\n",
      "[W pthreadpool-cpp.cc:90] Warning: Leaking Caffe2 thread-pool after fork. (function pthreadpool)\n",
      "[W pthreadpool-cpp.cc:90] Warning: Leaking Caffe2 thread-pool after fork. (function pthreadpool)\n",
      "[W pthreadpool-cpp.cc:90] Warning: Leaking Caffe2 thread-pool after fork. (function pthreadpool)\n",
      "[W pthreadpool-cpp.cc:90] Warning: Leaking Caffe2 thread-pool after fork. (function pthreadpool)\n",
      "[W pthreadpool-cpp.cc:90] Warning: Leaking Caffe2 thread-pool after fork. (function pthreadpool)\n",
      "[W pthreadpool-cpp.cc:90] Warning: Leaking Caffe2 thread-pool after fork. (function pthreadpool)\n",
      "[W pthreadpool-cpp.cc:90] Warning: Leaking Caffe2 thread-pool after fork. (function pthreadpool)\n",
      "[W pthreadpool-cpp.cc:90] Warning: Leaking Caffe2 thread-pool after fork. (function pthreadpool)\n",
      "[W pthreadpool-cpp.cc:90] Warning: Leaking Caffe2 thread-pool after fork. (function pthreadpool)\n",
      "[W pthreadpool-cpp.cc:90] Warning: Leaking Caffe2 thread-pool after fork. (function pthreadpool)\n",
      "[W pthreadpool-cpp.cc:90] Warning: Leaking Caffe2 thread-pool after fork. (function pthreadpool)\n"
     ]
    },
    {
     "data": {
      "application/vnd.jupyter.widget-view+json": {
       "model_id": "",
       "version_major": 2,
       "version_minor": 0
      },
      "text/plain": [
       "Validating: 0it [00:00, ?it/s]"
      ]
     },
     "metadata": {},
     "output_type": "display_data"
    },
    {
     "name": "stderr",
     "output_type": "stream",
     "text": [
      "[W pthreadpool-cpp.cc:90] Warning: Leaking Caffe2 thread-pool after fork. (function pthreadpool)\n",
      "[W pthreadpool-cpp.cc:90] Warning: Leaking Caffe2 thread-pool after fork. (function pthreadpool)\n",
      "[W pthreadpool-cpp.cc:90] Warning: Leaking Caffe2 thread-pool after fork. (function pthreadpool)\n",
      "[W pthreadpool-cpp.cc:90] Warning: Leaking Caffe2 thread-pool after fork. (function pthreadpool)\n",
      "[W pthreadpool-cpp.cc:90] Warning: Leaking Caffe2 thread-pool after fork. (function pthreadpool)\n",
      "[W pthreadpool-cpp.cc:90] Warning: Leaking Caffe2 thread-pool after fork. (function pthreadpool)\n",
      "[W pthreadpool-cpp.cc:90] Warning: Leaking Caffe2 thread-pool after fork. (function pthreadpool)\n",
      "[W pthreadpool-cpp.cc:90] Warning: Leaking Caffe2 thread-pool after fork. (function pthreadpool)\n",
      "[W pthreadpool-cpp.cc:90] Warning: Leaking Caffe2 thread-pool after fork. (function pthreadpool)\n",
      "[W pthreadpool-cpp.cc:90] Warning: Leaking Caffe2 thread-pool after fork. (function pthreadpool)\n",
      "[W pthreadpool-cpp.cc:90] Warning: Leaking Caffe2 thread-pool after fork. (function pthreadpool)\n",
      "[W pthreadpool-cpp.cc:90] Warning: Leaking Caffe2 thread-pool after fork. (function pthreadpool)\n",
      "[W pthreadpool-cpp.cc:90] Warning: Leaking Caffe2 thread-pool after fork. (function pthreadpool)\n",
      "[W pthreadpool-cpp.cc:90] Warning: Leaking Caffe2 thread-pool after fork. (function pthreadpool)\n",
      "[W pthreadpool-cpp.cc:90] Warning: Leaking Caffe2 thread-pool after fork. (function pthreadpool)\n",
      "[W pthreadpool-cpp.cc:90] Warning: Leaking Caffe2 thread-pool after fork. (function pthreadpool)\n",
      "[W pthreadpool-cpp.cc:90] Warning: Leaking Caffe2 thread-pool after fork. (function pthreadpool)\n",
      "[W pthreadpool-cpp.cc:90] Warning: Leaking Caffe2 thread-pool after fork. (function pthreadpool)\n",
      "[W pthreadpool-cpp.cc:90] Warning: Leaking Caffe2 thread-pool after fork. (function pthreadpool)\n",
      "[W pthreadpool-cpp.cc:90] Warning: Leaking Caffe2 thread-pool after fork. (function pthreadpool)\n",
      "[W pthreadpool-cpp.cc:90] Warning: Leaking Caffe2 thread-pool after fork. (function pthreadpool)\n"
     ]
    },
    {
     "data": {
      "application/vnd.jupyter.widget-view+json": {
       "model_id": "",
       "version_major": 2,
       "version_minor": 0
      },
      "text/plain": [
       "Validating: 0it [00:00, ?it/s]"
      ]
     },
     "metadata": {},
     "output_type": "display_data"
    },
    {
     "name": "stderr",
     "output_type": "stream",
     "text": [
      "[W pthreadpool-cpp.cc:90] Warning: Leaking Caffe2 thread-pool after fork. (function pthreadpool)\n",
      "[W pthreadpool-cpp.cc:90] Warning: Leaking Caffe2 thread-pool after fork. (function pthreadpool)\n",
      "[W pthreadpool-cpp.cc:90] Warning: Leaking Caffe2 thread-pool after fork. (function pthreadpool)\n",
      "[W pthreadpool-cpp.cc:90] Warning: Leaking Caffe2 thread-pool after fork. (function pthreadpool)\n",
      "[W pthreadpool-cpp.cc:90] Warning: Leaking Caffe2 thread-pool after fork. (function pthreadpool)\n",
      "[W pthreadpool-cpp.cc:90] Warning: Leaking Caffe2 thread-pool after fork. (function pthreadpool)\n",
      "[W pthreadpool-cpp.cc:90] Warning: Leaking Caffe2 thread-pool after fork. (function pthreadpool)\n",
      "[W pthreadpool-cpp.cc:90] Warning: Leaking Caffe2 thread-pool after fork. (function pthreadpool)\n",
      "[W pthreadpool-cpp.cc:90] Warning: Leaking Caffe2 thread-pool after fork. (function pthreadpool)\n",
      "[W pthreadpool-cpp.cc:90] Warning: Leaking Caffe2 thread-pool after fork. (function pthreadpool)\n"
     ]
    },
    {
     "data": {
      "text/plain": [
       "<nuplan.planning.training.experiments.training.TrainingEngine object at 0x7fb3e90d8d90>"
      ]
     },
     "execution_count": 6,
     "metadata": {},
     "output_type": "execute_result"
    }
   ],
   "source": [
    "from nuplan.planning.script.run_training import main as main_train\n",
    "\n",
    "# Run the training loop, optionally inspect training artifacts through tensorboard (above cell)\n",
    "main_train(cfg)"
   ]
  },
  {
   "cell_type": "markdown",
   "id": "cd570621",
   "metadata": {},
   "source": [
    "## Launch training (command line - alternative)"
   ]
  },
  {
   "cell_type": "markdown",
   "id": "d6ad67e5",
   "metadata": {},
   "source": [
    "A training experiment with the above same parameters can be launched alternatively with:\n",
    "```\n",
    "$ python nuplan/planning/script/run_training.py \\\n",
    "    experiment_name=raster_experiment \\\n",
    "    py_func=train \\\n",
    "    +training=training_raster_model \\\n",
    "    scenario_builder=nuplan_mini \\\n",
    "    scenario_filter.limit_total_scenarios=500 \\\n",
    "    lightning.trainer.params.max_epochs=10 \\\n",
    "    data_loader.params.batch_size=8 \\\n",
    "    data_loader.params.num_workers=8\n",
    "```"
   ]
  },
  {
   "cell_type": "markdown",
   "id": "184dc002",
   "metadata": {},
   "source": [
    "# Simulating a planner <a name=\"simulation\"></a>"
   ]
  },
  {
   "cell_type": "markdown",
   "id": "49758620",
   "metadata": {},
   "source": [
    "## Open-loop simulation\n",
    "Open-loop simulation aims to evaluate the policy's capabilities to imitate the expert driver's behavior.<br />\n",
    "This is essentially done through log replay as the policy's predictions do not affect the state of the simulation.\n",
    "\n",
    "As the policy is not in full control of the vehicle, this type of simulation can only provide a high-level performance overview.\n",
    "\n",
    "## Closed-loop simulation\n",
    "Conversely, in closed-loop simulation the policy's actions alter the state of the simulation which tries to closely approximate the real-world system.\n",
    "\n",
    "The simulation's feedback loop enables a more in-depth evaluation of the policy as compounding errors can cause future observations to significantly diverge from the ground truth.<br />\n",
    "This is important in measuring distribution shifts introduced due to lack of variance in training examples through pure imitation learning.\n",
    "\n",
    "Closed-loop simulation is further divided into two categories:\n",
    "* ego closed-loop simulation with agents replayed from log (open-loop, non reactive)\n",
    "* ego closed-loop simulation with agents controlled by a rule-based or learned policy (closed-loop, reactive)\n",
    "\n",
    "## Measuring success\n",
    "Measuring the success of a planning task and comparing various planning policies is a complicated effort that involves defining metrics across different vertical dimensions and scenario categories.<br />\n",
    "These metrics include indicators such as vehicle dynamics, traffic rule violations, expert imitation, navigation success etc.<br />\n",
    "Overall, they aim to capture the policy's ability to control the autonomous vehicle safely yet efficiently without compromising the passenger's comfort."
   ]
  },
  {
   "cell_type": "markdown",
   "id": "04359006",
   "metadata": {},
   "source": [
    "## Simulation parameters"
   ]
  },
  {
   "cell_type": "markdown",
   "id": "ebef8382",
   "metadata": {},
   "source": [
    "### Planners\n",
    "\n",
    "Change the planner model with `planner=X` where `X` is a config yaml defined in the table below. \n",
    "\n",
    "| Planner | Description | Config |\n",
    "| --- | --- | --- |\n",
    "| Simple Planner | Naive planner that only plans a straight path | `simple_planner` |\n",
    "| ML Planner | Learning-based planner trained using the nuPlan training framework (see previous section) | `ml_planner` |"
   ]
  },
  {
   "cell_type": "markdown",
   "id": "db903632",
   "metadata": {},
   "source": [
    "## Prepare the simulation config"
   ]
  },
  {
   "cell_type": "code",
   "execution_count": 7,
   "id": "112d1965",
   "metadata": {},
   "outputs": [],
   "source": [
    "# Location of path with all simulation configs\n",
    "CONFIG_PATH = '../nuplan/planning/script/config/simulation'\n",
    "CONFIG_NAME = 'default_simulation'\n",
    "\n",
    "# Select the planner and simulation challenge\n",
    "PLANNER = 'simple_planner'  # [simple_planner, ml_planner]\n",
    "CHALLENGE = 'open_loop_boxes'  # [open_loop_boxes, closed_loop_nonreactive_agents, closed_loop_reactive_agents]\n",
    "DATASET_PARAMS = [\n",
    "    'scenario_builder=nuplan_mini',  # use nuplan mini database\n",
    "    'scenario_filter=all_scenarios',  # initially select all scenarios in the database\n",
    "    'scenario_filter.scenario_types=[near_multiple_vehicles, on_pickup_dropoff, starting_unprotected_cross_turn, high_magnitude_jerk]',  # select scenario types\n",
    "    'scenario_filter.num_scenarios_per_type=10',  # use 10 scenarios per scenario type\n",
    "]\n",
    "\n",
    "# Name of the experiment\n",
    "EXPERIMENT = 'simulation_simple_experiment'\n",
    "\n",
    "# Initialize configuration management system\n",
    "hydra.core.global_hydra.GlobalHydra.instance().clear()  # reinitialize hydra if already initialized\n",
    "hydra.initialize(config_path=CONFIG_PATH)\n",
    "\n",
    "# Compose the configuration\n",
    "cfg = hydra.compose(config_name=CONFIG_NAME, overrides=[\n",
    "    f'experiment_name={EXPERIMENT}',\n",
    "    f'group={SAVE_DIR}',\n",
    "    f'planner={PLANNER}',\n",
    "    f'+simulation={CHALLENGE}',\n",
    "    *DATASET_PARAMS,\n",
    "])"
   ]
  },
  {
   "cell_type": "markdown",
   "id": "12e79a0a",
   "metadata": {},
   "source": [
    "## Launch simulation (within the notebook)"
   ]
  },
  {
   "cell_type": "code",
   "execution_count": 8,
   "id": "ba7aab5b",
   "metadata": {},
   "outputs": [
    {
     "name": "stderr",
     "output_type": "stream",
     "text": [
      "Global seed set to 0\n"
     ]
    },
    {
     "name": "stdout",
     "output_type": "stream",
     "text": [
      "2023-04-25 17:30:35,403 INFO {/home/pat.karnchanachari/nuplan-devkit/nuplan/planning/script/builders/main_callback_builder.py:20}  Building MultiMainCallback...\n",
      "2023-04-25 17:30:35,492 INFO {/home/pat.karnchanachari/nuplan-devkit/nuplan/planning/script/builders/main_callback_builder.py:35}  Building MultiMainCallback: 4...DONE!\n",
      "2023-04-25 17:30:35,655 INFO {/home/pat.karnchanachari/nuplan-devkit/nuplan/planning/script/builders/worker_pool_builder.py:19}  Building WorkerPool...\n",
      "2023-04-25 17:30:35,656 WARNING {/home/pat.karnchanachari/nuplan-devkit/nuplan/planning/utils/multithreading/worker_ray.py:135}  Ray is running, we will shut it down before starting again!\n",
      "2023-04-25 17:30:37,990 INFO {/home/pat.karnchanachari/nuplan-devkit/nuplan/planning/utils/multithreading/worker_ray.py:78}  Starting ray local!\n"
     ]
    },
    {
     "name": "stderr",
     "output_type": "stream",
     "text": [
      "2023-04-25 17:30:40,069\tINFO worker.py:1553 -- Started a local Ray instance.\n"
     ]
    },
    {
     "name": "stdout",
     "output_type": "stream",
     "text": [
      "2023-04-25 17:30:40,776 INFO {/home/pat.karnchanachari/nuplan-devkit/nuplan/planning/utils/multithreading/worker_pool.py:101}  Worker: RayDistributed\n",
      "2023-04-25 17:30:40,777 INFO {/home/pat.karnchanachari/nuplan-devkit/nuplan/planning/utils/multithreading/worker_pool.py:102}  Number of nodes: 1\n",
      "Number of CPUs per node: 32\n",
      "Number of GPUs per node: 1\n",
      "Number of threads across all nodes: 32\n",
      "2023-04-25 17:30:40,777 INFO {/home/pat.karnchanachari/nuplan-devkit/nuplan/planning/script/builders/worker_pool_builder.py:27}  Building WorkerPool...DONE!\n",
      "2023-04-25 17:30:40,777 INFO {/home/pat.karnchanachari/nuplan-devkit/nuplan/planning/script/builders/folder_builder.py:32}  Building experiment folders...\n",
      "2023-04-25 17:30:40,777 INFO {/home/pat.karnchanachari/nuplan-devkit/nuplan/planning/script/builders/folder_builder.py:35}  \n",
      "\n",
      "\tFolder where all results are stored: /tmp/tutorial_nuplan_framework/simulation_simple_experiment/open_loop_boxes/2023.04.25.17.30.35\n",
      "\n",
      "2023-04-25 17:30:40,779 INFO {/home/pat.karnchanachari/nuplan-devkit/nuplan/planning/script/builders/folder_builder.py:70}  Building experiment folders...DONE!\n",
      "2023-04-25 17:30:40,780 INFO {/home/pat.karnchanachari/nuplan-devkit/nuplan/planning/script/builders/simulation_callback_builder.py:52}  Building AbstractCallback...\n",
      "2023-04-25 17:30:40,780 INFO {/home/pat.karnchanachari/nuplan-devkit/nuplan/planning/script/builders/simulation_callback_builder.py:68}  Building AbstractCallback: 0...DONE!\n",
      "2023-04-25 17:30:40,780 INFO {/home/pat.karnchanachari/nuplan-devkit/nuplan/planning/script/builders/simulation_builder.py:47}  Building simulations...\n",
      "2023-04-25 17:30:40,780 INFO {/home/pat.karnchanachari/nuplan-devkit/nuplan/planning/script/builders/simulation_builder.py:53}  Extracting scenarios...\n",
      "2023-04-25 17:30:40,781 INFO {/home/pat.karnchanachari/nuplan-devkit/nuplan/common/utils/distributed_scenario_filter.py:83}  Building Scenarios in mode DistributedMode.SINGLE_NODE\n",
      "2023-04-25 17:30:40,781 INFO {/home/pat.karnchanachari/nuplan-devkit/nuplan/planning/script/builders/scenario_building_builder.py:18}  Building AbstractScenarioBuilder...\n",
      "2023-04-25 17:30:40,798 INFO {/home/pat.karnchanachari/nuplan-devkit/nuplan/planning/script/builders/scenario_building_builder.py:21}  Building AbstractScenarioBuilder...DONE!\n",
      "2023-04-25 17:30:40,799 INFO {/home/pat.karnchanachari/nuplan-devkit/nuplan/planning/script/builders/scenario_filter_builder.py:35}  Building ScenarioFilter...\n",
      "2023-04-25 17:30:40,800 INFO {/home/pat.karnchanachari/nuplan-devkit/nuplan/planning/script/builders/scenario_filter_builder.py:44}  Building ScenarioFilter...DONE!\n"
     ]
    },
    {
     "name": "stderr",
     "output_type": "stream",
     "text": [
      "Ray objects: 100%|████████████████████████████████████████████████████████████████████| 32/32 [00:02<00:00, 15.48it/s]\n"
     ]
    },
    {
     "name": "stdout",
     "output_type": "stream",
     "text": [
      "2023-04-25 17:30:42,909 INFO {/home/pat.karnchanachari/nuplan-devkit/nuplan/planning/script/builders/simulation_builder.py:74}  Building metric engines...\n",
      "2023-04-25 17:30:42,942 INFO {/home/pat.karnchanachari/nuplan-devkit/nuplan/planning/script/builders/simulation_builder.py:76}  Building metric engines...DONE\n",
      "2023-04-25 17:30:42,942 INFO {/home/pat.karnchanachari/nuplan-devkit/nuplan/planning/script/builders/simulation_builder.py:80}  Building simulations from 31 scenarios...\n",
      "2023-04-25 17:30:48,221 INFO {/home/pat.karnchanachari/nuplan-devkit/nuplan/planning/script/builders/simulation_builder.py:133}  Building simulations...DONE!\n",
      "2023-04-25 17:30:48,221 INFO {/home/pat.karnchanachari/nuplan-devkit/nuplan/planning/script/run_simulation.py:78}  Running simulation...\n",
      "2023-04-25 17:30:48,221 INFO {/home/pat.karnchanachari/nuplan-devkit/nuplan/planning/script/utils.py:138}  Executing runners...\n",
      "2023-04-25 17:30:48,221 INFO {/home/pat.karnchanachari/nuplan-devkit/nuplan/planning/simulation/runner/executor.py:82}  Starting 31 simulations using RayDistributed!\n"
     ]
    },
    {
     "name": "stderr",
     "output_type": "stream",
     "text": [
      "Ray objects: 100%|████████████████████████████████████████████████████████████████████| 31/31 [00:13<00:00,  2.22it/s]\n"
     ]
    },
    {
     "name": "stdout",
     "output_type": "stream",
     "text": [
      "2023-04-25 17:31:02,230 INFO {/home/pat.karnchanachari/nuplan-devkit/nuplan/planning/simulation/runner/executor.py:127}  Number of successful simulations: 31\n",
      "2023-04-25 17:31:02,231 INFO {/home/pat.karnchanachari/nuplan-devkit/nuplan/planning/simulation/runner/executor.py:128}  Number of failed simulations: 0\n",
      "2023-04-25 17:31:02,231 INFO {/home/pat.karnchanachari/nuplan-devkit/nuplan/planning/script/utils.py:147}  Finished executing runners!\n",
      "2023-04-25 17:31:02,244 INFO {/home/pat.karnchanachari/nuplan-devkit/nuplan/planning/script/utils.py:74}  Saved runner reports to /tmp/tutorial_nuplan_framework/simulation_simple_experiment/open_loop_boxes/2023.04.25.17.30.35/runner_report.parquet\n",
      "2023-04-25 17:31:02,244 INFO {/home/pat.karnchanachari/nuplan-devkit/nuplan/planning/simulation/main_callback/time_callback.py:27}  Simulation duration: 00:00:26 [HH:MM:SS]\n",
      "2023-04-25 17:31:02,551 INFO {/home/pat.karnchanachari/nuplan-devkit/nuplan/planning/simulation/main_callback/metric_file_callback.py:79}  Metric files integration: 00:00:00 [HH:MM:SS]\n",
      "2023-04-25 17:31:02,580 INFO {/home/pat.karnchanachari/nuplan-devkit/nuplan/planning/simulation/main_callback/metric_aggregator_callback.py:58}  Running metric aggregator: open_loop_boxes_weighted_average\n",
      "2023-04-25 17:31:02,598 INFO {/home/pat.karnchanachari/nuplan-devkit/nuplan/planning/simulation/main_callback/metric_aggregator_callback.py:69}  Metric aggregator: 00:00:00 [HH:MM:SS]\n"
     ]
    },
    {
     "name": "stderr",
     "output_type": "stream",
     "text": [
      "Rendering histograms: 100%|█████████████████████████████████████████████████████████████| 6/6 [00:01<00:00,  4.68it/s]\n"
     ]
    },
    {
     "name": "stdout",
     "output_type": "stream",
     "text": [
      "2023-04-25 17:31:04,684 INFO {/home/pat.karnchanachari/nuplan-devkit/nuplan/planning/simulation/main_callback/metric_summary_callback.py:344}  Metric summary: 00:00:02 [HH:MM:SS]\n",
      "2023-04-25 17:31:04,684 INFO {/home/pat.karnchanachari/nuplan-devkit/nuplan/planning/script/run_simulation.py:80}  Finished running simulation!\n"
     ]
    },
    {
     "data": {
      "image/png": "[encoded data removed]",
      "text/plain": [
       "<Figure size 600x600 with 6 Axes>"
      ]
     },
     "metadata": {},
     "output_type": "display_data"
    },
    {
     "data": {
      "image/png": "[encoded data removed]",
      "text/plain": [
       "<Figure size 600x600 with 6 Axes>"
      ]
     },
     "metadata": {},
     "output_type": "display_data"
    },
    {
     "data": {
      "image/png": "[encoded data removed]",
      "text/plain": [
       "<Figure size 600x600 with 6 Axes>"
      ]
     },
     "metadata": {},
     "output_type": "display_data"
    },
    {
     "data": {
      "image/png": "[encoded data removed]",
      "text/plain": [
       "<Figure size 600x600 with 6 Axes>"
      ]
     },
     "metadata": {},
     "output_type": "display_data"
    },
    {
     "data": {
      "image/png": "[encoded data removed]",
      "text/plain": [
       "<Figure size 600x600 with 4 Axes>"
      ]
     },
     "metadata": {},
     "output_type": "display_data"
    }
   ],
   "source": [
    "from nuplan.planning.script.run_simulation import main as main_simulation\n",
    "\n",
    "# Run the simulation loop (real-time visualization not yet supported, see next section for visualization)\n",
    "main_simulation(cfg)\n",
    "\n",
    "# Simple simulation folder for visualization in nuBoard\n",
    "simple_simulation_folder = cfg.output_dir"
   ]
  },
  {
   "cell_type": "markdown",
   "id": "8b6c1fb9",
   "metadata": {},
   "source": [
    "## Launch simulation (command line - alternative)"
   ]
  },
  {
   "cell_type": "markdown",
   "id": "cc9b23af",
   "metadata": {},
   "source": [
    "A simulation experiment can be launched alternatively with:\n",
    "```\n",
    "$ python nuplan/planning/script/run_simulation.py \\\n",
    "    +simulation=open_loop_boxes \\\n",
    "    planner=simple_planner \\\n",
    "    scenario_builder=nuplan_mini \\\n",
    "    scenario_filter=all_scenarios \\\n",
    "    scenario_filter.scenario_types=\"[near_multiple_vehicles, on_pickup_dropoff, starting_unprotected_cross_turn, high_magnitude_jerk]\" \\\n",
    "    scenario_filter.num_scenarios_per_type=10 \\\n",
    "```"
   ]
  },
  {
   "cell_type": "markdown",
   "id": "557a181f",
   "metadata": {},
   "source": [
    "## Simulate a trained ML planner for comparison\n",
    "\n",
    "Using the same simulation settings as before, we can simulate a pretrained ML planner and compare the two.\n",
    "\n",
    "In this example you can take the model you trained earlier."
   ]
  },
  {
   "cell_type": "code",
   "execution_count": null,
   "id": "ba4dc68c",
   "metadata": {
    "pycharm": {
     "name": "#%%\n"
    }
   },
   "outputs": [
    {
     "name": "stderr",
     "output_type": "stream",
     "text": [
      "Global seed set to 0\n"
     ]
    },
    {
     "name": "stdout",
     "output_type": "stream",
     "text": [
      "2023-04-25 17:31:09,399 INFO {/home/pat.karnchanachari/nuplan-devkit/nuplan/planning/script/builders/main_callback_builder.py:20}  Building MultiMainCallback...\n",
      "2023-04-25 17:31:09,416 INFO {/home/pat.karnchanachari/nuplan-devkit/nuplan/planning/script/builders/main_callback_builder.py:35}  Building MultiMainCallback: 4...DONE!\n",
      "2023-04-25 17:31:09,583 INFO {/home/pat.karnchanachari/nuplan-devkit/nuplan/planning/script/builders/worker_pool_builder.py:19}  Building WorkerPool...\n",
      "2023-04-25 17:31:09,583 INFO {/home/pat.karnchanachari/nuplan-devkit/nuplan/planning/script/builders/worker_pool_builder.py:19}  Building WorkerPool...\n",
      "2023-04-25 17:31:09,584 WARNING {/home/pat.karnchanachari/nuplan-devkit/nuplan/planning/utils/multithreading/worker_ray.py:135}  Ray is running, we will shut it down before starting again!\n",
      "2023-04-25 17:31:09,584 WARNING {/home/pat.karnchanachari/nuplan-devkit/nuplan/planning/utils/multithreading/worker_ray.py:135}  Ray is running, we will shut it down before starting again!\n",
      "2023-04-25 17:31:11,251 INFO {/home/pat.karnchanachari/nuplan-devkit/nuplan/planning/utils/multithreading/worker_ray.py:78}  Starting ray local!\n",
      "2023-04-25 17:31:11,251 INFO {/home/pat.karnchanachari/nuplan-devkit/nuplan/planning/utils/multithreading/worker_ray.py:78}  Starting ray local!\n"
     ]
    },
    {
     "name": "stderr",
     "output_type": "stream",
     "text": [
      "2023-04-25 17:31:13,248\tINFO worker.py:1553 -- Started a local Ray instance.\n"
     ]
    },
    {
     "name": "stdout",
     "output_type": "stream",
     "text": [
      "2023-04-25 17:31:13,995 INFO {/home/pat.karnchanachari/nuplan-devkit/nuplan/planning/utils/multithreading/worker_pool.py:101}  Worker: RayDistributed\n",
      "2023-04-25 17:31:13,995 INFO {/home/pat.karnchanachari/nuplan-devkit/nuplan/planning/utils/multithreading/worker_pool.py:101}  Worker: RayDistributed\n",
      "2023-04-25 17:31:13,996 INFO {/home/pat.karnchanachari/nuplan-devkit/nuplan/planning/utils/multithreading/worker_pool.py:102}  Number of nodes: 1\n",
      "Number of CPUs per node: 32\n",
      "Number of GPUs per node: 1\n",
      "Number of threads across all nodes: 32\n",
      "2023-04-25 17:31:13,996 INFO {/home/pat.karnchanachari/nuplan-devkit/nuplan/planning/utils/multithreading/worker_pool.py:102}  Number of nodes: 1\n",
      "Number of CPUs per node: 32\n",
      "Number of GPUs per node: 1\n",
      "Number of threads across all nodes: 32\n",
      "2023-04-25 17:31:13,996 INFO {/home/pat.karnchanachari/nuplan-devkit/nuplan/planning/script/builders/worker_pool_builder.py:27}  Building WorkerPool...DONE!\n",
      "2023-04-25 17:31:13,996 INFO {/home/pat.karnchanachari/nuplan-devkit/nuplan/planning/script/builders/worker_pool_builder.py:27}  Building WorkerPool...DONE!\n",
      "2023-04-25 17:31:13,996 INFO {/home/pat.karnchanachari/nuplan-devkit/nuplan/planning/script/builders/folder_builder.py:32}  Building experiment folders...\n",
      "2023-04-25 17:31:13,996 INFO {/home/pat.karnchanachari/nuplan-devkit/nuplan/planning/script/builders/folder_builder.py:32}  Building experiment folders...\n",
      "2023-04-25 17:31:13,997 INFO {/home/pat.karnchanachari/nuplan-devkit/nuplan/planning/script/builders/folder_builder.py:35}  \n",
      "\n",
      "\tFolder where all results are stored: /tmp/tutorial_nuplan_framework/simulation_raster_experiment/open_loop_boxes/2023.04.25.17.31.09\n",
      "\n",
      "2023-04-25 17:31:13,997 INFO {/home/pat.karnchanachari/nuplan-devkit/nuplan/planning/script/builders/folder_builder.py:35}  \n",
      "\n",
      "\tFolder where all results are stored: /tmp/tutorial_nuplan_framework/simulation_raster_experiment/open_loop_boxes/2023.04.25.17.31.09\n",
      "\n",
      "2023-04-25 17:31:13,999 INFO {/home/pat.karnchanachari/nuplan-devkit/nuplan/planning/script/builders/folder_builder.py:70}  Building experiment folders...DONE!\n",
      "2023-04-25 17:31:13,999 INFO {/home/pat.karnchanachari/nuplan-devkit/nuplan/planning/script/builders/folder_builder.py:70}  Building experiment folders...DONE!\n",
      "2023-04-25 17:31:13,999 INFO {/home/pat.karnchanachari/nuplan-devkit/nuplan/planning/script/builders/simulation_callback_builder.py:52}  Building AbstractCallback...\n",
      "2023-04-25 17:31:13,999 INFO {/home/pat.karnchanachari/nuplan-devkit/nuplan/planning/script/builders/simulation_callback_builder.py:52}  Building AbstractCallback...\n",
      "2023-04-25 17:31:13,999 INFO {/home/pat.karnchanachari/nuplan-devkit/nuplan/planning/script/builders/simulation_callback_builder.py:68}  Building AbstractCallback: 0...DONE!\n",
      "2023-04-25 17:31:13,999 INFO {/home/pat.karnchanachari/nuplan-devkit/nuplan/planning/script/builders/simulation_callback_builder.py:68}  Building AbstractCallback: 0...DONE!\n",
      "2023-04-25 17:31:14,000 INFO {/home/pat.karnchanachari/nuplan-devkit/nuplan/planning/script/builders/simulation_builder.py:47}  Building simulations...\n",
      "2023-04-25 17:31:14,000 INFO {/home/pat.karnchanachari/nuplan-devkit/nuplan/planning/script/builders/simulation_builder.py:47}  Building simulations...\n",
      "2023-04-25 17:31:14,000 INFO {/home/pat.karnchanachari/nuplan-devkit/nuplan/planning/script/builders/simulation_builder.py:53}  Extracting scenarios...\n",
      "2023-04-25 17:31:14,000 INFO {/home/pat.karnchanachari/nuplan-devkit/nuplan/planning/script/builders/simulation_builder.py:53}  Extracting scenarios...\n",
      "2023-04-25 17:31:14,000 INFO {/home/pat.karnchanachari/nuplan-devkit/nuplan/common/utils/distributed_scenario_filter.py:83}  Building Scenarios in mode DistributedMode.SINGLE_NODE\n",
      "2023-04-25 17:31:14,000 INFO {/home/pat.karnchanachari/nuplan-devkit/nuplan/common/utils/distributed_scenario_filter.py:83}  Building Scenarios in mode DistributedMode.SINGLE_NODE\n",
      "2023-04-25 17:31:14,000 INFO {/home/pat.karnchanachari/nuplan-devkit/nuplan/planning/script/builders/scenario_building_builder.py:18}  Building AbstractScenarioBuilder...\n",
      "2023-04-25 17:31:14,000 INFO {/home/pat.karnchanachari/nuplan-devkit/nuplan/planning/script/builders/scenario_building_builder.py:18}  Building AbstractScenarioBuilder...\n",
      "2023-04-25 17:31:14,014 INFO {/home/pat.karnchanachari/nuplan-devkit/nuplan/planning/script/builders/scenario_building_builder.py:21}  Building AbstractScenarioBuilder...DONE!\n",
      "2023-04-25 17:31:14,014 INFO {/home/pat.karnchanachari/nuplan-devkit/nuplan/planning/script/builders/scenario_building_builder.py:21}  Building AbstractScenarioBuilder...DONE!\n",
      "2023-04-25 17:31:14,014 INFO {/home/pat.karnchanachari/nuplan-devkit/nuplan/planning/script/builders/scenario_filter_builder.py:35}  Building ScenarioFilter...\n",
      "2023-04-25 17:31:14,014 INFO {/home/pat.karnchanachari/nuplan-devkit/nuplan/planning/script/builders/scenario_filter_builder.py:35}  Building ScenarioFilter...\n",
      "2023-04-25 17:31:14,015 INFO {/home/pat.karnchanachari/nuplan-devkit/nuplan/planning/script/builders/scenario_filter_builder.py:44}  Building ScenarioFilter...DONE!\n",
      "2023-04-25 17:31:14,015 INFO {/home/pat.karnchanachari/nuplan-devkit/nuplan/planning/script/builders/scenario_filter_builder.py:44}  Building ScenarioFilter...DONE!\n"
     ]
    },
    {
     "name": "stderr",
     "output_type": "stream",
     "text": [
      "Ray objects: 100%|████████████████████████████████████████████████████████████████████| 32/32 [00:02<00:00, 15.29it/s]\n"
     ]
    },
    {
     "name": "stdout",
     "output_type": "stream",
     "text": [
      "2023-04-25 17:31:16,146 INFO {/home/pat.karnchanachari/nuplan-devkit/nuplan/planning/script/builders/simulation_builder.py:74}  Building metric engines...\n",
      "2023-04-25 17:31:16,146 INFO {/home/pat.karnchanachari/nuplan-devkit/nuplan/planning/script/builders/simulation_builder.py:74}  Building metric engines...\n",
      "2023-04-25 17:31:16,171 INFO {/home/pat.karnchanachari/nuplan-devkit/nuplan/planning/script/builders/simulation_builder.py:76}  Building metric engines...DONE\n",
      "2023-04-25 17:31:16,171 INFO {/home/pat.karnchanachari/nuplan-devkit/nuplan/planning/script/builders/simulation_builder.py:76}  Building metric engines...DONE\n",
      "2023-04-25 17:31:16,171 INFO {/home/pat.karnchanachari/nuplan-devkit/nuplan/planning/script/builders/simulation_builder.py:80}  Building simulations from 31 scenarios...\n",
      "2023-04-25 17:31:16,171 INFO {/home/pat.karnchanachari/nuplan-devkit/nuplan/planning/script/builders/simulation_builder.py:80}  Building simulations from 31 scenarios...\n",
      "2023-04-25 17:31:16,173 INFO {/home/pat.karnchanachari/nuplan-devkit/nuplan/planning/script/builders/model_builder.py:18}  Building TorchModuleWrapper...\n",
      "2023-04-25 17:31:16,173 INFO {/home/pat.karnchanachari/nuplan-devkit/nuplan/planning/script/builders/model_builder.py:18}  Building TorchModuleWrapper...\n",
      "2023-04-25 17:31:16,383 INFO {/home/pat.karnchanachari/miniconda3/envs/nuplan/lib/python3.9/site-packages/timm/models/helpers.py:247}  Loading pretrained weights from url (https://github.com/rwightman/pytorch-image-models/releases/download/v0.1-rsb-weights/resnet50_a1_0-14fe96d1.pth)\n",
      "2023-04-25 17:31:16,383 INFO {/home/pat.karnchanachari/miniconda3/envs/nuplan/lib/python3.9/site-packages/timm/models/helpers.py:247}  Loading pretrained weights from url (https://github.com/rwightman/pytorch-image-models/releases/download/v0.1-rsb-weights/resnet50_a1_0-14fe96d1.pth)\n",
      "2023-04-25 17:31:16,417 INFO {/home/pat.karnchanachari/miniconda3/envs/nuplan/lib/python3.9/site-packages/timm/models/helpers.py:275}  Converted input conv conv1 pretrained weights from 3 to 4 channel(s)\n",
      "2023-04-25 17:31:16,417 INFO {/home/pat.karnchanachari/miniconda3/envs/nuplan/lib/python3.9/site-packages/timm/models/helpers.py:275}  Converted input conv conv1 pretrained weights from 3 to 4 channel(s)\n",
      "2023-04-25 17:31:16,438 INFO {/home/pat.karnchanachari/nuplan-devkit/nuplan/planning/script/builders/model_builder.py:21}  Building TorchModuleWrapper...DONE!\n",
      "2023-04-25 17:31:16,438 INFO {/home/pat.karnchanachari/nuplan-devkit/nuplan/planning/script/builders/model_builder.py:21}  Building TorchModuleWrapper...DONE!\n",
      "2023-04-25 17:31:16,811 INFO {/home/pat.karnchanachari/nuplan-devkit/nuplan/planning/script/builders/model_builder.py:18}  Building TorchModuleWrapper...\n",
      "2023-04-25 17:31:16,811 INFO {/home/pat.karnchanachari/nuplan-devkit/nuplan/planning/script/builders/model_builder.py:18}  Building TorchModuleWrapper...\n",
      "2023-04-25 17:31:17,007 INFO {/home/pat.karnchanachari/miniconda3/envs/nuplan/lib/python3.9/site-packages/timm/models/helpers.py:247}  Loading pretrained weights from url (https://github.com/rwightman/pytorch-image-models/releases/download/v0.1-rsb-weights/resnet50_a1_0-14fe96d1.pth)\n",
      "2023-04-25 17:31:17,007 INFO {/home/pat.karnchanachari/miniconda3/envs/nuplan/lib/python3.9/site-packages/timm/models/helpers.py:247}  Loading pretrained weights from url (https://github.com/rwightman/pytorch-image-models/releases/download/v0.1-rsb-weights/resnet50_a1_0-14fe96d1.pth)\n",
      "2023-04-25 17:31:17,026 INFO {/home/pat.karnchanachari/miniconda3/envs/nuplan/lib/python3.9/site-packages/timm/models/helpers.py:275}  Converted input conv conv1 pretrained weights from 3 to 4 channel(s)\n",
      "2023-04-25 17:31:17,026 INFO {/home/pat.karnchanachari/miniconda3/envs/nuplan/lib/python3.9/site-packages/timm/models/helpers.py:275}  Converted input conv conv1 pretrained weights from 3 to 4 channel(s)\n",
      "2023-04-25 17:31:17,043 INFO {/home/pat.karnchanachari/nuplan-devkit/nuplan/planning/script/builders/model_builder.py:21}  Building TorchModuleWrapper...DONE!\n",
      "2023-04-25 17:31:17,043 INFO {/home/pat.karnchanachari/nuplan-devkit/nuplan/planning/script/builders/model_builder.py:21}  Building TorchModuleWrapper...DONE!\n",
      "2023-04-25 17:31:17,216 INFO {/home/pat.karnchanachari/nuplan-devkit/nuplan/planning/script/builders/model_builder.py:18}  Building TorchModuleWrapper...\n",
      "2023-04-25 17:31:17,216 INFO {/home/pat.karnchanachari/nuplan-devkit/nuplan/planning/script/builders/model_builder.py:18}  Building TorchModuleWrapper...\n",
      "2023-04-25 17:31:17,407 INFO {/home/pat.karnchanachari/miniconda3/envs/nuplan/lib/python3.9/site-packages/timm/models/helpers.py:247}  Loading pretrained weights from url (https://github.com/rwightman/pytorch-image-models/releases/download/v0.1-rsb-weights/resnet50_a1_0-14fe96d1.pth)\n",
      "2023-04-25 17:31:17,407 INFO {/home/pat.karnchanachari/miniconda3/envs/nuplan/lib/python3.9/site-packages/timm/models/helpers.py:247}  Loading pretrained weights from url (https://github.com/rwightman/pytorch-image-models/releases/download/v0.1-rsb-weights/resnet50_a1_0-14fe96d1.pth)\n",
      "2023-04-25 17:31:17,428 INFO {/home/pat.karnchanachari/miniconda3/envs/nuplan/lib/python3.9/site-packages/timm/models/helpers.py:275}  Converted input conv conv1 pretrained weights from 3 to 4 channel(s)\n",
      "2023-04-25 17:31:17,428 INFO {/home/pat.karnchanachari/miniconda3/envs/nuplan/lib/python3.9/site-packages/timm/models/helpers.py:275}  Converted input conv conv1 pretrained weights from 3 to 4 channel(s)\n",
      "2023-04-25 17:31:17,445 INFO {/home/pat.karnchanachari/nuplan-devkit/nuplan/planning/script/builders/model_builder.py:21}  Building TorchModuleWrapper...DONE!\n",
      "2023-04-25 17:31:17,445 INFO {/home/pat.karnchanachari/nuplan-devkit/nuplan/planning/script/builders/model_builder.py:21}  Building TorchModuleWrapper...DONE!\n",
      "2023-04-25 17:31:17,855 INFO {/home/pat.karnchanachari/nuplan-devkit/nuplan/planning/script/builders/model_builder.py:18}  Building TorchModuleWrapper...\n",
      "2023-04-25 17:31:17,855 INFO {/home/pat.karnchanachari/nuplan-devkit/nuplan/planning/script/builders/model_builder.py:18}  Building TorchModuleWrapper...\n",
      "2023-04-25 17:31:18,045 INFO {/home/pat.karnchanachari/miniconda3/envs/nuplan/lib/python3.9/site-packages/timm/models/helpers.py:247}  Loading pretrained weights from url (https://github.com/rwightman/pytorch-image-models/releases/download/v0.1-rsb-weights/resnet50_a1_0-14fe96d1.pth)\n",
      "2023-04-25 17:31:18,045 INFO {/home/pat.karnchanachari/miniconda3/envs/nuplan/lib/python3.9/site-packages/timm/models/helpers.py:247}  Loading pretrained weights from url (https://github.com/rwightman/pytorch-image-models/releases/download/v0.1-rsb-weights/resnet50_a1_0-14fe96d1.pth)\n",
      "2023-04-25 17:31:18,063 INFO {/home/pat.karnchanachari/miniconda3/envs/nuplan/lib/python3.9/site-packages/timm/models/helpers.py:275}  Converted input conv conv1 pretrained weights from 3 to 4 channel(s)\n",
      "2023-04-25 17:31:18,063 INFO {/home/pat.karnchanachari/miniconda3/envs/nuplan/lib/python3.9/site-packages/timm/models/helpers.py:275}  Converted input conv conv1 pretrained weights from 3 to 4 channel(s)\n",
      "2023-04-25 17:31:18,080 INFO {/home/pat.karnchanachari/nuplan-devkit/nuplan/planning/script/builders/model_builder.py:21}  Building TorchModuleWrapper...DONE!\n",
      "2023-04-25 17:31:18,080 INFO {/home/pat.karnchanachari/nuplan-devkit/nuplan/planning/script/builders/model_builder.py:21}  Building TorchModuleWrapper...DONE!\n",
      "2023-04-25 17:31:18,450 INFO {/home/pat.karnchanachari/nuplan-devkit/nuplan/planning/script/builders/model_builder.py:18}  Building TorchModuleWrapper...\n",
      "2023-04-25 17:31:18,450 INFO {/home/pat.karnchanachari/nuplan-devkit/nuplan/planning/script/builders/model_builder.py:18}  Building TorchModuleWrapper...\n",
      "2023-04-25 17:31:18,641 INFO {/home/pat.karnchanachari/miniconda3/envs/nuplan/lib/python3.9/site-packages/timm/models/helpers.py:247}  Loading pretrained weights from url (https://github.com/rwightman/pytorch-image-models/releases/download/v0.1-rsb-weights/resnet50_a1_0-14fe96d1.pth)\n",
      "2023-04-25 17:31:18,641 INFO {/home/pat.karnchanachari/miniconda3/envs/nuplan/lib/python3.9/site-packages/timm/models/helpers.py:247}  Loading pretrained weights from url (https://github.com/rwightman/pytorch-image-models/releases/download/v0.1-rsb-weights/resnet50_a1_0-14fe96d1.pth)\n"
     ]
    },
    {
     "name": "stdout",
     "output_type": "stream",
     "text": [
      "2023-04-25 17:31:18,663 INFO {/home/pat.karnchanachari/miniconda3/envs/nuplan/lib/python3.9/site-packages/timm/models/helpers.py:275}  Converted input conv conv1 pretrained weights from 3 to 4 channel(s)\n",
      "2023-04-25 17:31:18,663 INFO {/home/pat.karnchanachari/miniconda3/envs/nuplan/lib/python3.9/site-packages/timm/models/helpers.py:275}  Converted input conv conv1 pretrained weights from 3 to 4 channel(s)\n",
      "2023-04-25 17:31:18,680 INFO {/home/pat.karnchanachari/nuplan-devkit/nuplan/planning/script/builders/model_builder.py:21}  Building TorchModuleWrapper...DONE!\n",
      "2023-04-25 17:31:18,680 INFO {/home/pat.karnchanachari/nuplan-devkit/nuplan/planning/script/builders/model_builder.py:21}  Building TorchModuleWrapper...DONE!\n",
      "2023-04-25 17:31:18,854 INFO {/home/pat.karnchanachari/nuplan-devkit/nuplan/planning/script/builders/model_builder.py:18}  Building TorchModuleWrapper...\n",
      "2023-04-25 17:31:18,854 INFO {/home/pat.karnchanachari/nuplan-devkit/nuplan/planning/script/builders/model_builder.py:18}  Building TorchModuleWrapper...\n",
      "2023-04-25 17:31:19,046 INFO {/home/pat.karnchanachari/miniconda3/envs/nuplan/lib/python3.9/site-packages/timm/models/helpers.py:247}  Loading pretrained weights from url (https://github.com/rwightman/pytorch-image-models/releases/download/v0.1-rsb-weights/resnet50_a1_0-14fe96d1.pth)\n",
      "2023-04-25 17:31:19,046 INFO {/home/pat.karnchanachari/miniconda3/envs/nuplan/lib/python3.9/site-packages/timm/models/helpers.py:247}  Loading pretrained weights from url (https://github.com/rwightman/pytorch-image-models/releases/download/v0.1-rsb-weights/resnet50_a1_0-14fe96d1.pth)\n",
      "2023-04-25 17:31:19,063 INFO {/home/pat.karnchanachari/miniconda3/envs/nuplan/lib/python3.9/site-packages/timm/models/helpers.py:275}  Converted input conv conv1 pretrained weights from 3 to 4 channel(s)\n",
      "2023-04-25 17:31:19,063 INFO {/home/pat.karnchanachari/miniconda3/envs/nuplan/lib/python3.9/site-packages/timm/models/helpers.py:275}  Converted input conv conv1 pretrained weights from 3 to 4 channel(s)\n",
      "2023-04-25 17:31:19,081 INFO {/home/pat.karnchanachari/nuplan-devkit/nuplan/planning/script/builders/model_builder.py:21}  Building TorchModuleWrapper...DONE!\n",
      "2023-04-25 17:31:19,081 INFO {/home/pat.karnchanachari/nuplan-devkit/nuplan/planning/script/builders/model_builder.py:21}  Building TorchModuleWrapper...DONE!\n",
      "2023-04-25 17:31:19,481 INFO {/home/pat.karnchanachari/nuplan-devkit/nuplan/planning/script/builders/model_builder.py:18}  Building TorchModuleWrapper...\n",
      "2023-04-25 17:31:19,481 INFO {/home/pat.karnchanachari/nuplan-devkit/nuplan/planning/script/builders/model_builder.py:18}  Building TorchModuleWrapper...\n",
      "2023-04-25 17:31:19,672 INFO {/home/pat.karnchanachari/miniconda3/envs/nuplan/lib/python3.9/site-packages/timm/models/helpers.py:247}  Loading pretrained weights from url (https://github.com/rwightman/pytorch-image-models/releases/download/v0.1-rsb-weights/resnet50_a1_0-14fe96d1.pth)\n",
      "2023-04-25 17:31:19,672 INFO {/home/pat.karnchanachari/miniconda3/envs/nuplan/lib/python3.9/site-packages/timm/models/helpers.py:247}  Loading pretrained weights from url (https://github.com/rwightman/pytorch-image-models/releases/download/v0.1-rsb-weights/resnet50_a1_0-14fe96d1.pth)\n",
      "2023-04-25 17:31:19,693 INFO {/home/pat.karnchanachari/miniconda3/envs/nuplan/lib/python3.9/site-packages/timm/models/helpers.py:275}  Converted input conv conv1 pretrained weights from 3 to 4 channel(s)\n",
      "2023-04-25 17:31:19,693 INFO {/home/pat.karnchanachari/miniconda3/envs/nuplan/lib/python3.9/site-packages/timm/models/helpers.py:275}  Converted input conv conv1 pretrained weights from 3 to 4 channel(s)\n",
      "2023-04-25 17:31:19,710 INFO {/home/pat.karnchanachari/nuplan-devkit/nuplan/planning/script/builders/model_builder.py:21}  Building TorchModuleWrapper...DONE!\n",
      "2023-04-25 17:31:19,710 INFO {/home/pat.karnchanachari/nuplan-devkit/nuplan/planning/script/builders/model_builder.py:21}  Building TorchModuleWrapper...DONE!\n",
      "2023-04-25 17:31:20,089 INFO {/home/pat.karnchanachari/nuplan-devkit/nuplan/planning/script/builders/model_builder.py:18}  Building TorchModuleWrapper...\n",
      "2023-04-25 17:31:20,089 INFO {/home/pat.karnchanachari/nuplan-devkit/nuplan/planning/script/builders/model_builder.py:18}  Building TorchModuleWrapper...\n",
      "2023-04-25 17:31:20,280 INFO {/home/pat.karnchanachari/miniconda3/envs/nuplan/lib/python3.9/site-packages/timm/models/helpers.py:247}  Loading pretrained weights from url (https://github.com/rwightman/pytorch-image-models/releases/download/v0.1-rsb-weights/resnet50_a1_0-14fe96d1.pth)\n",
      "2023-04-25 17:31:20,280 INFO {/home/pat.karnchanachari/miniconda3/envs/nuplan/lib/python3.9/site-packages/timm/models/helpers.py:247}  Loading pretrained weights from url (https://github.com/rwightman/pytorch-image-models/releases/download/v0.1-rsb-weights/resnet50_a1_0-14fe96d1.pth)\n",
      "2023-04-25 17:31:20,298 INFO {/home/pat.karnchanachari/miniconda3/envs/nuplan/lib/python3.9/site-packages/timm/models/helpers.py:275}  Converted input conv conv1 pretrained weights from 3 to 4 channel(s)\n",
      "2023-04-25 17:31:20,298 INFO {/home/pat.karnchanachari/miniconda3/envs/nuplan/lib/python3.9/site-packages/timm/models/helpers.py:275}  Converted input conv conv1 pretrained weights from 3 to 4 channel(s)\n",
      "2023-04-25 17:31:20,316 INFO {/home/pat.karnchanachari/nuplan-devkit/nuplan/planning/script/builders/model_builder.py:21}  Building TorchModuleWrapper...DONE!\n",
      "2023-04-25 17:31:20,316 INFO {/home/pat.karnchanachari/nuplan-devkit/nuplan/planning/script/builders/model_builder.py:21}  Building TorchModuleWrapper...DONE!\n",
      "2023-04-25 17:31:20,480 INFO {/home/pat.karnchanachari/nuplan-devkit/nuplan/planning/script/builders/model_builder.py:18}  Building TorchModuleWrapper...\n",
      "2023-04-25 17:31:20,480 INFO {/home/pat.karnchanachari/nuplan-devkit/nuplan/planning/script/builders/model_builder.py:18}  Building TorchModuleWrapper...\n",
      "2023-04-25 17:31:20,673 INFO {/home/pat.karnchanachari/miniconda3/envs/nuplan/lib/python3.9/site-packages/timm/models/helpers.py:247}  Loading pretrained weights from url (https://github.com/rwightman/pytorch-image-models/releases/download/v0.1-rsb-weights/resnet50_a1_0-14fe96d1.pth)\n",
      "2023-04-25 17:31:20,673 INFO {/home/pat.karnchanachari/miniconda3/envs/nuplan/lib/python3.9/site-packages/timm/models/helpers.py:247}  Loading pretrained weights from url (https://github.com/rwightman/pytorch-image-models/releases/download/v0.1-rsb-weights/resnet50_a1_0-14fe96d1.pth)\n",
      "2023-04-25 17:31:20,695 INFO {/home/pat.karnchanachari/miniconda3/envs/nuplan/lib/python3.9/site-packages/timm/models/helpers.py:275}  Converted input conv conv1 pretrained weights from 3 to 4 channel(s)\n",
      "2023-04-25 17:31:20,695 INFO {/home/pat.karnchanachari/miniconda3/envs/nuplan/lib/python3.9/site-packages/timm/models/helpers.py:275}  Converted input conv conv1 pretrained weights from 3 to 4 channel(s)\n",
      "2023-04-25 17:31:20,712 INFO {/home/pat.karnchanachari/nuplan-devkit/nuplan/planning/script/builders/model_builder.py:21}  Building TorchModuleWrapper...DONE!\n",
      "2023-04-25 17:31:20,712 INFO {/home/pat.karnchanachari/nuplan-devkit/nuplan/planning/script/builders/model_builder.py:21}  Building TorchModuleWrapper...DONE!\n",
      "2023-04-25 17:31:21,125 INFO {/home/pat.karnchanachari/nuplan-devkit/nuplan/planning/script/builders/model_builder.py:18}  Building TorchModuleWrapper...\n",
      "2023-04-25 17:31:21,125 INFO {/home/pat.karnchanachari/nuplan-devkit/nuplan/planning/script/builders/model_builder.py:18}  Building TorchModuleWrapper...\n",
      "2023-04-25 17:31:21,318 INFO {/home/pat.karnchanachari/miniconda3/envs/nuplan/lib/python3.9/site-packages/timm/models/helpers.py:247}  Loading pretrained weights from url (https://github.com/rwightman/pytorch-image-models/releases/download/v0.1-rsb-weights/resnet50_a1_0-14fe96d1.pth)\n",
      "2023-04-25 17:31:21,318 INFO {/home/pat.karnchanachari/miniconda3/envs/nuplan/lib/python3.9/site-packages/timm/models/helpers.py:247}  Loading pretrained weights from url (https://github.com/rwightman/pytorch-image-models/releases/download/v0.1-rsb-weights/resnet50_a1_0-14fe96d1.pth)\n",
      "2023-04-25 17:31:21,336 INFO {/home/pat.karnchanachari/miniconda3/envs/nuplan/lib/python3.9/site-packages/timm/models/helpers.py:275}  Converted input conv conv1 pretrained weights from 3 to 4 channel(s)\n",
      "2023-04-25 17:31:21,336 INFO {/home/pat.karnchanachari/miniconda3/envs/nuplan/lib/python3.9/site-packages/timm/models/helpers.py:275}  Converted input conv conv1 pretrained weights from 3 to 4 channel(s)\n",
      "2023-04-25 17:31:21,354 INFO {/home/pat.karnchanachari/nuplan-devkit/nuplan/planning/script/builders/model_builder.py:21}  Building TorchModuleWrapper...DONE!\n",
      "2023-04-25 17:31:21,354 INFO {/home/pat.karnchanachari/nuplan-devkit/nuplan/planning/script/builders/model_builder.py:21}  Building TorchModuleWrapper...DONE!\n"
     ]
    },
    {
     "name": "stdout",
     "output_type": "stream",
     "text": [
      "2023-04-25 17:31:21,719 INFO {/home/pat.karnchanachari/nuplan-devkit/nuplan/planning/script/builders/model_builder.py:18}  Building TorchModuleWrapper...\n",
      "2023-04-25 17:31:21,719 INFO {/home/pat.karnchanachari/nuplan-devkit/nuplan/planning/script/builders/model_builder.py:18}  Building TorchModuleWrapper...\n",
      "2023-04-25 17:31:21,911 INFO {/home/pat.karnchanachari/miniconda3/envs/nuplan/lib/python3.9/site-packages/timm/models/helpers.py:247}  Loading pretrained weights from url (https://github.com/rwightman/pytorch-image-models/releases/download/v0.1-rsb-weights/resnet50_a1_0-14fe96d1.pth)\n",
      "2023-04-25 17:31:21,911 INFO {/home/pat.karnchanachari/miniconda3/envs/nuplan/lib/python3.9/site-packages/timm/models/helpers.py:247}  Loading pretrained weights from url (https://github.com/rwightman/pytorch-image-models/releases/download/v0.1-rsb-weights/resnet50_a1_0-14fe96d1.pth)\n",
      "2023-04-25 17:31:21,933 INFO {/home/pat.karnchanachari/miniconda3/envs/nuplan/lib/python3.9/site-packages/timm/models/helpers.py:275}  Converted input conv conv1 pretrained weights from 3 to 4 channel(s)\n",
      "2023-04-25 17:31:21,933 INFO {/home/pat.karnchanachari/miniconda3/envs/nuplan/lib/python3.9/site-packages/timm/models/helpers.py:275}  Converted input conv conv1 pretrained weights from 3 to 4 channel(s)\n",
      "2023-04-25 17:31:21,951 INFO {/home/pat.karnchanachari/nuplan-devkit/nuplan/planning/script/builders/model_builder.py:21}  Building TorchModuleWrapper...DONE!\n",
      "2023-04-25 17:31:21,951 INFO {/home/pat.karnchanachari/nuplan-devkit/nuplan/planning/script/builders/model_builder.py:21}  Building TorchModuleWrapper...DONE!\n",
      "2023-04-25 17:31:22,130 INFO {/home/pat.karnchanachari/nuplan-devkit/nuplan/planning/script/builders/model_builder.py:18}  Building TorchModuleWrapper...\n",
      "2023-04-25 17:31:22,130 INFO {/home/pat.karnchanachari/nuplan-devkit/nuplan/planning/script/builders/model_builder.py:18}  Building TorchModuleWrapper...\n",
      "2023-04-25 17:31:22,322 INFO {/home/pat.karnchanachari/miniconda3/envs/nuplan/lib/python3.9/site-packages/timm/models/helpers.py:247}  Loading pretrained weights from url (https://github.com/rwightman/pytorch-image-models/releases/download/v0.1-rsb-weights/resnet50_a1_0-14fe96d1.pth)\n",
      "2023-04-25 17:31:22,322 INFO {/home/pat.karnchanachari/miniconda3/envs/nuplan/lib/python3.9/site-packages/timm/models/helpers.py:247}  Loading pretrained weights from url (https://github.com/rwightman/pytorch-image-models/releases/download/v0.1-rsb-weights/resnet50_a1_0-14fe96d1.pth)\n",
      "2023-04-25 17:31:22,340 INFO {/home/pat.karnchanachari/miniconda3/envs/nuplan/lib/python3.9/site-packages/timm/models/helpers.py:275}  Converted input conv conv1 pretrained weights from 3 to 4 channel(s)\n",
      "2023-04-25 17:31:22,340 INFO {/home/pat.karnchanachari/miniconda3/envs/nuplan/lib/python3.9/site-packages/timm/models/helpers.py:275}  Converted input conv conv1 pretrained weights from 3 to 4 channel(s)\n",
      "2023-04-25 17:31:22,357 INFO {/home/pat.karnchanachari/nuplan-devkit/nuplan/planning/script/builders/model_builder.py:21}  Building TorchModuleWrapper...DONE!\n",
      "2023-04-25 17:31:22,357 INFO {/home/pat.karnchanachari/nuplan-devkit/nuplan/planning/script/builders/model_builder.py:21}  Building TorchModuleWrapper...DONE!\n",
      "2023-04-25 17:31:22,760 INFO {/home/pat.karnchanachari/nuplan-devkit/nuplan/planning/script/builders/model_builder.py:18}  Building TorchModuleWrapper...\n",
      "2023-04-25 17:31:22,760 INFO {/home/pat.karnchanachari/nuplan-devkit/nuplan/planning/script/builders/model_builder.py:18}  Building TorchModuleWrapper...\n",
      "2023-04-25 17:31:22,954 INFO {/home/pat.karnchanachari/miniconda3/envs/nuplan/lib/python3.9/site-packages/timm/models/helpers.py:247}  Loading pretrained weights from url (https://github.com/rwightman/pytorch-image-models/releases/download/v0.1-rsb-weights/resnet50_a1_0-14fe96d1.pth)\n",
      "2023-04-25 17:31:22,954 INFO {/home/pat.karnchanachari/miniconda3/envs/nuplan/lib/python3.9/site-packages/timm/models/helpers.py:247}  Loading pretrained weights from url (https://github.com/rwightman/pytorch-image-models/releases/download/v0.1-rsb-weights/resnet50_a1_0-14fe96d1.pth)\n",
      "2023-04-25 17:31:22,976 INFO {/home/pat.karnchanachari/miniconda3/envs/nuplan/lib/python3.9/site-packages/timm/models/helpers.py:275}  Converted input conv conv1 pretrained weights from 3 to 4 channel(s)\n",
      "2023-04-25 17:31:22,976 INFO {/home/pat.karnchanachari/miniconda3/envs/nuplan/lib/python3.9/site-packages/timm/models/helpers.py:275}  Converted input conv conv1 pretrained weights from 3 to 4 channel(s)\n",
      "2023-04-25 17:31:22,994 INFO {/home/pat.karnchanachari/nuplan-devkit/nuplan/planning/script/builders/model_builder.py:21}  Building TorchModuleWrapper...DONE!\n",
      "2023-04-25 17:31:22,994 INFO {/home/pat.karnchanachari/nuplan-devkit/nuplan/planning/script/builders/model_builder.py:21}  Building TorchModuleWrapper...DONE!\n",
      "2023-04-25 17:31:23,372 INFO {/home/pat.karnchanachari/nuplan-devkit/nuplan/planning/script/builders/model_builder.py:18}  Building TorchModuleWrapper...\n",
      "2023-04-25 17:31:23,372 INFO {/home/pat.karnchanachari/nuplan-devkit/nuplan/planning/script/builders/model_builder.py:18}  Building TorchModuleWrapper...\n",
      "2023-04-25 17:31:23,571 INFO {/home/pat.karnchanachari/miniconda3/envs/nuplan/lib/python3.9/site-packages/timm/models/helpers.py:247}  Loading pretrained weights from url (https://github.com/rwightman/pytorch-image-models/releases/download/v0.1-rsb-weights/resnet50_a1_0-14fe96d1.pth)\n",
      "2023-04-25 17:31:23,571 INFO {/home/pat.karnchanachari/miniconda3/envs/nuplan/lib/python3.9/site-packages/timm/models/helpers.py:247}  Loading pretrained weights from url (https://github.com/rwightman/pytorch-image-models/releases/download/v0.1-rsb-weights/resnet50_a1_0-14fe96d1.pth)\n",
      "2023-04-25 17:31:23,589 INFO {/home/pat.karnchanachari/miniconda3/envs/nuplan/lib/python3.9/site-packages/timm/models/helpers.py:275}  Converted input conv conv1 pretrained weights from 3 to 4 channel(s)\n",
      "2023-04-25 17:31:23,589 INFO {/home/pat.karnchanachari/miniconda3/envs/nuplan/lib/python3.9/site-packages/timm/models/helpers.py:275}  Converted input conv conv1 pretrained weights from 3 to 4 channel(s)\n",
      "2023-04-25 17:31:23,607 INFO {/home/pat.karnchanachari/nuplan-devkit/nuplan/planning/script/builders/model_builder.py:21}  Building TorchModuleWrapper...DONE!\n",
      "2023-04-25 17:31:23,607 INFO {/home/pat.karnchanachari/nuplan-devkit/nuplan/planning/script/builders/model_builder.py:21}  Building TorchModuleWrapper...DONE!\n",
      "2023-04-25 17:31:23,770 INFO {/home/pat.karnchanachari/nuplan-devkit/nuplan/planning/script/builders/model_builder.py:18}  Building TorchModuleWrapper...\n",
      "2023-04-25 17:31:23,770 INFO {/home/pat.karnchanachari/nuplan-devkit/nuplan/planning/script/builders/model_builder.py:18}  Building TorchModuleWrapper...\n",
      "2023-04-25 17:31:23,964 INFO {/home/pat.karnchanachari/miniconda3/envs/nuplan/lib/python3.9/site-packages/timm/models/helpers.py:247}  Loading pretrained weights from url (https://github.com/rwightman/pytorch-image-models/releases/download/v0.1-rsb-weights/resnet50_a1_0-14fe96d1.pth)\n",
      "2023-04-25 17:31:23,964 INFO {/home/pat.karnchanachari/miniconda3/envs/nuplan/lib/python3.9/site-packages/timm/models/helpers.py:247}  Loading pretrained weights from url (https://github.com/rwightman/pytorch-image-models/releases/download/v0.1-rsb-weights/resnet50_a1_0-14fe96d1.pth)\n",
      "2023-04-25 17:31:23,985 INFO {/home/pat.karnchanachari/miniconda3/envs/nuplan/lib/python3.9/site-packages/timm/models/helpers.py:275}  Converted input conv conv1 pretrained weights from 3 to 4 channel(s)\n",
      "2023-04-25 17:31:23,985 INFO {/home/pat.karnchanachari/miniconda3/envs/nuplan/lib/python3.9/site-packages/timm/models/helpers.py:275}  Converted input conv conv1 pretrained weights from 3 to 4 channel(s)\n",
      "2023-04-25 17:31:24,003 INFO {/home/pat.karnchanachari/nuplan-devkit/nuplan/planning/script/builders/model_builder.py:21}  Building TorchModuleWrapper...DONE!\n",
      "2023-04-25 17:31:24,003 INFO {/home/pat.karnchanachari/nuplan-devkit/nuplan/planning/script/builders/model_builder.py:21}  Building TorchModuleWrapper...DONE!\n",
      "2023-04-25 17:31:24,409 INFO {/home/pat.karnchanachari/nuplan-devkit/nuplan/planning/script/builders/model_builder.py:18}  Building TorchModuleWrapper...\n",
      "2023-04-25 17:31:24,409 INFO {/home/pat.karnchanachari/nuplan-devkit/nuplan/planning/script/builders/model_builder.py:18}  Building TorchModuleWrapper...\n",
      "2023-04-25 17:31:24,599 INFO {/home/pat.karnchanachari/miniconda3/envs/nuplan/lib/python3.9/site-packages/timm/models/helpers.py:247}  Loading pretrained weights from url (https://github.com/rwightman/pytorch-image-models/releases/download/v0.1-rsb-weights/resnet50_a1_0-14fe96d1.pth)\n",
      "2023-04-25 17:31:24,599 INFO {/home/pat.karnchanachari/miniconda3/envs/nuplan/lib/python3.9/site-packages/timm/models/helpers.py:247}  Loading pretrained weights from url (https://github.com/rwightman/pytorch-image-models/releases/download/v0.1-rsb-weights/resnet50_a1_0-14fe96d1.pth)\n"
     ]
    },
    {
     "name": "stdout",
     "output_type": "stream",
     "text": [
      "2023-04-25 17:31:24,617 INFO {/home/pat.karnchanachari/miniconda3/envs/nuplan/lib/python3.9/site-packages/timm/models/helpers.py:275}  Converted input conv conv1 pretrained weights from 3 to 4 channel(s)\n",
      "2023-04-25 17:31:24,617 INFO {/home/pat.karnchanachari/miniconda3/envs/nuplan/lib/python3.9/site-packages/timm/models/helpers.py:275}  Converted input conv conv1 pretrained weights from 3 to 4 channel(s)\n",
      "2023-04-25 17:31:24,635 INFO {/home/pat.karnchanachari/nuplan-devkit/nuplan/planning/script/builders/model_builder.py:21}  Building TorchModuleWrapper...DONE!\n",
      "2023-04-25 17:31:24,635 INFO {/home/pat.karnchanachari/nuplan-devkit/nuplan/planning/script/builders/model_builder.py:21}  Building TorchModuleWrapper...DONE!\n",
      "2023-04-25 17:31:25,001 INFO {/home/pat.karnchanachari/nuplan-devkit/nuplan/planning/script/builders/model_builder.py:18}  Building TorchModuleWrapper...\n",
      "2023-04-25 17:31:25,001 INFO {/home/pat.karnchanachari/nuplan-devkit/nuplan/planning/script/builders/model_builder.py:18}  Building TorchModuleWrapper...\n",
      "2023-04-25 17:31:25,191 INFO {/home/pat.karnchanachari/miniconda3/envs/nuplan/lib/python3.9/site-packages/timm/models/helpers.py:247}  Loading pretrained weights from url (https://github.com/rwightman/pytorch-image-models/releases/download/v0.1-rsb-weights/resnet50_a1_0-14fe96d1.pth)\n",
      "2023-04-25 17:31:25,191 INFO {/home/pat.karnchanachari/miniconda3/envs/nuplan/lib/python3.9/site-packages/timm/models/helpers.py:247}  Loading pretrained weights from url (https://github.com/rwightman/pytorch-image-models/releases/download/v0.1-rsb-weights/resnet50_a1_0-14fe96d1.pth)\n",
      "2023-04-25 17:31:25,212 INFO {/home/pat.karnchanachari/miniconda3/envs/nuplan/lib/python3.9/site-packages/timm/models/helpers.py:275}  Converted input conv conv1 pretrained weights from 3 to 4 channel(s)\n",
      "2023-04-25 17:31:25,212 INFO {/home/pat.karnchanachari/miniconda3/envs/nuplan/lib/python3.9/site-packages/timm/models/helpers.py:275}  Converted input conv conv1 pretrained weights from 3 to 4 channel(s)\n",
      "2023-04-25 17:31:25,230 INFO {/home/pat.karnchanachari/nuplan-devkit/nuplan/planning/script/builders/model_builder.py:21}  Building TorchModuleWrapper...DONE!\n",
      "2023-04-25 17:31:25,230 INFO {/home/pat.karnchanachari/nuplan-devkit/nuplan/planning/script/builders/model_builder.py:21}  Building TorchModuleWrapper...DONE!\n",
      "2023-04-25 17:31:25,400 INFO {/home/pat.karnchanachari/nuplan-devkit/nuplan/planning/script/builders/model_builder.py:18}  Building TorchModuleWrapper...\n",
      "2023-04-25 17:31:25,400 INFO {/home/pat.karnchanachari/nuplan-devkit/nuplan/planning/script/builders/model_builder.py:18}  Building TorchModuleWrapper...\n",
      "2023-04-25 17:31:25,590 INFO {/home/pat.karnchanachari/miniconda3/envs/nuplan/lib/python3.9/site-packages/timm/models/helpers.py:247}  Loading pretrained weights from url (https://github.com/rwightman/pytorch-image-models/releases/download/v0.1-rsb-weights/resnet50_a1_0-14fe96d1.pth)\n",
      "2023-04-25 17:31:25,590 INFO {/home/pat.karnchanachari/miniconda3/envs/nuplan/lib/python3.9/site-packages/timm/models/helpers.py:247}  Loading pretrained weights from url (https://github.com/rwightman/pytorch-image-models/releases/download/v0.1-rsb-weights/resnet50_a1_0-14fe96d1.pth)\n",
      "2023-04-25 17:31:25,608 INFO {/home/pat.karnchanachari/miniconda3/envs/nuplan/lib/python3.9/site-packages/timm/models/helpers.py:275}  Converted input conv conv1 pretrained weights from 3 to 4 channel(s)\n",
      "2023-04-25 17:31:25,608 INFO {/home/pat.karnchanachari/miniconda3/envs/nuplan/lib/python3.9/site-packages/timm/models/helpers.py:275}  Converted input conv conv1 pretrained weights from 3 to 4 channel(s)\n",
      "2023-04-25 17:31:25,625 INFO {/home/pat.karnchanachari/nuplan-devkit/nuplan/planning/script/builders/model_builder.py:21}  Building TorchModuleWrapper...DONE!\n",
      "2023-04-25 17:31:25,625 INFO {/home/pat.karnchanachari/nuplan-devkit/nuplan/planning/script/builders/model_builder.py:21}  Building TorchModuleWrapper...DONE!\n",
      "2023-04-25 17:31:26,026 INFO {/home/pat.karnchanachari/nuplan-devkit/nuplan/planning/script/builders/model_builder.py:18}  Building TorchModuleWrapper...\n",
      "2023-04-25 17:31:26,026 INFO {/home/pat.karnchanachari/nuplan-devkit/nuplan/planning/script/builders/model_builder.py:18}  Building TorchModuleWrapper...\n",
      "2023-04-25 17:31:26,217 INFO {/home/pat.karnchanachari/miniconda3/envs/nuplan/lib/python3.9/site-packages/timm/models/helpers.py:247}  Loading pretrained weights from url (https://github.com/rwightman/pytorch-image-models/releases/download/v0.1-rsb-weights/resnet50_a1_0-14fe96d1.pth)\n",
      "2023-04-25 17:31:26,217 INFO {/home/pat.karnchanachari/miniconda3/envs/nuplan/lib/python3.9/site-packages/timm/models/helpers.py:247}  Loading pretrained weights from url (https://github.com/rwightman/pytorch-image-models/releases/download/v0.1-rsb-weights/resnet50_a1_0-14fe96d1.pth)\n",
      "2023-04-25 17:31:26,238 INFO {/home/pat.karnchanachari/miniconda3/envs/nuplan/lib/python3.9/site-packages/timm/models/helpers.py:275}  Converted input conv conv1 pretrained weights from 3 to 4 channel(s)\n",
      "2023-04-25 17:31:26,238 INFO {/home/pat.karnchanachari/miniconda3/envs/nuplan/lib/python3.9/site-packages/timm/models/helpers.py:275}  Converted input conv conv1 pretrained weights from 3 to 4 channel(s)\n",
      "2023-04-25 17:31:26,256 INFO {/home/pat.karnchanachari/nuplan-devkit/nuplan/planning/script/builders/model_builder.py:21}  Building TorchModuleWrapper...DONE!\n",
      "2023-04-25 17:31:26,256 INFO {/home/pat.karnchanachari/nuplan-devkit/nuplan/planning/script/builders/model_builder.py:21}  Building TorchModuleWrapper...DONE!\n",
      "2023-04-25 17:31:26,629 INFO {/home/pat.karnchanachari/nuplan-devkit/nuplan/planning/script/builders/model_builder.py:18}  Building TorchModuleWrapper...\n",
      "2023-04-25 17:31:26,629 INFO {/home/pat.karnchanachari/nuplan-devkit/nuplan/planning/script/builders/model_builder.py:18}  Building TorchModuleWrapper...\n",
      "2023-04-25 17:31:26,819 INFO {/home/pat.karnchanachari/miniconda3/envs/nuplan/lib/python3.9/site-packages/timm/models/helpers.py:247}  Loading pretrained weights from url (https://github.com/rwightman/pytorch-image-models/releases/download/v0.1-rsb-weights/resnet50_a1_0-14fe96d1.pth)\n",
      "2023-04-25 17:31:26,819 INFO {/home/pat.karnchanachari/miniconda3/envs/nuplan/lib/python3.9/site-packages/timm/models/helpers.py:247}  Loading pretrained weights from url (https://github.com/rwightman/pytorch-image-models/releases/download/v0.1-rsb-weights/resnet50_a1_0-14fe96d1.pth)\n",
      "2023-04-25 17:31:26,837 INFO {/home/pat.karnchanachari/miniconda3/envs/nuplan/lib/python3.9/site-packages/timm/models/helpers.py:275}  Converted input conv conv1 pretrained weights from 3 to 4 channel(s)\n",
      "2023-04-25 17:31:26,837 INFO {/home/pat.karnchanachari/miniconda3/envs/nuplan/lib/python3.9/site-packages/timm/models/helpers.py:275}  Converted input conv conv1 pretrained weights from 3 to 4 channel(s)\n",
      "2023-04-25 17:31:26,855 INFO {/home/pat.karnchanachari/nuplan-devkit/nuplan/planning/script/builders/model_builder.py:21}  Building TorchModuleWrapper...DONE!\n",
      "2023-04-25 17:31:26,855 INFO {/home/pat.karnchanachari/nuplan-devkit/nuplan/planning/script/builders/model_builder.py:21}  Building TorchModuleWrapper...DONE!\n",
      "2023-04-25 17:31:27,019 INFO {/home/pat.karnchanachari/nuplan-devkit/nuplan/planning/script/builders/model_builder.py:18}  Building TorchModuleWrapper...\n",
      "2023-04-25 17:31:27,019 INFO {/home/pat.karnchanachari/nuplan-devkit/nuplan/planning/script/builders/model_builder.py:18}  Building TorchModuleWrapper...\n",
      "2023-04-25 17:31:27,211 INFO {/home/pat.karnchanachari/miniconda3/envs/nuplan/lib/python3.9/site-packages/timm/models/helpers.py:247}  Loading pretrained weights from url (https://github.com/rwightman/pytorch-image-models/releases/download/v0.1-rsb-weights/resnet50_a1_0-14fe96d1.pth)\n",
      "2023-04-25 17:31:27,211 INFO {/home/pat.karnchanachari/miniconda3/envs/nuplan/lib/python3.9/site-packages/timm/models/helpers.py:247}  Loading pretrained weights from url (https://github.com/rwightman/pytorch-image-models/releases/download/v0.1-rsb-weights/resnet50_a1_0-14fe96d1.pth)\n",
      "2023-04-25 17:31:27,231 INFO {/home/pat.karnchanachari/miniconda3/envs/nuplan/lib/python3.9/site-packages/timm/models/helpers.py:275}  Converted input conv conv1 pretrained weights from 3 to 4 channel(s)\n",
      "2023-04-25 17:31:27,231 INFO {/home/pat.karnchanachari/miniconda3/envs/nuplan/lib/python3.9/site-packages/timm/models/helpers.py:275}  Converted input conv conv1 pretrained weights from 3 to 4 channel(s)\n",
      "2023-04-25 17:31:27,249 INFO {/home/pat.karnchanachari/nuplan-devkit/nuplan/planning/script/builders/model_builder.py:21}  Building TorchModuleWrapper...DONE!\n",
      "2023-04-25 17:31:27,249 INFO {/home/pat.karnchanachari/nuplan-devkit/nuplan/planning/script/builders/model_builder.py:21}  Building TorchModuleWrapper...DONE!\n"
     ]
    },
    {
     "name": "stdout",
     "output_type": "stream",
     "text": [
      "2023-04-25 17:31:27,659 INFO {/home/pat.karnchanachari/nuplan-devkit/nuplan/planning/script/builders/model_builder.py:18}  Building TorchModuleWrapper...\n",
      "2023-04-25 17:31:27,659 INFO {/home/pat.karnchanachari/nuplan-devkit/nuplan/planning/script/builders/model_builder.py:18}  Building TorchModuleWrapper...\n",
      "2023-04-25 17:31:27,850 INFO {/home/pat.karnchanachari/miniconda3/envs/nuplan/lib/python3.9/site-packages/timm/models/helpers.py:247}  Loading pretrained weights from url (https://github.com/rwightman/pytorch-image-models/releases/download/v0.1-rsb-weights/resnet50_a1_0-14fe96d1.pth)\n",
      "2023-04-25 17:31:27,850 INFO {/home/pat.karnchanachari/miniconda3/envs/nuplan/lib/python3.9/site-packages/timm/models/helpers.py:247}  Loading pretrained weights from url (https://github.com/rwightman/pytorch-image-models/releases/download/v0.1-rsb-weights/resnet50_a1_0-14fe96d1.pth)\n",
      "2023-04-25 17:31:27,869 INFO {/home/pat.karnchanachari/miniconda3/envs/nuplan/lib/python3.9/site-packages/timm/models/helpers.py:275}  Converted input conv conv1 pretrained weights from 3 to 4 channel(s)\n",
      "2023-04-25 17:31:27,869 INFO {/home/pat.karnchanachari/miniconda3/envs/nuplan/lib/python3.9/site-packages/timm/models/helpers.py:275}  Converted input conv conv1 pretrained weights from 3 to 4 channel(s)\n",
      "2023-04-25 17:31:27,890 INFO {/home/pat.karnchanachari/nuplan-devkit/nuplan/planning/script/builders/model_builder.py:21}  Building TorchModuleWrapper...DONE!\n",
      "2023-04-25 17:31:27,890 INFO {/home/pat.karnchanachari/nuplan-devkit/nuplan/planning/script/builders/model_builder.py:21}  Building TorchModuleWrapper...DONE!\n",
      "2023-04-25 17:31:28,260 INFO {/home/pat.karnchanachari/nuplan-devkit/nuplan/planning/script/builders/model_builder.py:18}  Building TorchModuleWrapper...\n",
      "2023-04-25 17:31:28,260 INFO {/home/pat.karnchanachari/nuplan-devkit/nuplan/planning/script/builders/model_builder.py:18}  Building TorchModuleWrapper...\n",
      "2023-04-25 17:31:28,453 INFO {/home/pat.karnchanachari/miniconda3/envs/nuplan/lib/python3.9/site-packages/timm/models/helpers.py:247}  Loading pretrained weights from url (https://github.com/rwightman/pytorch-image-models/releases/download/v0.1-rsb-weights/resnet50_a1_0-14fe96d1.pth)\n",
      "2023-04-25 17:31:28,453 INFO {/home/pat.karnchanachari/miniconda3/envs/nuplan/lib/python3.9/site-packages/timm/models/helpers.py:247}  Loading pretrained weights from url (https://github.com/rwightman/pytorch-image-models/releases/download/v0.1-rsb-weights/resnet50_a1_0-14fe96d1.pth)\n",
      "2023-04-25 17:31:28,474 INFO {/home/pat.karnchanachari/miniconda3/envs/nuplan/lib/python3.9/site-packages/timm/models/helpers.py:275}  Converted input conv conv1 pretrained weights from 3 to 4 channel(s)\n",
      "2023-04-25 17:31:28,474 INFO {/home/pat.karnchanachari/miniconda3/envs/nuplan/lib/python3.9/site-packages/timm/models/helpers.py:275}  Converted input conv conv1 pretrained weights from 3 to 4 channel(s)\n",
      "2023-04-25 17:31:28,492 INFO {/home/pat.karnchanachari/nuplan-devkit/nuplan/planning/script/builders/model_builder.py:21}  Building TorchModuleWrapper...DONE!\n",
      "2023-04-25 17:31:28,492 INFO {/home/pat.karnchanachari/nuplan-devkit/nuplan/planning/script/builders/model_builder.py:21}  Building TorchModuleWrapper...DONE!\n",
      "2023-04-25 17:31:28,661 INFO {/home/pat.karnchanachari/nuplan-devkit/nuplan/planning/script/builders/model_builder.py:18}  Building TorchModuleWrapper...\n",
      "2023-04-25 17:31:28,661 INFO {/home/pat.karnchanachari/nuplan-devkit/nuplan/planning/script/builders/model_builder.py:18}  Building TorchModuleWrapper...\n",
      "2023-04-25 17:31:28,853 INFO {/home/pat.karnchanachari/miniconda3/envs/nuplan/lib/python3.9/site-packages/timm/models/helpers.py:247}  Loading pretrained weights from url (https://github.com/rwightman/pytorch-image-models/releases/download/v0.1-rsb-weights/resnet50_a1_0-14fe96d1.pth)\n",
      "2023-04-25 17:31:28,853 INFO {/home/pat.karnchanachari/miniconda3/envs/nuplan/lib/python3.9/site-packages/timm/models/helpers.py:247}  Loading pretrained weights from url (https://github.com/rwightman/pytorch-image-models/releases/download/v0.1-rsb-weights/resnet50_a1_0-14fe96d1.pth)\n",
      "2023-04-25 17:31:28,871 INFO {/home/pat.karnchanachari/miniconda3/envs/nuplan/lib/python3.9/site-packages/timm/models/helpers.py:275}  Converted input conv conv1 pretrained weights from 3 to 4 channel(s)\n",
      "2023-04-25 17:31:28,871 INFO {/home/pat.karnchanachari/miniconda3/envs/nuplan/lib/python3.9/site-packages/timm/models/helpers.py:275}  Converted input conv conv1 pretrained weights from 3 to 4 channel(s)\n",
      "2023-04-25 17:31:28,888 INFO {/home/pat.karnchanachari/nuplan-devkit/nuplan/planning/script/builders/model_builder.py:21}  Building TorchModuleWrapper...DONE!\n",
      "2023-04-25 17:31:28,888 INFO {/home/pat.karnchanachari/nuplan-devkit/nuplan/planning/script/builders/model_builder.py:21}  Building TorchModuleWrapper...DONE!\n",
      "2023-04-25 17:31:29,296 INFO {/home/pat.karnchanachari/nuplan-devkit/nuplan/planning/script/builders/model_builder.py:18}  Building TorchModuleWrapper...\n",
      "2023-04-25 17:31:29,296 INFO {/home/pat.karnchanachari/nuplan-devkit/nuplan/planning/script/builders/model_builder.py:18}  Building TorchModuleWrapper...\n",
      "2023-04-25 17:31:29,489 INFO {/home/pat.karnchanachari/miniconda3/envs/nuplan/lib/python3.9/site-packages/timm/models/helpers.py:247}  Loading pretrained weights from url (https://github.com/rwightman/pytorch-image-models/releases/download/v0.1-rsb-weights/resnet50_a1_0-14fe96d1.pth)\n",
      "2023-04-25 17:31:29,489 INFO {/home/pat.karnchanachari/miniconda3/envs/nuplan/lib/python3.9/site-packages/timm/models/helpers.py:247}  Loading pretrained weights from url (https://github.com/rwightman/pytorch-image-models/releases/download/v0.1-rsb-weights/resnet50_a1_0-14fe96d1.pth)\n",
      "2023-04-25 17:31:29,510 INFO {/home/pat.karnchanachari/miniconda3/envs/nuplan/lib/python3.9/site-packages/timm/models/helpers.py:275}  Converted input conv conv1 pretrained weights from 3 to 4 channel(s)\n",
      "2023-04-25 17:31:29,510 INFO {/home/pat.karnchanachari/miniconda3/envs/nuplan/lib/python3.9/site-packages/timm/models/helpers.py:275}  Converted input conv conv1 pretrained weights from 3 to 4 channel(s)\n",
      "2023-04-25 17:31:29,527 INFO {/home/pat.karnchanachari/nuplan-devkit/nuplan/planning/script/builders/model_builder.py:21}  Building TorchModuleWrapper...DONE!\n",
      "2023-04-25 17:31:29,527 INFO {/home/pat.karnchanachari/nuplan-devkit/nuplan/planning/script/builders/model_builder.py:21}  Building TorchModuleWrapper...DONE!\n",
      "2023-04-25 17:31:29,910 INFO {/home/pat.karnchanachari/nuplan-devkit/nuplan/planning/script/builders/model_builder.py:18}  Building TorchModuleWrapper...\n",
      "2023-04-25 17:31:29,910 INFO {/home/pat.karnchanachari/nuplan-devkit/nuplan/planning/script/builders/model_builder.py:18}  Building TorchModuleWrapper...\n",
      "2023-04-25 17:31:30,102 INFO {/home/pat.karnchanachari/miniconda3/envs/nuplan/lib/python3.9/site-packages/timm/models/helpers.py:247}  Loading pretrained weights from url (https://github.com/rwightman/pytorch-image-models/releases/download/v0.1-rsb-weights/resnet50_a1_0-14fe96d1.pth)\n",
      "2023-04-25 17:31:30,102 INFO {/home/pat.karnchanachari/miniconda3/envs/nuplan/lib/python3.9/site-packages/timm/models/helpers.py:247}  Loading pretrained weights from url (https://github.com/rwightman/pytorch-image-models/releases/download/v0.1-rsb-weights/resnet50_a1_0-14fe96d1.pth)\n",
      "2023-04-25 17:31:30,120 INFO {/home/pat.karnchanachari/miniconda3/envs/nuplan/lib/python3.9/site-packages/timm/models/helpers.py:275}  Converted input conv conv1 pretrained weights from 3 to 4 channel(s)\n",
      "2023-04-25 17:31:30,120 INFO {/home/pat.karnchanachari/miniconda3/envs/nuplan/lib/python3.9/site-packages/timm/models/helpers.py:275}  Converted input conv conv1 pretrained weights from 3 to 4 channel(s)\n",
      "2023-04-25 17:31:30,139 INFO {/home/pat.karnchanachari/nuplan-devkit/nuplan/planning/script/builders/model_builder.py:21}  Building TorchModuleWrapper...DONE!\n",
      "2023-04-25 17:31:30,139 INFO {/home/pat.karnchanachari/nuplan-devkit/nuplan/planning/script/builders/model_builder.py:21}  Building TorchModuleWrapper...DONE!\n",
      "2023-04-25 17:31:30,304 INFO {/home/pat.karnchanachari/nuplan-devkit/nuplan/planning/script/builders/model_builder.py:18}  Building TorchModuleWrapper...\n",
      "2023-04-25 17:31:30,304 INFO {/home/pat.karnchanachari/nuplan-devkit/nuplan/planning/script/builders/model_builder.py:18}  Building TorchModuleWrapper...\n"
     ]
    },
    {
     "name": "stdout",
     "output_type": "stream",
     "text": [
      "2023-04-25 17:31:30,495 INFO {/home/pat.karnchanachari/miniconda3/envs/nuplan/lib/python3.9/site-packages/timm/models/helpers.py:247}  Loading pretrained weights from url (https://github.com/rwightman/pytorch-image-models/releases/download/v0.1-rsb-weights/resnet50_a1_0-14fe96d1.pth)\n",
      "2023-04-25 17:31:30,495 INFO {/home/pat.karnchanachari/miniconda3/envs/nuplan/lib/python3.9/site-packages/timm/models/helpers.py:247}  Loading pretrained weights from url (https://github.com/rwightman/pytorch-image-models/releases/download/v0.1-rsb-weights/resnet50_a1_0-14fe96d1.pth)\n",
      "2023-04-25 17:31:30,516 INFO {/home/pat.karnchanachari/miniconda3/envs/nuplan/lib/python3.9/site-packages/timm/models/helpers.py:275}  Converted input conv conv1 pretrained weights from 3 to 4 channel(s)\n",
      "2023-04-25 17:31:30,516 INFO {/home/pat.karnchanachari/miniconda3/envs/nuplan/lib/python3.9/site-packages/timm/models/helpers.py:275}  Converted input conv conv1 pretrained weights from 3 to 4 channel(s)\n",
      "2023-04-25 17:31:30,533 INFO {/home/pat.karnchanachari/nuplan-devkit/nuplan/planning/script/builders/model_builder.py:21}  Building TorchModuleWrapper...DONE!\n",
      "2023-04-25 17:31:30,533 INFO {/home/pat.karnchanachari/nuplan-devkit/nuplan/planning/script/builders/model_builder.py:21}  Building TorchModuleWrapper...DONE!\n",
      "2023-04-25 17:31:30,959 INFO {/home/pat.karnchanachari/nuplan-devkit/nuplan/planning/script/builders/model_builder.py:18}  Building TorchModuleWrapper...\n",
      "2023-04-25 17:31:30,959 INFO {/home/pat.karnchanachari/nuplan-devkit/nuplan/planning/script/builders/model_builder.py:18}  Building TorchModuleWrapper...\n",
      "2023-04-25 17:31:31,150 INFO {/home/pat.karnchanachari/miniconda3/envs/nuplan/lib/python3.9/site-packages/timm/models/helpers.py:247}  Loading pretrained weights from url (https://github.com/rwightman/pytorch-image-models/releases/download/v0.1-rsb-weights/resnet50_a1_0-14fe96d1.pth)\n",
      "2023-04-25 17:31:31,150 INFO {/home/pat.karnchanachari/miniconda3/envs/nuplan/lib/python3.9/site-packages/timm/models/helpers.py:247}  Loading pretrained weights from url (https://github.com/rwightman/pytorch-image-models/releases/download/v0.1-rsb-weights/resnet50_a1_0-14fe96d1.pth)\n",
      "2023-04-25 17:31:31,168 INFO {/home/pat.karnchanachari/miniconda3/envs/nuplan/lib/python3.9/site-packages/timm/models/helpers.py:275}  Converted input conv conv1 pretrained weights from 3 to 4 channel(s)\n",
      "2023-04-25 17:31:31,168 INFO {/home/pat.karnchanachari/miniconda3/envs/nuplan/lib/python3.9/site-packages/timm/models/helpers.py:275}  Converted input conv conv1 pretrained weights from 3 to 4 channel(s)\n",
      "2023-04-25 17:31:31,186 INFO {/home/pat.karnchanachari/nuplan-devkit/nuplan/planning/script/builders/model_builder.py:21}  Building TorchModuleWrapper...DONE!\n",
      "2023-04-25 17:31:31,186 INFO {/home/pat.karnchanachari/nuplan-devkit/nuplan/planning/script/builders/model_builder.py:21}  Building TorchModuleWrapper...DONE!\n",
      "2023-04-25 17:31:31,569 INFO {/home/pat.karnchanachari/nuplan-devkit/nuplan/planning/script/builders/model_builder.py:18}  Building TorchModuleWrapper...\n",
      "2023-04-25 17:31:31,569 INFO {/home/pat.karnchanachari/nuplan-devkit/nuplan/planning/script/builders/model_builder.py:18}  Building TorchModuleWrapper...\n",
      "2023-04-25 17:31:31,762 INFO {/home/pat.karnchanachari/miniconda3/envs/nuplan/lib/python3.9/site-packages/timm/models/helpers.py:247}  Loading pretrained weights from url (https://github.com/rwightman/pytorch-image-models/releases/download/v0.1-rsb-weights/resnet50_a1_0-14fe96d1.pth)\n",
      "2023-04-25 17:31:31,762 INFO {/home/pat.karnchanachari/miniconda3/envs/nuplan/lib/python3.9/site-packages/timm/models/helpers.py:247}  Loading pretrained weights from url (https://github.com/rwightman/pytorch-image-models/releases/download/v0.1-rsb-weights/resnet50_a1_0-14fe96d1.pth)\n",
      "2023-04-25 17:31:31,783 INFO {/home/pat.karnchanachari/miniconda3/envs/nuplan/lib/python3.9/site-packages/timm/models/helpers.py:275}  Converted input conv conv1 pretrained weights from 3 to 4 channel(s)\n",
      "2023-04-25 17:31:31,783 INFO {/home/pat.karnchanachari/miniconda3/envs/nuplan/lib/python3.9/site-packages/timm/models/helpers.py:275}  Converted input conv conv1 pretrained weights from 3 to 4 channel(s)\n",
      "2023-04-25 17:31:31,801 INFO {/home/pat.karnchanachari/nuplan-devkit/nuplan/planning/script/builders/model_builder.py:21}  Building TorchModuleWrapper...DONE!\n",
      "2023-04-25 17:31:31,801 INFO {/home/pat.karnchanachari/nuplan-devkit/nuplan/planning/script/builders/model_builder.py:21}  Building TorchModuleWrapper...DONE!\n",
      "2023-04-25 17:31:31,978 INFO {/home/pat.karnchanachari/nuplan-devkit/nuplan/planning/script/builders/model_builder.py:18}  Building TorchModuleWrapper...\n",
      "2023-04-25 17:31:31,978 INFO {/home/pat.karnchanachari/nuplan-devkit/nuplan/planning/script/builders/model_builder.py:18}  Building TorchModuleWrapper...\n",
      "2023-04-25 17:31:32,169 INFO {/home/pat.karnchanachari/miniconda3/envs/nuplan/lib/python3.9/site-packages/timm/models/helpers.py:247}  Loading pretrained weights from url (https://github.com/rwightman/pytorch-image-models/releases/download/v0.1-rsb-weights/resnet50_a1_0-14fe96d1.pth)\n",
      "2023-04-25 17:31:32,169 INFO {/home/pat.karnchanachari/miniconda3/envs/nuplan/lib/python3.9/site-packages/timm/models/helpers.py:247}  Loading pretrained weights from url (https://github.com/rwightman/pytorch-image-models/releases/download/v0.1-rsb-weights/resnet50_a1_0-14fe96d1.pth)\n",
      "2023-04-25 17:31:32,187 INFO {/home/pat.karnchanachari/miniconda3/envs/nuplan/lib/python3.9/site-packages/timm/models/helpers.py:275}  Converted input conv conv1 pretrained weights from 3 to 4 channel(s)\n",
      "2023-04-25 17:31:32,187 INFO {/home/pat.karnchanachari/miniconda3/envs/nuplan/lib/python3.9/site-packages/timm/models/helpers.py:275}  Converted input conv conv1 pretrained weights from 3 to 4 channel(s)\n",
      "2023-04-25 17:31:32,204 INFO {/home/pat.karnchanachari/nuplan-devkit/nuplan/planning/script/builders/model_builder.py:21}  Building TorchModuleWrapper...DONE!\n",
      "2023-04-25 17:31:32,204 INFO {/home/pat.karnchanachari/nuplan-devkit/nuplan/planning/script/builders/model_builder.py:21}  Building TorchModuleWrapper...DONE!\n",
      "2023-04-25 17:31:32,630 INFO {/home/pat.karnchanachari/nuplan-devkit/nuplan/planning/script/builders/model_builder.py:18}  Building TorchModuleWrapper...\n",
      "2023-04-25 17:31:32,630 INFO {/home/pat.karnchanachari/nuplan-devkit/nuplan/planning/script/builders/model_builder.py:18}  Building TorchModuleWrapper...\n",
      "2023-04-25 17:31:32,821 INFO {/home/pat.karnchanachari/miniconda3/envs/nuplan/lib/python3.9/site-packages/timm/models/helpers.py:247}  Loading pretrained weights from url (https://github.com/rwightman/pytorch-image-models/releases/download/v0.1-rsb-weights/resnet50_a1_0-14fe96d1.pth)\n",
      "2023-04-25 17:31:32,821 INFO {/home/pat.karnchanachari/miniconda3/envs/nuplan/lib/python3.9/site-packages/timm/models/helpers.py:247}  Loading pretrained weights from url (https://github.com/rwightman/pytorch-image-models/releases/download/v0.1-rsb-weights/resnet50_a1_0-14fe96d1.pth)\n",
      "2023-04-25 17:31:32,842 INFO {/home/pat.karnchanachari/miniconda3/envs/nuplan/lib/python3.9/site-packages/timm/models/helpers.py:275}  Converted input conv conv1 pretrained weights from 3 to 4 channel(s)\n",
      "2023-04-25 17:31:32,842 INFO {/home/pat.karnchanachari/miniconda3/envs/nuplan/lib/python3.9/site-packages/timm/models/helpers.py:275}  Converted input conv conv1 pretrained weights from 3 to 4 channel(s)\n",
      "2023-04-25 17:31:32,860 INFO {/home/pat.karnchanachari/nuplan-devkit/nuplan/planning/script/builders/model_builder.py:21}  Building TorchModuleWrapper...DONE!\n",
      "2023-04-25 17:31:32,860 INFO {/home/pat.karnchanachari/nuplan-devkit/nuplan/planning/script/builders/model_builder.py:21}  Building TorchModuleWrapper...DONE!\n",
      "2023-04-25 17:31:33,040 INFO {/home/pat.karnchanachari/nuplan-devkit/nuplan/planning/script/builders/simulation_builder.py:133}  Building simulations...DONE!\n",
      "2023-04-25 17:31:33,040 INFO {/home/pat.karnchanachari/nuplan-devkit/nuplan/planning/script/builders/simulation_builder.py:133}  Building simulations...DONE!\n",
      "2023-04-25 17:31:33,040 INFO {/home/pat.karnchanachari/nuplan-devkit/nuplan/planning/script/run_simulation.py:78}  Running simulation...\n",
      "2023-04-25 17:31:33,040 INFO {/home/pat.karnchanachari/nuplan-devkit/nuplan/planning/script/run_simulation.py:78}  Running simulation...\n",
      "2023-04-25 17:31:33,041 INFO {/home/pat.karnchanachari/nuplan-devkit/nuplan/planning/script/utils.py:138}  Executing runners...\n",
      "2023-04-25 17:31:33,041 INFO {/home/pat.karnchanachari/nuplan-devkit/nuplan/planning/script/utils.py:138}  Executing runners...\n",
      "2023-04-25 17:31:33,041 INFO {/home/pat.karnchanachari/nuplan-devkit/nuplan/planning/simulation/runner/executor.py:82}  Starting 31 simulations using RayDistributed!\n",
      "2023-04-25 17:31:33,041 INFO {/home/pat.karnchanachari/nuplan-devkit/nuplan/planning/simulation/runner/executor.py:82}  Starting 31 simulations using RayDistributed!\n"
     ]
    },
    {
     "name": "stderr",
     "output_type": "stream",
     "text": [
      "Ray objects:   0%|                                                                             | 0/31 [00:00<?, ?it/s]\u001b[2m\u001b[36m(wrapped_fn pid=32670)\u001b[0m /home/pat.karnchanachari/miniconda3/envs/nuplan/lib/python3.9/site-packages/torch/nn/functional.py:718: UserWarning: Named tensors and all their associated APIs are an experimental feature and subject to change. Please do not use them for anything important until they are released as stable. (Triggered internally at  /pytorch/c10/core/TensorImpl.h:1156.)\n",
      "\u001b[2m\u001b[36m(wrapped_fn pid=32670)\u001b[0m   return torch.max_pool2d(input, kernel_size, stride, padding, dilation, ceil_mode)\n",
      "\u001b[2m\u001b[36m(wrapped_fn pid=32668)\u001b[0m /home/pat.karnchanachari/miniconda3/envs/nuplan/lib/python3.9/site-packages/torch/nn/functional.py:718: UserWarning: Named tensors and all their associated APIs are an experimental feature and subject to change. Please do not use them for anything important until they are released as stable. (Triggered internally at  /pytorch/c10/core/TensorImpl.h:1156.)\n",
      "\u001b[2m\u001b[36m(wrapped_fn pid=32668)\u001b[0m   return torch.max_pool2d(input, kernel_size, stride, padding, dilation, ceil_mode)\n",
      "\u001b[2m\u001b[36m(wrapped_fn pid=32662)\u001b[0m /home/pat.karnchanachari/miniconda3/envs/nuplan/lib/python3.9/site-packages/torch/nn/functional.py:718: UserWarning: Named tensors and all their associated APIs are an experimental feature and subject to change. Please do not use them for anything important until they are released as stable. (Triggered internally at  /pytorch/c10/core/TensorImpl.h:1156.)\n",
      "\u001b[2m\u001b[36m(wrapped_fn pid=32662)\u001b[0m   return torch.max_pool2d(input, kernel_size, stride, padding, dilation, ceil_mode)\n",
      "\u001b[2m\u001b[36m(wrapped_fn pid=32657)\u001b[0m /home/pat.karnchanachari/miniconda3/envs/nuplan/lib/python3.9/site-packages/torch/nn/functional.py:718: UserWarning: Named tensors and all their associated APIs are an experimental feature and subject to change. Please do not use them for anything important until they are released as stable. (Triggered internally at  /pytorch/c10/core/TensorImpl.h:1156.)\n",
      "\u001b[2m\u001b[36m(wrapped_fn pid=32657)\u001b[0m   return torch.max_pool2d(input, kernel_size, stride, padding, dilation, ceil_mode)\n",
      "\u001b[2m\u001b[36m(wrapped_fn pid=32652)\u001b[0m /home/pat.karnchanachari/miniconda3/envs/nuplan/lib/python3.9/site-packages/torch/nn/functional.py:718: UserWarning: Named tensors and all their associated APIs are an experimental feature and subject to change. Please do not use them for anything important until they are released as stable. (Triggered internally at  /pytorch/c10/core/TensorImpl.h:1156.)\n",
      "\u001b[2m\u001b[36m(wrapped_fn pid=32652)\u001b[0m   return torch.max_pool2d(input, kernel_size, stride, padding, dilation, ceil_mode)\n",
      "\u001b[2m\u001b[36m(wrapped_fn pid=32675)\u001b[0m /home/pat.karnchanachari/miniconda3/envs/nuplan/lib/python3.9/site-packages/torch/nn/functional.py:718: UserWarning: Named tensors and all their associated APIs are an experimental feature and subject to change. Please do not use them for anything important until they are released as stable. (Triggered internally at  /pytorch/c10/core/TensorImpl.h:1156.)\n",
      "\u001b[2m\u001b[36m(wrapped_fn pid=32675)\u001b[0m   return torch.max_pool2d(input, kernel_size, stride, padding, dilation, ceil_mode)\n",
      "\u001b[2m\u001b[36m(wrapped_fn pid=32650)\u001b[0m /home/pat.karnchanachari/miniconda3/envs/nuplan/lib/python3.9/site-packages/torch/nn/functional.py:718: UserWarning: Named tensors and all their associated APIs are an experimental feature and subject to change. Please do not use them for anything important until they are released as stable. (Triggered internally at  /pytorch/c10/core/TensorImpl.h:1156.)\n",
      "\u001b[2m\u001b[36m(wrapped_fn pid=32650)\u001b[0m   return torch.max_pool2d(input, kernel_size, stride, padding, dilation, ceil_mode)\n",
      "\u001b[2m\u001b[36m(wrapped_fn pid=32654)\u001b[0m /home/pat.karnchanachari/miniconda3/envs/nuplan/lib/python3.9/site-packages/torch/nn/functional.py:718: UserWarning: Named tensors and all their associated APIs are an experimental feature and subject to change. Please do not use them for anything important until they are released as stable. (Triggered internally at  /pytorch/c10/core/TensorImpl.h:1156.)\n",
      "\u001b[2m\u001b[36m(wrapped_fn pid=32654)\u001b[0m   return torch.max_pool2d(input, kernel_size, stride, padding, dilation, ceil_mode)\n",
      "\u001b[2m\u001b[36m(wrapped_fn pid=32665)\u001b[0m /home/pat.karnchanachari/miniconda3/envs/nuplan/lib/python3.9/site-packages/torch/nn/functional.py:718: UserWarning: Named tensors and all their associated APIs are an experimental feature and subject to change. Please do not use them for anything important until they are released as stable. (Triggered internally at  /pytorch/c10/core/TensorImpl.h:1156.)\n",
      "\u001b[2m\u001b[36m(wrapped_fn pid=32665)\u001b[0m   return torch.max_pool2d(input, kernel_size, stride, padding, dilation, ceil_mode)\n",
      "\u001b[2m\u001b[36m(wrapped_fn pid=32671)\u001b[0m /home/pat.karnchanachari/miniconda3/envs/nuplan/lib/python3.9/site-packages/torch/nn/functional.py:718: UserWarning: Named tensors and all their associated APIs are an experimental feature and subject to change. Please do not use them for anything important until they are released as stable. (Triggered internally at  /pytorch/c10/core/TensorImpl.h:1156.)\n",
      "\u001b[2m\u001b[36m(wrapped_fn pid=32671)\u001b[0m   return torch.max_pool2d(input, kernel_size, stride, padding, dilation, ceil_mode)\n",
      "\u001b[2m\u001b[36m(wrapped_fn pid=32674)\u001b[0m /home/pat.karnchanachari/miniconda3/envs/nuplan/lib/python3.9/site-packages/torch/nn/functional.py:718: UserWarning: Named tensors and all their associated APIs are an experimental feature and subject to change. Please do not use them for anything important until they are released as stable. (Triggered internally at  /pytorch/c10/core/TensorImpl.h:1156.)\n",
      "\u001b[2m\u001b[36m(wrapped_fn pid=32674)\u001b[0m   return torch.max_pool2d(input, kernel_size, stride, padding, dilation, ceil_mode)\n",
      "\u001b[2m\u001b[36m(wrapped_fn pid=32661)\u001b[0m /home/pat.karnchanachari/miniconda3/envs/nuplan/lib/python3.9/site-packages/torch/nn/functional.py:718: UserWarning: Named tensors and all their associated APIs are an experimental feature and subject to change. Please do not use them for anything important until they are released as stable. (Triggered internally at  /pytorch/c10/core/TensorImpl.h:1156.)\n",
      "\u001b[2m\u001b[36m(wrapped_fn pid=32661)\u001b[0m   return torch.max_pool2d(input, kernel_size, stride, padding, dilation, ceil_mode)\n",
      "\u001b[2m\u001b[36m(wrapped_fn pid=32672)\u001b[0m /home/pat.karnchanachari/miniconda3/envs/nuplan/lib/python3.9/site-packages/torch/nn/functional.py:718: UserWarning: Named tensors and all their associated APIs are an experimental feature and subject to change. Please do not use them for anything important until they are released as stable. (Triggered internally at  /pytorch/c10/core/TensorImpl.h:1156.)\n",
      "\u001b[2m\u001b[36m(wrapped_fn pid=32672)\u001b[0m   return torch.max_pool2d(input, kernel_size, stride, padding, dilation, ceil_mode)\n",
      "\u001b[2m\u001b[36m(wrapped_fn pid=32655)\u001b[0m /home/pat.karnchanachari/miniconda3/envs/nuplan/lib/python3.9/site-packages/torch/nn/functional.py:718: UserWarning: Named tensors and all their associated APIs are an experimental feature and subject to change. Please do not use them for anything important until they are released as stable. (Triggered internally at  /pytorch/c10/core/TensorImpl.h:1156.)\n",
      "\u001b[2m\u001b[36m(wrapped_fn pid=32655)\u001b[0m   return torch.max_pool2d(input, kernel_size, stride, padding, dilation, ceil_mode)\n",
      "\u001b[2m\u001b[36m(wrapped_fn pid=32660)\u001b[0m /home/pat.karnchanachari/miniconda3/envs/nuplan/lib/python3.9/site-packages/torch/nn/functional.py:718: UserWarning: Named tensors and all their associated APIs are an experimental feature and subject to change. Please do not use them for anything important until they are released as stable. (Triggered internally at  /pytorch/c10/core/TensorImpl.h:1156.)\n",
      "\u001b[2m\u001b[36m(wrapped_fn pid=32660)\u001b[0m   return torch.max_pool2d(input, kernel_size, stride, padding, dilation, ceil_mode)\n",
      "\u001b[2m\u001b[36m(wrapped_fn pid=32649)\u001b[0m /home/pat.karnchanachari/miniconda3/envs/nuplan/lib/python3.9/site-packages/torch/nn/functional.py:718: UserWarning: Named tensors and all their associated APIs are an experimental feature and subject to change. Please do not use them for anything important until they are released as stable. (Triggered internally at  /pytorch/c10/core/TensorImpl.h:1156.)\n",
      "\u001b[2m\u001b[36m(wrapped_fn pid=32649)\u001b[0m   return torch.max_pool2d(input, kernel_size, stride, padding, dilation, ceil_mode)\n",
      "\u001b[2m\u001b[36m(wrapped_fn pid=32666)\u001b[0m /home/pat.karnchanachari/miniconda3/envs/nuplan/lib/python3.9/site-packages/torch/nn/functional.py:718: UserWarning: Named tensors and all their associated APIs are an experimental feature and subject to change. Please do not use them for anything important until they are released as stable. (Triggered internally at  /pytorch/c10/core/TensorImpl.h:1156.)\n",
      "\u001b[2m\u001b[36m(wrapped_fn pid=32666)\u001b[0m   return torch.max_pool2d(input, kernel_size, stride, padding, dilation, ceil_mode)\n",
      "\u001b[2m\u001b[36m(wrapped_fn pid=32663)\u001b[0m /home/pat.karnchanachari/miniconda3/envs/nuplan/lib/python3.9/site-packages/torch/nn/functional.py:718: UserWarning: Named tensors and all their associated APIs are an experimental feature and subject to change. Please do not use them for anything important until they are released as stable. (Triggered internally at  /pytorch/c10/core/TensorImpl.h:1156.)\n",
      "\u001b[2m\u001b[36m(wrapped_fn pid=32663)\u001b[0m   return torch.max_pool2d(input, kernel_size, stride, padding, dilation, ceil_mode)\n"
     ]
    },
    {
     "name": "stderr",
     "output_type": "stream",
     "text": [
      "\u001b[2m\u001b[36m(wrapped_fn pid=32648)\u001b[0m /home/pat.karnchanachari/miniconda3/envs/nuplan/lib/python3.9/site-packages/torch/nn/functional.py:718: UserWarning: Named tensors and all their associated APIs are an experimental feature and subject to change. Please do not use them for anything important until they are released as stable. (Triggered internally at  /pytorch/c10/core/TensorImpl.h:1156.)\n",
      "\u001b[2m\u001b[36m(wrapped_fn pid=32648)\u001b[0m   return torch.max_pool2d(input, kernel_size, stride, padding, dilation, ceil_mode)\n",
      "\u001b[2m\u001b[36m(wrapped_fn pid=32656)\u001b[0m /home/pat.karnchanachari/miniconda3/envs/nuplan/lib/python3.9/site-packages/torch/nn/functional.py:718: UserWarning: Named tensors and all their associated APIs are an experimental feature and subject to change. Please do not use them for anything important until they are released as stable. (Triggered internally at  /pytorch/c10/core/TensorImpl.h:1156.)\n",
      "\u001b[2m\u001b[36m(wrapped_fn pid=32656)\u001b[0m   return torch.max_pool2d(input, kernel_size, stride, padding, dilation, ceil_mode)\n",
      "\u001b[2m\u001b[36m(wrapped_fn pid=32647)\u001b[0m /home/pat.karnchanachari/miniconda3/envs/nuplan/lib/python3.9/site-packages/torch/nn/functional.py:718: UserWarning: Named tensors and all their associated APIs are an experimental feature and subject to change. Please do not use them for anything important until they are released as stable. (Triggered internally at  /pytorch/c10/core/TensorImpl.h:1156.)\n",
      "\u001b[2m\u001b[36m(wrapped_fn pid=32647)\u001b[0m   return torch.max_pool2d(input, kernel_size, stride, padding, dilation, ceil_mode)\n",
      "\u001b[2m\u001b[36m(wrapped_fn pid=32651)\u001b[0m /home/pat.karnchanachari/miniconda3/envs/nuplan/lib/python3.9/site-packages/torch/nn/functional.py:718: UserWarning: Named tensors and all their associated APIs are an experimental feature and subject to change. Please do not use them for anything important until they are released as stable. (Triggered internally at  /pytorch/c10/core/TensorImpl.h:1156.)\n",
      "\u001b[2m\u001b[36m(wrapped_fn pid=32651)\u001b[0m   return torch.max_pool2d(input, kernel_size, stride, padding, dilation, ceil_mode)\n",
      "\u001b[2m\u001b[36m(wrapped_fn pid=32658)\u001b[0m /home/pat.karnchanachari/miniconda3/envs/nuplan/lib/python3.9/site-packages/torch/nn/functional.py:718: UserWarning: Named tensors and all their associated APIs are an experimental feature and subject to change. Please do not use them for anything important until they are released as stable. (Triggered internally at  /pytorch/c10/core/TensorImpl.h:1156.)\n",
      "\u001b[2m\u001b[36m(wrapped_fn pid=32658)\u001b[0m   return torch.max_pool2d(input, kernel_size, stride, padding, dilation, ceil_mode)\n",
      "\u001b[2m\u001b[36m(wrapped_fn pid=32673)\u001b[0m /home/pat.karnchanachari/miniconda3/envs/nuplan/lib/python3.9/site-packages/torch/nn/functional.py:718: UserWarning: Named tensors and all their associated APIs are an experimental feature and subject to change. Please do not use them for anything important until they are released as stable. (Triggered internally at  /pytorch/c10/core/TensorImpl.h:1156.)\n",
      "\u001b[2m\u001b[36m(wrapped_fn pid=32673)\u001b[0m   return torch.max_pool2d(input, kernel_size, stride, padding, dilation, ceil_mode)\n",
      "\u001b[2m\u001b[36m(wrapped_fn pid=32676)\u001b[0m /home/pat.karnchanachari/miniconda3/envs/nuplan/lib/python3.9/site-packages/torch/nn/functional.py:718: UserWarning: Named tensors and all their associated APIs are an experimental feature and subject to change. Please do not use them for anything important until they are released as stable. (Triggered internally at  /pytorch/c10/core/TensorImpl.h:1156.)\n",
      "\u001b[2m\u001b[36m(wrapped_fn pid=32676)\u001b[0m   return torch.max_pool2d(input, kernel_size, stride, padding, dilation, ceil_mode)\n",
      "\u001b[2m\u001b[36m(wrapped_fn pid=32678)\u001b[0m /home/pat.karnchanachari/miniconda3/envs/nuplan/lib/python3.9/site-packages/torch/nn/functional.py:718: UserWarning: Named tensors and all their associated APIs are an experimental feature and subject to change. Please do not use them for anything important until they are released as stable. (Triggered internally at  /pytorch/c10/core/TensorImpl.h:1156.)\n",
      "\u001b[2m\u001b[36m(wrapped_fn pid=32678)\u001b[0m   return torch.max_pool2d(input, kernel_size, stride, padding, dilation, ceil_mode)\n",
      "\u001b[2m\u001b[36m(wrapped_fn pid=32659)\u001b[0m /home/pat.karnchanachari/miniconda3/envs/nuplan/lib/python3.9/site-packages/torch/nn/functional.py:718: UserWarning: Named tensors and all their associated APIs are an experimental feature and subject to change. Please do not use them for anything important until they are released as stable. (Triggered internally at  /pytorch/c10/core/TensorImpl.h:1156.)\n",
      "\u001b[2m\u001b[36m(wrapped_fn pid=32659)\u001b[0m   return torch.max_pool2d(input, kernel_size, stride, padding, dilation, ceil_mode)\n",
      "\u001b[2m\u001b[36m(wrapped_fn pid=32664)\u001b[0m /home/pat.karnchanachari/miniconda3/envs/nuplan/lib/python3.9/site-packages/torch/nn/functional.py:718: UserWarning: Named tensors and all their associated APIs are an experimental feature and subject to change. Please do not use them for anything important until they are released as stable. (Triggered internally at  /pytorch/c10/core/TensorImpl.h:1156.)\n",
      "\u001b[2m\u001b[36m(wrapped_fn pid=32664)\u001b[0m   return torch.max_pool2d(input, kernel_size, stride, padding, dilation, ceil_mode)\n",
      "\u001b[2m\u001b[36m(wrapped_fn pid=32677)\u001b[0m /home/pat.karnchanachari/miniconda3/envs/nuplan/lib/python3.9/site-packages/torch/nn/functional.py:718: UserWarning: Named tensors and all their associated APIs are an experimental feature and subject to change. Please do not use them for anything important until they are released as stable. (Triggered internally at  /pytorch/c10/core/TensorImpl.h:1156.)\n",
      "\u001b[2m\u001b[36m(wrapped_fn pid=32677)\u001b[0m   return torch.max_pool2d(input, kernel_size, stride, padding, dilation, ceil_mode)\n",
      "\u001b[2m\u001b[36m(wrapped_fn pid=32669)\u001b[0m /home/pat.karnchanachari/miniconda3/envs/nuplan/lib/python3.9/site-packages/torch/nn/functional.py:718: UserWarning: Named tensors and all their associated APIs are an experimental feature and subject to change. Please do not use them for anything important until they are released as stable. (Triggered internally at  /pytorch/c10/core/TensorImpl.h:1156.)\n",
      "\u001b[2m\u001b[36m(wrapped_fn pid=32669)\u001b[0m   return torch.max_pool2d(input, kernel_size, stride, padding, dilation, ceil_mode)\n",
      "\u001b[2m\u001b[36m(wrapped_fn pid=32653)\u001b[0m /home/pat.karnchanachari/miniconda3/envs/nuplan/lib/python3.9/site-packages/torch/nn/functional.py:718: UserWarning: Named tensors and all their associated APIs are an experimental feature and subject to change. Please do not use them for anything important until they are released as stable. (Triggered internally at  /pytorch/c10/core/TensorImpl.h:1156.)\n",
      "\u001b[2m\u001b[36m(wrapped_fn pid=32653)\u001b[0m   return torch.max_pool2d(input, kernel_size, stride, padding, dilation, ceil_mode)\n"
     ]
    }
   ],
   "source": [
    "# Location of path with all simulation configs\n",
    "CONFIG_PATH = '../nuplan/planning/script/config/simulation'\n",
    "CONFIG_NAME = 'default_simulation'\n",
    "\n",
    "# Get the checkpoint of the trained model\n",
    "last_experiment = sorted(os.listdir(LOG_DIR))[-1]\n",
    "train_experiment_dir = sorted(LOG_DIR.iterdir())[-1]\n",
    "checkpoint = sorted((train_experiment_dir / 'checkpoints').iterdir())[-1]\n",
    "\n",
    "MODEL_PATH = str(checkpoint).replace(\"=\", \"\\=\")\n",
    "\n",
    "# Name of the experiment\n",
    "EXPERIMENT = 'simulation_raster_experiment'\n",
    "\n",
    "# Initialize configuration management system\n",
    "hydra.core.global_hydra.GlobalHydra.instance().clear()  # reinitialize hydra if already initialized\n",
    "hydra.initialize(config_path=CONFIG_PATH)\n",
    "\n",
    "# Compose the configuration\n",
    "cfg = hydra.compose(config_name=CONFIG_NAME, overrides=[\n",
    "    f'experiment_name={EXPERIMENT}',\n",
    "    f'group={SAVE_DIR}',\n",
    "    'planner=ml_planner',\n",
    "    'model=raster_model',\n",
    "    'planner.ml_planner.model_config=${model}',  # hydra notation to select model config\n",
    "    f'planner.ml_planner.checkpoint_path={MODEL_PATH}',  # this path can be replaced by the checkpoint of the model trained in the previous section\n",
    "    f'+simulation={CHALLENGE}',\n",
    "    *DATASET_PARAMS,\n",
    "])\n",
    "\n",
    "# Run the simulation loop\n",
    "main_simulation(cfg)\n",
    "\n",
    "# ML_planner simulation folder for visualization in nuBoard (next section)\n",
    "ml_planner_simulation_folder = cfg.output_dir"
   ]
  },
  {
   "cell_type": "markdown",
   "id": "ae7a31f9",
   "metadata": {},
   "source": [
    "# Visualizing metrics and scenarios <a name=\"dashboard\"></a>"
   ]
  },
  {
   "cell_type": "markdown",
   "id": "fa24ae5b",
   "metadata": {},
   "source": [
    "## nuBoard summary\n",
    "\n",
    "Having trained and simulated planners across various scenarios and driving behaviors, it's time to evaluate them:\n",
    "* quantitatively, through common and scenario dependent metrics\n",
    "* qualitatively, through visualization of scenario progression\n",
    "\n",
    "### nuBoard tabs\n",
    "To achieve that, nuBoard has 3 core evaluation tabs:\n",
    "1. Overview - Scalar metrics summary of common and scenario metrics across the following categories:\n",
    "    * Ego dynamics\n",
    "    * Traffic violations\n",
    "    * Expert imitation\n",
    "    * Planning & navigation\n",
    "    * Scenario performance\n",
    "2. Histograms - Histograms over metric statistics for more a granular peek inside each metric focusing on:\n",
    "    * Metric statistics (e.g. min, max, p90)\n",
    "3. Scenarios - Low-level scenario visualizations:\n",
    "    * Time-series progression of a specific metric across a scenario\n",
    "    * Top-down visualization of the scenario across time for comparing predicted vs. expert trajectories\n",
    "\n",
    "In addition, there is a main configuration tab for selecting different simulation files for comparing planners/experiments.\n",
    "\n",
    "<br />\n",
    "\n",
    "**NOTE**: nuBoard is under heavy developement, overall functionality and aesthetics do not represent the final product!"
   ]
  },
  {
   "cell_type": "markdown",
   "id": "1d8edb17",
   "metadata": {},
   "source": [
    "## Prepare the nuBoard config"
   ]
  },
  {
   "cell_type": "code",
   "execution_count": null,
   "id": "42434f46",
   "metadata": {},
   "outputs": [],
   "source": [
    "# Location of path with all nuBoard configs\n",
    "CONFIG_PATH = '../nuplan/planning/script/config/nuboard'\n",
    "CONFIG_NAME = 'default_nuboard'\n",
    "\n",
    "# Initialize configuration management system\n",
    "hydra.core.global_hydra.GlobalHydra.instance().clear()  # reinitialize hydra if already initialized\n",
    "hydra.initialize(config_path=CONFIG_PATH)\n",
    "\n",
    "# Compose the configuration\n",
    "cfg = hydra.compose(config_name=CONFIG_NAME, overrides=[\n",
    "    'scenario_builder=nuplan_mini',  # set the database (same as simulation) used to fetch data for visualization\n",
    "    f'simulation_path={[simple_simulation_folder, ml_planner_simulation_folder]}',  # nuboard file path(s), if left empty the user can open the file inside nuBoard\n",
    "])"
   ]
  },
  {
   "cell_type": "markdown",
   "id": "3420d0c5",
   "metadata": {},
   "source": [
    "## Launch nuBoard (open in new tab - recommended)"
   ]
  },
  {
   "cell_type": "code",
   "execution_count": null,
   "id": "f114e9bf",
   "metadata": {
    "scrolled": false
   },
   "outputs": [],
   "source": [
    "from nuplan.planning.script.run_nuboard import main as main_nuboard\n",
    "\n",
    "# Run nuBoard\n",
    "main_nuboard(cfg)"
   ]
  },
  {
   "cell_type": "markdown",
   "id": "177cd444",
   "metadata": {},
   "source": [
    "## Launch nuBoard (embedded within the notebook - alternative)"
   ]
  },
  {
   "cell_type": "code",
   "execution_count": null,
   "id": "cd4b6454",
   "metadata": {},
   "outputs": [],
   "source": [
    "from bokeh.io import show, output_notebook\n",
    "from nuplan.planning.script.run_nuboard import initialize_nuboard\n",
    "\n",
    "# Make sure that the notebook working directory is \"/notebooks\" and that Jupyter was launched at the root of the repo\n",
    "cfg.resource_prefix = '/notebooks/nuplan/planning/metrics/board/'  # pass CSS resources to the notebook\n",
    "\n",
    "# Run the nuBoard\n",
    "output_notebook()\n",
    "nuboard = initialize_nuboard(cfg)\n",
    "show(nuboard.main_page)"
   ]
  },
  {
   "cell_type": "markdown",
   "id": "4624979a",
   "metadata": {},
   "source": [
    "## Launch nuBoard (command line - alternative)"
   ]
  },
  {
   "cell_type": "markdown",
   "id": "557156ac",
   "metadata": {},
   "source": [
    "nuBoard can be launched alternatively with:\n",
    "```\n",
    "$ python nuplan/planning/script/run_nuboard.py\n",
    "```\n",
    "\n",
    "Simulation files (.nuboard) can be selected under the configuration tab."
   ]
  }
 ],
 "metadata": {
  "interpreter": {
   "hash": "5aea00fa936a67f14323fa2d54163d7dc1f328c617e433b03a680f73ee2dd426"
  },
  "kernelspec": {
   "display_name": "nuplan",
   "language": "python",
   "name": "nuplan"
  },
  "language_info": {
   "codemirror_mode": {
    "name": "ipython",
    "version": 3
   },
   "file_extension": ".py",
   "mimetype": "text/x-python",
   "name": "python",
   "nbconvert_exporter": "python",
   "pygments_lexer": "ipython3",
   "version": "3.9.7"
  }
 },
 "nbformat": 4,
 "nbformat_minor": 5
}
